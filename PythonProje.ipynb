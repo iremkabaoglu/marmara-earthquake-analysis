{
 "cells": [
  {
   "cell_type": "markdown",
   "id": "7c7f27ec-03dd-47aa-93b9-0febada980e5",
   "metadata": {},
   "source": [
    "# Marmara Fayı – Deprem Etkileşimleri (2000–2025) Veri Analizi\n",
    "Bu çalışma, Python ile Veri Analizi ödevi kapsamında hazırlanmıştır."
   ]
  },
  {
   "cell_type": "code",
   "execution_count": 3,
   "id": "608c6323-2d7f-469f-89b1-d4d445767a77",
   "metadata": {},
   "outputs": [],
   "source": [
    "import pandas as pd"
   ]
  },
  {
   "cell_type": "markdown",
   "id": "96909fbb-e85e-462c-bec5-de79fa6ee7fb",
   "metadata": {},
   "source": [
    "#####  1-) Veri setini pandas dataFrame ile okuyunuz. "
   ]
  },
  {
   "cell_type": "code",
   "execution_count": 7,
   "id": "6ea521ad-acf5-4377-82f9-6236de27f149",
   "metadata": {},
   "outputs": [],
   "source": [
    "df = pd.read_csv(r'C:\\Users\\USER\\Desktop\\Son Yarıyıl\\Python ile Veri Analizi\\marmara_faults_earthquakes_2000_2025.csv')\n"
   ]
  },
  {
   "cell_type": "code",
   "execution_count": 9,
   "id": "2cf12afb-06fc-4fdc-9af7-be73495ed28a",
   "metadata": {},
   "outputs": [],
   "source": [
    "kabaoglu_DF = df.copy()"
   ]
  },
  {
   "cell_type": "markdown",
   "id": "ba9bdc31-8052-4260-a1da-f9419e6df5c2",
   "metadata": {},
   "source": [
    "##### 2-)DataFrame verileri ile ilgili özet bilgileri ekranda gösteriniz. "
   ]
  },
  {
   "cell_type": "code",
   "execution_count": 11,
   "id": "e9a458e5-0aab-410d-9af5-00c48b9c3103",
   "metadata": {},
   "outputs": [
    {
     "name": "stdout",
     "output_type": "stream",
     "text": [
      "<class 'pandas.core.frame.DataFrame'>\n",
      "RangeIndex: 21605 entries, 0 to 21604\n",
      "Data columns (total 23 columns):\n",
      " #   Column                    Non-Null Count  Dtype  \n",
      "---  ------                    --------------  -----  \n",
      " 0   Date                      21605 non-null  object \n",
      " 1   Latitude                  21605 non-null  float64\n",
      " 2   Longitude                 21605 non-null  float64\n",
      " 3   Depth_km                  21605 non-null  float64\n",
      " 4   Magnitude_ML              21605 non-null  float64\n",
      " 5   Location                  21605 non-null  object \n",
      " 6   Nearest_Fault             21605 non-null  object \n",
      " 7   Fault_Length_km           21605 non-null  float64\n",
      " 8   Fault_Width_m             21605 non-null  float64\n",
      " 9   Fault_Depth_m             21605 non-null  float64\n",
      " 10  Fault_Type                21605 non-null  object \n",
      " 11  Length_km                 21605 non-null  float64\n",
      " 12  Seismogenic_Depth_km      21605 non-null  float64\n",
      " 13  Slip_Rate_mm_per_yr       21605 non-null  float64\n",
      " 14  Max_Surface_Slip_m        21605 non-null  float64\n",
      " 15  Recurrence_Interval_yr    21605 non-null  float64\n",
      " 16  Last_Event_Year           21605 non-null  float64\n",
      " 17  Last_Event_Mw             21605 non-null  float64\n",
      " 18  Elapsed_Time_yr           21605 non-null  float64\n",
      " 19  Slip_Deficit_m            21605 non-null  float64\n",
      " 20  Normalized_Slip_m_per_km  21605 non-null  float64\n",
      " 21  Moment_Potential_Nm       21605 non-null  float64\n",
      " 22  Mw_Potential              21605 non-null  float64\n",
      "dtypes: float64(19), object(4)\n",
      "memory usage: 3.8+ MB\n"
     ]
    }
   ],
   "source": [
    "kabaoglu_DF.info()\n"
   ]
  },
  {
   "cell_type": "markdown",
   "id": "e084de97-3b07-4860-9f55-d339a2087f57",
   "metadata": {},
   "source": [
    "##### 3-) pandas kütüphanesi versiyonu bulunuz. "
   ]
  },
  {
   "cell_type": "code",
   "execution_count": 13,
   "id": "f29c1996-a5ce-4bd6-bc01-32bd7bd5b79a",
   "metadata": {},
   "outputs": [
    {
     "data": {
      "text/plain": [
       "'2.2.2'"
      ]
     },
     "execution_count": 13,
     "metadata": {},
     "output_type": "execute_result"
    }
   ],
   "source": [
    "pd.__version__\n"
   ]
  },
  {
   "cell_type": "markdown",
   "id": "25e5c414-1bcd-4d86-b8af-62d162ae15b5",
   "metadata": {},
   "source": [
    "##### 4-) Install edilen kütüphaneleri listeleyiniz. "
   ]
  },
  {
   "cell_type": "code",
   "execution_count": 15,
   "id": "6507b544-ef9b-470d-8dbf-1874ebe08a64",
   "metadata": {},
   "outputs": [
    {
     "name": "stdout",
     "output_type": "stream",
     "text": [
      "Package                           Version\n",
      "--------------------------------- ------------------\n",
      "absl-py                           2.1.0\n",
      "aext-assistant                    4.1.0\n",
      "aext-assistant-server             4.1.0\n",
      "aext-core                         4.1.0\n",
      "aext-core-server                  4.1.0\n",
      "aext-panels                       4.1.0\n",
      "aext-panels-server                4.1.0\n",
      "aext-project-filebrowser-server   4.1.0\n",
      "aext-share-notebook               4.1.0\n",
      "aext-share-notebook-server        4.1.0\n",
      "aext-shared                       4.1.0\n",
      "aext-toolbox                      4.1.0\n",
      "aiobotocore                       2.12.3\n",
      "aiohappyeyeballs                  2.4.0\n",
      "aiohttp                           3.10.5\n",
      "aioitertools                      0.7.1\n",
      "aiosignal                         1.2.0\n",
      "alabaster                         0.7.16\n",
      "alembic                           1.13.3\n",
      "altair                            5.0.1\n",
      "anaconda-anon-usage               0.4.4\n",
      "anaconda-catalogs                 0.2.0\n",
      "anaconda-cli-base                 0.4.2\n",
      "anaconda-client                   1.13.0\n",
      "anaconda-cloud-auth               0.7.2\n",
      "anaconda-navigator                2.6.3\n",
      "anaconda-project                  0.11.1\n",
      "annotated-types                   0.6.0\n",
      "anyio                             4.2.0\n",
      "appdirs                           1.4.4\n",
      "archspec                          0.2.3\n",
      "argon2-cffi                       21.3.0\n",
      "argon2-cffi-bindings              21.2.0\n",
      "arrow                             1.2.3\n",
      "astroid                           2.14.2\n",
      "astropy                           6.1.3\n",
      "astropy-iers-data                 0.2024.9.2.0.33.23\n",
      "asttokens                         2.0.5\n",
      "astunparse                        1.6.3\n",
      "async-lru                         2.0.4\n",
      "atomicwrites                      1.4.0\n",
      "attrs                             23.1.0\n",
      "Automat                           20.2.0\n",
      "autopep8                          2.0.4\n",
      "Babel                             2.11.0\n",
      "bcrypt                            3.2.0\n",
      "beautifulsoup4                    4.12.3\n",
      "binaryornot                       0.4.4\n",
      "black                             24.8.0\n",
      "bleach                            4.1.0\n",
      "blinker                           1.6.2\n",
      "bokeh                             3.6.0\n",
      "boltons                           23.0.0\n",
      "botocore                          1.34.69\n",
      "Bottleneck                        1.3.7\n",
      "Brotli                            1.0.9\n",
      "cachetools                        5.3.3\n",
      "certifi                           2025.1.31\n",
      "cffi                              1.17.1\n",
      "chardet                           4.0.0\n",
      "charset-normalizer                3.3.2\n",
      "click                             8.1.7\n",
      "cloudpickle                       3.0.0\n",
      "colorama                          0.4.6\n",
      "colorcet                          3.1.0\n",
      "comm                              0.2.1\n",
      "conda                             24.11.3\n",
      "conda-build                       24.9.0\n",
      "conda-content-trust               0.2.0\n",
      "conda_index                       0.5.0\n",
      "conda-libmamba-solver             24.9.0\n",
      "conda-pack                        0.7.1\n",
      "conda-package-handling            2.3.0\n",
      "conda_package_streaming           0.10.0\n",
      "conda-repo-cli                    1.0.114\n",
      "conda-token                       0.5.0+1.g2209e04\n",
      "constantly                        23.10.4\n",
      "contourpy                         1.2.0\n",
      "cookiecutter                      2.6.0\n",
      "cryptography                      43.0.0\n",
      "cssselect                         1.2.0\n",
      "cycler                            0.11.0\n",
      "cytoolz                           0.12.2\n",
      "dask                              2024.8.2\n",
      "dask-expr                         1.1.13\n",
      "datashader                        0.16.3\n",
      "debugpy                           1.6.7\n",
      "decorator                         5.1.1\n",
      "defusedxml                        0.7.1\n",
      "diff-match-patch                  20200713\n",
      "dill                              0.3.8\n",
      "distributed                       2024.8.2\n",
      "distro                            1.9.0\n",
      "docstring-to-markdown             0.11\n",
      "docutils                          0.18.1\n",
      "et-xmlfile                        1.1.0\n",
      "executing                         0.8.3\n",
      "fastjsonschema                    2.16.2\n",
      "filelock                          3.13.1\n",
      "flake8                            7.0.0\n",
      "Flask                             3.0.3\n",
      "flatbuffers                       25.2.10\n",
      "fonttools                         4.51.0\n",
      "frozendict                        2.4.2\n",
      "frozenlist                        1.4.0\n",
      "fsspec                            2024.6.1\n",
      "gast                              0.6.0\n",
      "gensim                            4.3.3\n",
      "gitdb                             4.0.7\n",
      "GitPython                         3.1.43\n",
      "google-pasta                      0.2.0\n",
      "greenlet                          3.0.1\n",
      "grpcio                            1.70.0\n",
      "h11                               0.14.0\n",
      "h5py                              3.11.0\n",
      "HeapDict                          1.0.1\n",
      "holoviews                         1.19.1\n",
      "httpcore                          1.0.2\n",
      "httpx                             0.27.0\n",
      "hvplot                            0.11.0\n",
      "hyperlink                         21.0.0\n",
      "idna                              3.7\n",
      "imagecodecs                       2023.1.23\n",
      "imageio                           2.33.1\n",
      "imagesize                         1.4.1\n",
      "imbalanced-learn                  0.12.3\n",
      "importlib-metadata                7.0.1\n",
      "incremental                       22.10.0\n",
      "inflection                        0.5.1\n",
      "iniconfig                         1.1.1\n",
      "intake                            2.0.7\n",
      "intervaltree                      3.1.0\n",
      "ipykernel                         6.28.0\n",
      "ipython                           8.27.0\n",
      "ipython-genutils                  0.2.0\n",
      "ipywidgets                        7.8.1\n",
      "isort                             5.13.2\n",
      "itemadapter                       0.3.0\n",
      "itemloaders                       1.1.0\n",
      "itsdangerous                      2.2.0\n",
      "jaraco.classes                    3.2.1\n",
      "jedi                              0.19.1\n",
      "jellyfish                         1.0.1\n",
      "Jinja2                            3.1.4\n",
      "jmespath                          1.0.1\n",
      "joblib                            1.4.2\n",
      "json5                             0.9.6\n",
      "jsonpatch                         1.33\n",
      "jsonpointer                       2.1\n",
      "jsonschema                        4.23.0\n",
      "jsonschema-specifications         2023.7.1\n",
      "jupyter                           1.1.1\n",
      "jupyter_client                    8.6.0\n",
      "jupyter-console                   6.6.3\n",
      "jupyter_core                      5.7.2\n",
      "jupyter-events                    0.10.0\n",
      "jupyter-lsp                       2.2.0\n",
      "jupyter_server                    2.14.1\n",
      "jupyter_server_terminals          0.4.4\n",
      "jupyterlab                        4.2.5\n",
      "jupyterlab-pygments               0.1.2\n",
      "jupyterlab_server                 2.27.3\n",
      "jupyterlab-widgets                1.0.0\n",
      "keras                             3.8.0\n",
      "keyring                           24.3.1\n",
      "kiwisolver                        1.4.4\n",
      "lazy_loader                       0.4\n",
      "lazy-object-proxy                 1.10.0\n",
      "lckr_jupyterlab_variableinspector 3.1.0\n",
      "libarchive-c                      5.1\n",
      "libclang                          18.1.1\n",
      "libmambapy                        1.5.8\n",
      "linkify-it-py                     2.0.0\n",
      "llvmlite                          0.43.0\n",
      "lmdb                              1.4.1\n",
      "locket                            1.0.0\n",
      "lxml                              5.2.1\n",
      "lz4                               4.3.2\n",
      "Mako                              1.2.3\n",
      "Markdown                          3.4.1\n",
      "markdown-it-py                    2.2.0\n",
      "MarkupSafe                        2.1.3\n",
      "matplotlib                        3.9.2\n",
      "matplotlib-inline                 0.1.6\n",
      "mccabe                            0.7.0\n",
      "mdit-py-plugins                   0.3.0\n",
      "mdurl                             0.1.0\n",
      "menuinst                          2.1.2\n",
      "mistune                           2.0.4\n",
      "mkl_fft                           1.3.10\n",
      "mkl_random                        1.2.7\n",
      "mkl-service                       2.4.0\n",
      "ml-dtypes                         0.4.1\n",
      "more-itertools                    10.3.0\n",
      "mpmath                            1.3.0\n",
      "msgpack                           1.0.3\n",
      "multidict                         6.0.4\n",
      "multipledispatch                  0.6.0\n",
      "mypy                              1.11.2\n",
      "mypy-extensions                   1.0.0\n",
      "namex                             0.0.8\n",
      "navigator-updater                 0.5.1\n",
      "nb_conda_kernels                  2.5.2\n",
      "nbclient                          0.8.0\n",
      "nbconvert                         7.16.4\n",
      "nbformat                          5.10.4\n",
      "nest-asyncio                      1.6.0\n",
      "networkx                          3.3\n",
      "nltk                              3.9.1\n",
      "notebook                          7.2.2\n",
      "notebook_shim                     0.2.3\n",
      "numba                             0.60.0\n",
      "numexpr                           2.8.7\n",
      "numpy                             1.26.4\n",
      "numpydoc                          1.7.0\n",
      "opencv-python                     4.11.0.86\n",
      "openpyxl                          3.1.5\n",
      "opt_einsum                        3.4.0\n",
      "optree                            0.14.0\n",
      "overrides                         7.4.0\n",
      "packaging                         24.1\n",
      "pandas                            2.2.2\n",
      "pandocfilters                     1.5.0\n",
      "panel                             1.5.2\n",
      "param                             2.1.1\n",
      "paramiko                          2.8.1\n",
      "parsel                            1.8.1\n",
      "parso                             0.8.3\n",
      "partd                             1.4.1\n",
      "pathspec                          0.10.3\n",
      "patsy                             0.5.6\n",
      "pexpect                           4.8.0\n",
      "pickleshare                       0.7.5\n",
      "pillow                            10.4.0\n",
      "pip                               24.2\n",
      "pkce                              1.0.3\n",
      "pkginfo                           1.10.0\n",
      "platformdirs                      3.10.0\n",
      "plotly                            5.24.1\n",
      "pluggy                            1.0.0\n",
      "ply                               3.11\n",
      "prometheus-client                 0.14.1\n",
      "prompt-toolkit                    3.0.43\n",
      "Protego                           0.1.16\n",
      "protobuf                          4.25.3\n",
      "psutil                            5.9.0\n",
      "ptyprocess                        0.7.0\n",
      "pure-eval                         0.2.2\n",
      "py-cpuinfo                        9.0.0\n",
      "pyarrow                           16.1.0\n",
      "pyasn1                            0.4.8\n",
      "pyasn1-modules                    0.2.8\n",
      "pycodestyle                       2.11.1\n",
      "pycosat                           0.6.6\n",
      "pycparser                         2.21\n",
      "pyct                              0.5.0\n",
      "pycurl                            7.45.3\n",
      "pydantic                          2.8.2\n",
      "pydantic_core                     2.20.1\n",
      "pydantic-settings                 2.6.1\n",
      "pydeck                            0.8.0\n",
      "PyDispatcher                      2.0.5\n",
      "pydocstyle                        6.3.0\n",
      "pyerfa                            2.0.1.4\n",
      "pyflakes                          3.2.0\n",
      "Pygments                          2.15.1\n",
      "PyJWT                             2.8.0\n",
      "pylint                            2.16.2\n",
      "pylint-venv                       3.0.3\n",
      "pyls-spyder                       0.4.0\n",
      "PyNaCl                            1.5.0\n",
      "pyodbc                            5.1.0\n",
      "pyOpenSSL                         24.2.1\n",
      "pyparsing                         3.1.2\n",
      "PyQt5                             5.15.10\n",
      "PyQt5-sip                         12.13.0\n",
      "PyQtWebEngine                     5.15.6\n",
      "PySocks                           1.7.1\n",
      "pytest                            7.4.4\n",
      "python-dateutil                   2.9.0.post0\n",
      "python-dotenv                     0.21.0\n",
      "python-json-logger                2.0.7\n",
      "python-lsp-black                  2.0.0\n",
      "python-lsp-jsonrpc                1.1.2\n",
      "python-lsp-server                 1.10.0\n",
      "python-slugify                    5.0.2\n",
      "pytoolconfig                      1.2.6\n",
      "pytz                              2024.1\n",
      "pyviz_comms                       3.0.2\n",
      "PyWavelets                        1.7.0\n",
      "pywin32                           305.1\n",
      "pywin32-ctypes                    0.2.2\n",
      "pywinpty                          2.0.10\n",
      "PyYAML                            6.0.1\n",
      "pyzmq                             25.1.2\n",
      "QDarkStyle                        3.2.3\n",
      "qstylizer                         0.2.2\n",
      "QtAwesome                         1.3.1\n",
      "qtconsole                         5.5.1\n",
      "QtPy                              2.4.1\n",
      "queuelib                          1.6.2\n",
      "readchar                          4.0.5\n",
      "referencing                       0.30.2\n",
      "regex                             2024.9.11\n",
      "requests                          2.32.3\n",
      "requests-file                     1.5.1\n",
      "requests-toolbelt                 1.0.0\n",
      "rfc3339-validator                 0.1.4\n",
      "rfc3986-validator                 0.1.1\n",
      "rich                              13.7.1\n",
      "rope                              1.12.0\n",
      "rpds-py                           0.10.6\n",
      "Rtree                             1.0.1\n",
      "ruamel.yaml                       0.18.6\n",
      "ruamel.yaml.clib                  0.2.8\n",
      "ruamel-yaml-conda                 0.17.21\n",
      "s3fs                              2024.6.1\n",
      "scikit-image                      0.24.0\n",
      "scikit-learn                      1.5.1\n",
      "scipy                             1.13.1\n",
      "Scrapy                            2.11.1\n",
      "seaborn                           0.13.2\n",
      "semver                            3.0.2\n",
      "Send2Trash                        1.8.2\n",
      "sentry-sdk                        2.18.0\n",
      "service-identity                  18.1.0\n",
      "setuptools                        75.1.0\n",
      "shellingham                       1.5.0\n",
      "sip                               6.7.12\n",
      "six                               1.16.0\n",
      "smart-open                        5.2.1\n",
      "smmap                             4.0.0\n",
      "sniffio                           1.3.0\n",
      "snowballstemmer                   2.2.0\n",
      "sortedcontainers                  2.4.0\n",
      "soupsieve                         2.5\n",
      "Sphinx                            7.3.7\n",
      "sphinxcontrib-applehelp           1.0.2\n",
      "sphinxcontrib-devhelp             1.0.2\n",
      "sphinxcontrib-htmlhelp            2.0.0\n",
      "sphinxcontrib-jsmath              1.0.1\n",
      "sphinxcontrib-qthelp              1.0.3\n",
      "sphinxcontrib-serializinghtml     1.1.10\n",
      "spyder                            5.5.1\n",
      "spyder-kernels                    2.5.0\n",
      "SQLAlchemy                        2.0.34\n",
      "stack-data                        0.2.0\n",
      "statsmodels                       0.14.2\n",
      "streamlit                         1.37.1\n",
      "sympy                             1.13.2\n",
      "tables                            3.10.1\n",
      "tabulate                          0.9.0\n",
      "tblib                             1.7.0\n",
      "tenacity                          8.2.3\n",
      "tensorboard                       2.18.0\n",
      "tensorboard-data-server           0.7.2\n",
      "tensorflow                        2.18.0\n",
      "tensorflow_intel                  2.18.0\n",
      "termcolor                         2.5.0\n",
      "terminado                         0.17.1\n",
      "text-unidecode                    1.3\n",
      "textdistance                      4.2.1\n",
      "threadpoolctl                     3.5.0\n",
      "three-merge                       0.1.1\n",
      "tifffile                          2023.4.12\n",
      "tinycss2                          1.2.1\n",
      "tldextract                        5.1.2\n",
      "toml                              0.10.2\n",
      "tomli                             2.0.1\n",
      "tomlkit                           0.11.1\n",
      "toolz                             0.12.0\n",
      "tornado                           6.4.1\n",
      "tqdm                              4.66.5\n",
      "traitlets                         5.14.3\n",
      "truststore                        0.8.0\n",
      "Twisted                           23.10.0\n",
      "twisted-iocpsupport               1.0.2\n",
      "typer                             0.9.0\n",
      "typing_extensions                 4.11.0\n",
      "tzdata                            2023.3\n",
      "uc-micro-py                       1.0.1\n",
      "ujson                             5.10.0\n",
      "unicodedata2                      15.1.0\n",
      "Unidecode                         1.3.8\n",
      "urllib3                           2.2.3\n",
      "w3lib                             2.1.2\n",
      "watchdog                          4.0.1\n",
      "wcwidth                           0.2.5\n",
      "webencodings                      0.5.1\n",
      "websocket-client                  1.8.0\n",
      "Werkzeug                          3.0.3\n",
      "whatthepatch                      1.0.2\n",
      "wheel                             0.44.0\n",
      "widgetsnbextension                3.6.6\n",
      "win-inet-pton                     1.1.0\n",
      "wrapt                             1.14.1\n",
      "xarray                            2023.6.0\n",
      "xlwings                           0.32.1\n",
      "xyzservices                       2022.9.0\n",
      "yapf                              0.40.2\n",
      "yarl                              1.11.0\n",
      "zict                              3.0.0\n",
      "zipp                              3.17.0\n",
      "zope.interface                    5.4.0\n",
      "zstandard                         0.23.0\n"
     ]
    }
   ],
   "source": [
    "!pip list"
   ]
  },
  {
   "cell_type": "markdown",
   "id": "2e7e2c00-a18c-44b9-9e17-94b8db630d40",
   "metadata": {},
   "source": [
    "##### 5-) Python Yazılımın Versiyonunu bulunuz. "
   ]
  },
  {
   "cell_type": "code",
   "execution_count": 17,
   "id": "a259702b-d4f9-4c7e-a9ea-bc0b23b694d7",
   "metadata": {},
   "outputs": [
    {
     "name": "stdout",
     "output_type": "stream",
     "text": [
      "3.12.7 | packaged by Anaconda, Inc. | (main, Oct  4 2024, 13:17:27) [MSC v.1929 64 bit (AMD64)]\n"
     ]
    }
   ],
   "source": [
    "import sys\n",
    "print(sys.version)"
   ]
  },
  {
   "cell_type": "markdown",
   "id": "bd5cd120-08b3-406d-9be7-654862153ea8",
   "metadata": {},
   "source": [
    "##### 6-) Veri setindeki ilk 5 veriyi listeleyiniz."
   ]
  },
  {
   "cell_type": "code",
   "execution_count": 19,
   "id": "e1666b49-1143-4c9b-81ad-67a000b0ff87",
   "metadata": {},
   "outputs": [
    {
     "name": "stdout",
     "output_type": "stream",
     "text": [
      "         Date  Latitude  Longitude  Depth_km  Magnitude_ML  \\\n",
      "0  2025-04-23   40.8394    28.4000     15.05           2.5   \n",
      "1  2025-04-23   40.8442    28.3108      5.23           2.6   \n",
      "2  2025-04-23   40.8353    28.3511      6.97           2.0   \n",
      "3  2025-04-23   40.8567    28.3014     14.58           3.5   \n",
      "4  2025-04-23   40.8467    28.4094      8.33           2.8   \n",
      "\n",
      "                                            Location           Nearest_Fault  \\\n",
      "0  Marmara Denizi - [20.67 km] Büyükçekmece (İsta...  Kuzey Anadolu Fay Zonu   \n",
      "1  Marmara Denizi - [24.05 km] Büyükçekmece (İsta...  Kuzey Anadolu Fay Zonu   \n",
      "2  Marmara Denizi - [22.91 km] Büyükçekmece (İsta...  Kuzey Anadolu Fay Zonu   \n",
      "3     Marmara Denizi - [23.07 km] Silivri (İstanbul)  Kuzey Anadolu Fay Zonu   \n",
      "4  Marmara Denizi - [19.63 km] Büyükçekmece (İsta...  Kuzey Anadolu Fay Zonu   \n",
      "\n",
      "   Fault_Length_km  Fault_Width_m  Fault_Depth_m  ... Slip_Rate_mm_per_yr  \\\n",
      "0             10.0            2.0            3.0  ...                 7.5   \n",
      "1             10.0            2.0            3.0  ...                 7.5   \n",
      "2             10.0            2.0            3.0  ...                 7.5   \n",
      "3             10.0            2.0            3.0  ...                 7.5   \n",
      "4             10.0            2.0            3.0  ...                 7.5   \n",
      "\n",
      "   Max_Surface_Slip_m  Recurrence_Interval_yr  Last_Event_Year  Last_Event_Mw  \\\n",
      "0                 5.0                   550.0           1999.0            7.4   \n",
      "1                 5.0                   550.0           1999.0            7.4   \n",
      "2                 5.0                   550.0           1999.0            7.4   \n",
      "3                 5.0                   550.0           1999.0            7.4   \n",
      "4                 5.0                   550.0           1999.0            7.4   \n",
      "\n",
      "   Elapsed_Time_yr  Slip_Deficit_m  Normalized_Slip_m_per_km  \\\n",
      "0             26.0           0.195                  0.004167   \n",
      "1             26.0           0.195                  0.004167   \n",
      "2             26.0           0.195                  0.004167   \n",
      "3             26.0           0.195                  0.004167   \n",
      "4             26.0           0.195                  0.004167   \n",
      "\n",
      "   Moment_Potential_Nm  Mw_Potential  \n",
      "0         1.053000e+20      2.648286  \n",
      "1         1.053000e+20      2.648286  \n",
      "2         1.053000e+20      2.648286  \n",
      "3         1.053000e+20      2.648286  \n",
      "4         1.053000e+20      2.648286  \n",
      "\n",
      "[5 rows x 23 columns]\n"
     ]
    }
   ],
   "source": [
    "print(df.head())"
   ]
  },
  {
   "cell_type": "markdown",
   "id": "6f97ec1a-28c7-41a7-9d7d-f0897e6526fa",
   "metadata": {},
   "source": [
    "##### 7-) Veri setindeki son 5 veriyi listeleyiniz. "
   ]
  },
  {
   "cell_type": "code",
   "execution_count": 21,
   "id": "1b740f8f-9660-4393-aa69-c6b1d0cf1a95",
   "metadata": {},
   "outputs": [
    {
     "name": "stdout",
     "output_type": "stream",
     "text": [
      "             Date  Latitude  Longitude  Depth_km  Magnitude_ML  \\\n",
      "21600  2000-04-30     40.56      29.21       3.8           2.7   \n",
      "21601  2000-04-30     40.02      28.89       1.0           2.9   \n",
      "21602  2000-04-29     40.90      30.49       5.7           2.6   \n",
      "21603  2000-04-28     40.37      29.14      10.4           3.2   \n",
      "21604  2000-04-23     39.56      26.11      13.8           3.2   \n",
      "\n",
      "                  Location           Nearest_Fault  Fault_Length_km  \\\n",
      "21600      Merkez (Yalova)  Kuzey Anadolu Fay Zonu             25.0   \n",
      "21601     Orhaneli (Bursa)           Orhaneli Fayı             15.0   \n",
      "21602    Söğütlü (Sakarya)  Kuzey Anadolu Fay Zonu             19.0   \n",
      "21603       Gemlik (Bursa)  Kuzey Anadolu Fay Zonu             10.0   \n",
      "21604  Ayvacık (Çanakkale)              Troya Fayı              6.0   \n",
      "\n",
      "       Fault_Width_m  Fault_Depth_m  ... Slip_Rate_mm_per_yr  \\\n",
      "21600            2.0            3.7  ...                 7.5   \n",
      "21601            4.0            3.0  ...                 2.5   \n",
      "21602            2.7            1.5  ...                 7.5   \n",
      "21603            2.0            3.0  ...                 7.5   \n",
      "21604            2.0            4.5  ...                 1.5   \n",
      "\n",
      "       Max_Surface_Slip_m  Recurrence_Interval_yr  Last_Event_Year  \\\n",
      "21600            5.000000              550.000000      1999.000000   \n",
      "21601            1.433333              700.000000      1855.000000   \n",
      "21602            5.000000              550.000000      1999.000000   \n",
      "21603            5.000000              550.000000      1999.000000   \n",
      "21604            0.800000              566.666667      1910.333333   \n",
      "\n",
      "       Last_Event_Mw  Elapsed_Time_yr  Slip_Deficit_m  \\\n",
      "21600            7.4        26.000000           0.195   \n",
      "21601            6.9       170.000000           0.425   \n",
      "21602            7.4        26.000000           0.195   \n",
      "21603            7.4        26.000000           0.195   \n",
      "21604            7.2       114.666667           0.172   \n",
      "\n",
      "       Normalized_Slip_m_per_km  Moment_Potential_Nm  Mw_Potential  \n",
      "21600                  0.004167         1.053000e+20      2.648286  \n",
      "21601                  0.047778         5.100000e+18      1.771713  \n",
      "21602                  0.004167         1.053000e+20      2.648286  \n",
      "21603                  0.004167         1.053000e+20      2.648286  \n",
      "21604                  0.022857         2.347800e+18      1.547107  \n",
      "\n",
      "[5 rows x 23 columns]\n"
     ]
    }
   ],
   "source": [
    "print(df.tail())"
   ]
  },
  {
   "cell_type": "markdown",
   "id": "a10c48b2-3400-4c13-a3a5-32f8d417e7fd",
   "metadata": {},
   "source": [
    "##### 8-) Veri setindeki bütün verileri listeleyiniz."
   ]
  },
  {
   "cell_type": "code",
   "execution_count": 23,
   "id": "e4768cfa-667f-4292-b91e-749592de4d1e",
   "metadata": {},
   "outputs": [
    {
     "name": "stdout",
     "output_type": "stream",
     "text": [
      "             Date  Latitude  Longitude  Depth_km  Magnitude_ML  \\\n",
      "0      2025-04-23   40.8394    28.4000     15.05           2.5   \n",
      "1      2025-04-23   40.8442    28.3108      5.23           2.6   \n",
      "2      2025-04-23   40.8353    28.3511      6.97           2.0   \n",
      "3      2025-04-23   40.8567    28.3014     14.58           3.5   \n",
      "4      2025-04-23   40.8467    28.4094      8.33           2.8   \n",
      "...           ...       ...        ...       ...           ...   \n",
      "21600  2000-04-30   40.5600    29.2100      3.80           2.7   \n",
      "21601  2000-04-30   40.0200    28.8900      1.00           2.9   \n",
      "21602  2000-04-29   40.9000    30.4900      5.70           2.6   \n",
      "21603  2000-04-28   40.3700    29.1400     10.40           3.2   \n",
      "21604  2000-04-23   39.5600    26.1100     13.80           3.2   \n",
      "\n",
      "                                                Location  \\\n",
      "0      Marmara Denizi - [20.67 km] Büyükçekmece (İsta...   \n",
      "1      Marmara Denizi - [24.05 km] Büyükçekmece (İsta...   \n",
      "2      Marmara Denizi - [22.91 km] Büyükçekmece (İsta...   \n",
      "3         Marmara Denizi - [23.07 km] Silivri (İstanbul)   \n",
      "4      Marmara Denizi - [19.63 km] Büyükçekmece (İsta...   \n",
      "...                                                  ...   \n",
      "21600                                    Merkez (Yalova)   \n",
      "21601                                   Orhaneli (Bursa)   \n",
      "21602                                  Söğütlü (Sakarya)   \n",
      "21603                                     Gemlik (Bursa)   \n",
      "21604                                Ayvacık (Çanakkale)   \n",
      "\n",
      "                Nearest_Fault  Fault_Length_km  Fault_Width_m  Fault_Depth_m  \\\n",
      "0      Kuzey Anadolu Fay Zonu             10.0            2.0            3.0   \n",
      "1      Kuzey Anadolu Fay Zonu             10.0            2.0            3.0   \n",
      "2      Kuzey Anadolu Fay Zonu             10.0            2.0            3.0   \n",
      "3      Kuzey Anadolu Fay Zonu             10.0            2.0            3.0   \n",
      "4      Kuzey Anadolu Fay Zonu             10.0            2.0            3.0   \n",
      "...                       ...              ...            ...            ...   \n",
      "21600  Kuzey Anadolu Fay Zonu             25.0            2.0            3.7   \n",
      "21601           Orhaneli Fayı             15.0            4.0            3.0   \n",
      "21602  Kuzey Anadolu Fay Zonu             19.0            2.7            1.5   \n",
      "21603  Kuzey Anadolu Fay Zonu             10.0            2.0            3.0   \n",
      "21604              Troya Fayı              6.0            2.0            4.5   \n",
      "\n",
      "       ... Slip_Rate_mm_per_yr  Max_Surface_Slip_m  Recurrence_Interval_yr  \\\n",
      "0      ...                 7.5            5.000000              550.000000   \n",
      "1      ...                 7.5            5.000000              550.000000   \n",
      "2      ...                 7.5            5.000000              550.000000   \n",
      "3      ...                 7.5            5.000000              550.000000   \n",
      "4      ...                 7.5            5.000000              550.000000   \n",
      "...    ...                 ...                 ...                     ...   \n",
      "21600  ...                 7.5            5.000000              550.000000   \n",
      "21601  ...                 2.5            1.433333              700.000000   \n",
      "21602  ...                 7.5            5.000000              550.000000   \n",
      "21603  ...                 7.5            5.000000              550.000000   \n",
      "21604  ...                 1.5            0.800000              566.666667   \n",
      "\n",
      "       Last_Event_Year  Last_Event_Mw  Elapsed_Time_yr  Slip_Deficit_m  \\\n",
      "0          1999.000000            7.4        26.000000           0.195   \n",
      "1          1999.000000            7.4        26.000000           0.195   \n",
      "2          1999.000000            7.4        26.000000           0.195   \n",
      "3          1999.000000            7.4        26.000000           0.195   \n",
      "4          1999.000000            7.4        26.000000           0.195   \n",
      "...                ...            ...              ...             ...   \n",
      "21600      1999.000000            7.4        26.000000           0.195   \n",
      "21601      1855.000000            6.9       170.000000           0.425   \n",
      "21602      1999.000000            7.4        26.000000           0.195   \n",
      "21603      1999.000000            7.4        26.000000           0.195   \n",
      "21604      1910.333333            7.2       114.666667           0.172   \n",
      "\n",
      "       Normalized_Slip_m_per_km  Moment_Potential_Nm  Mw_Potential  \n",
      "0                      0.004167         1.053000e+20      2.648286  \n",
      "1                      0.004167         1.053000e+20      2.648286  \n",
      "2                      0.004167         1.053000e+20      2.648286  \n",
      "3                      0.004167         1.053000e+20      2.648286  \n",
      "4                      0.004167         1.053000e+20      2.648286  \n",
      "...                         ...                  ...           ...  \n",
      "21600                  0.004167         1.053000e+20      2.648286  \n",
      "21601                  0.047778         5.100000e+18      1.771713  \n",
      "21602                  0.004167         1.053000e+20      2.648286  \n",
      "21603                  0.004167         1.053000e+20      2.648286  \n",
      "21604                  0.022857         2.347800e+18      1.547107  \n",
      "\n",
      "[21605 rows x 23 columns]\n"
     ]
    }
   ],
   "source": [
    "print(df)"
   ]
  },
  {
   "cell_type": "markdown",
   "id": "ecbd1b42-1d1f-4225-a685-d6da9da76d11",
   "metadata": {},
   "source": [
    "##### 9-) Veri setindeki nümerik alanları listeleyiniz."
   ]
  },
  {
   "cell_type": "code",
   "execution_count": 25,
   "id": "2a51863b-0dc0-4acb-b34d-74f33f732383",
   "metadata": {},
   "outputs": [
    {
     "name": "stdout",
     "output_type": "stream",
     "text": [
      "Index(['Latitude', 'Longitude', 'Depth_km', 'Magnitude_ML', 'Fault_Length_km',\n",
      "       'Fault_Width_m', 'Fault_Depth_m', 'Length_km', 'Seismogenic_Depth_km',\n",
      "       'Slip_Rate_mm_per_yr', 'Max_Surface_Slip_m', 'Recurrence_Interval_yr',\n",
      "       'Last_Event_Year', 'Last_Event_Mw', 'Elapsed_Time_yr', 'Slip_Deficit_m',\n",
      "       'Normalized_Slip_m_per_km', 'Moment_Potential_Nm', 'Mw_Potential'],\n",
      "      dtype='object')\n"
     ]
    }
   ],
   "source": [
    "numeric_columns = df.select_dtypes(include=['number']).columns\n",
    "print(numeric_columns)"
   ]
  },
  {
   "cell_type": "markdown",
   "id": "24d92ecb-27e4-4773-80ba-854c25fccaf3",
   "metadata": {},
   "source": [
    "##### 10-) Veri setindeki nümerik olmayan alanların frekans dağılımını analiz ediniz."
   ]
  },
  {
   "cell_type": "code",
   "execution_count": 27,
   "id": "0929b60d-0b5b-403b-baf7-db3f6ef539cb",
   "metadata": {},
   "outputs": [
    {
     "name": "stdout",
     "output_type": "stream",
     "text": [
      "Frekans dağılımı - Date:\n",
      "Date\n",
      "2017-02-07    124\n",
      "2025-04-23    104\n",
      "2017-02-06    104\n",
      "2014-05-24     94\n",
      "2010-11-01     70\n",
      "             ... \n",
      "2007-08-12      1\n",
      "2019-05-21      1\n",
      "2007-08-14      1\n",
      "2019-05-20      1\n",
      "2000-04-23      1\n",
      "Name: count, Length: 5989, dtype: int64\n",
      "\n",
      "\n",
      "Frekans dağılımı - Location:\n",
      "Location\n",
      "Tavşanlı (Kütahya)                                               4273\n",
      "Domaniç (Kütahya)                                                1465\n",
      "Ayvacık (Çanakkale)                                              1370\n",
      "Biga (Çanakkale)                                                  655\n",
      "Dursunbey (Balıkesir)                                             552\n",
      "                                                                 ... \n",
      "Marmara Denizi - [29.55 km] Erdek (Balıkesir)                       1\n",
      "Marmara Denizi - [09.05 km] Merkez (Yalova)                         1\n",
      "Ege Denizi - [06.15 km] Ayvacık (Çanakkale)                         1\n",
      "Marmara Denizi - Gemlik Körfezi - [06.11 km] Armutlu (Yalova)       1\n",
      "Marmara Denizi - [15.54 km] Erdek (Balıkesir)                       1\n",
      "Name: count, Length: 5071, dtype: int64\n",
      "\n",
      "\n",
      "Frekans dağılımı - Nearest_Fault:\n",
      "Nearest_Fault\n",
      "Orhaneli Fayı                         7281\n",
      "Kuzey Anadolu Fay Zonu                4616\n",
      "Kuzey Anadolu Fay Zonu Ganos Fayı     2446\n",
      "Troya Fayı                            2341\n",
      "Havran-Balıkesir Fayı                 1086\n",
      "Manyas Fay Zonu                        767\n",
      "Eskişehir Fay Zonu                     763\n",
      "Yenice-Gönen Fay Zonu                  638\n",
      "Bekten Fayı                            605\n",
      "Kuzey Anadolu Fay Zonu Ulubat Fayı     536\n",
      "Mustafakemalpaşa Fayı                  449\n",
      "Yenimahalle Fayı                        77\n",
      "Name: count, dtype: int64\n",
      "\n",
      "\n",
      "Frekans dağılımı - Fault_Type:\n",
      "Fault_Type\n",
      "strike-slip                     7700\n",
      "strike-slip + thrust            7281\n",
      "oblique / uncertain             2341\n",
      "strike-slip + transpression     1086\n",
      "normal (listric)                 767\n",
      "left-lateral mixed               763\n",
      "strike-slip + minor thrust       605\n",
      "strike-slip + minor vertical     536\n",
      "strike-slip + minor normal       449\n",
      "small strike-slip                 77\n",
      "Name: count, dtype: int64\n",
      "\n",
      "\n"
     ]
    }
   ],
   "source": [
    "categorical_columns = df.select_dtypes(exclude=['number'])\n",
    "\n",
    "for col in categorical_columns.columns:\n",
    "    print(f\"Frekans dağılımı - {col}:\")\n",
    "    print(df[col].value_counts())\n",
    "    print(\"\\n\")"
   ]
  },
  {
   "cell_type": "markdown",
   "id": "b3c5a3f8-6377-4d02-9bd7-92def9e38c9d",
   "metadata": {},
   "source": [
    "##### 11-) System Kütüphanesi versiyonunu bulunuz. "
   ]
  },
  {
   "cell_type": "code",
   "execution_count": 29,
   "id": "a343f819-42bb-440e-8646-79a832fac996",
   "metadata": {},
   "outputs": [
    {
     "name": "stdout",
     "output_type": "stream",
     "text": [
      "3.12.7 | packaged by Anaconda, Inc. | (main, Oct  4 2024, 13:17:27) [MSC v.1929 64 bit (AMD64)]\n"
     ]
    }
   ],
   "source": [
    "print(sys.version)"
   ]
  },
  {
   "cell_type": "markdown",
   "id": "90be8fc8-14a0-4ed8-85f9-485cb0d63770",
   "metadata": {},
   "source": [
    "##### 12-) Veri setindeki toplam veri sayısını bulunuz."
   ]
  },
  {
   "cell_type": "code",
   "execution_count": 31,
   "id": "0c5b4a4a-0b75-44de-8365-a1c3c91c2445",
   "metadata": {},
   "outputs": [
    {
     "name": "stdout",
     "output_type": "stream",
     "text": [
      "Veri setindeki toplam veri sayısı: 21605\n"
     ]
    }
   ],
   "source": [
    "total_rows = df.shape[0]\n",
    "print(f\"Veri setindeki toplam veri sayısı: {total_rows}\")"
   ]
  },
  {
   "cell_type": "markdown",
   "id": "876f7084-730f-40b8-ac11-668cc83b0ae0",
   "metadata": {},
   "source": [
    "##### 13-) Veri setindeki toplam sütun sayısını bulunuz."
   ]
  },
  {
   "cell_type": "code",
   "execution_count": 33,
   "id": "503df382-c2d1-4dee-88b8-594ef7d8f6f0",
   "metadata": {},
   "outputs": [
    {
     "name": "stdout",
     "output_type": "stream",
     "text": [
      "Veri setindeki toplam sütun sayısı: 23\n"
     ]
    }
   ],
   "source": [
    "total_columns = df.shape[1]\n",
    "print(f\"Veri setindeki toplam sütun sayısı: {total_columns}\")"
   ]
  },
  {
   "cell_type": "markdown",
   "id": "2ed8e1b7-9aea-4117-8309-72179690d8e8",
   "metadata": {},
   "source": [
    "##### 14-) Veri setindeki sütun isimlerini bulunuz."
   ]
  },
  {
   "cell_type": "code",
   "execution_count": 35,
   "id": "033d25c6-57e5-41a0-a1ee-bcbf3f7dfae0",
   "metadata": {},
   "outputs": [
    {
     "name": "stdout",
     "output_type": "stream",
     "text": [
      "Veri setindeki sütun isimleri: Index(['Date', 'Latitude', 'Longitude', 'Depth_km', 'Magnitude_ML', 'Location',\n",
      "       'Nearest_Fault', 'Fault_Length_km', 'Fault_Width_m', 'Fault_Depth_m',\n",
      "       'Fault_Type', 'Length_km', 'Seismogenic_Depth_km',\n",
      "       'Slip_Rate_mm_per_yr', 'Max_Surface_Slip_m', 'Recurrence_Interval_yr',\n",
      "       'Last_Event_Year', 'Last_Event_Mw', 'Elapsed_Time_yr', 'Slip_Deficit_m',\n",
      "       'Normalized_Slip_m_per_km', 'Moment_Potential_Nm', 'Mw_Potential'],\n",
      "      dtype='object')\n"
     ]
    }
   ],
   "source": [
    "column_names = df.columns\n",
    "print(f\"Veri setindeki sütun isimleri: {column_names}\")"
   ]
  },
  {
   "cell_type": "markdown",
   "id": "ace724aa-4da7-4f01-8fa3-266a4c7deed1",
   "metadata": {},
   "source": [
    "##### 15-) Veri setindeki eksik verileri bulunuz. "
   ]
  },
  {
   "cell_type": "code",
   "execution_count": 37,
   "id": "eb8fb631-d170-418d-9a35-c77e5a549a73",
   "metadata": {},
   "outputs": [
    {
     "name": "stdout",
     "output_type": "stream",
     "text": [
      "Eksik verisi olan sütunlar:\n",
      "Series([], dtype: int64)\n"
     ]
    }
   ],
   "source": [
    "missing_data = df.isnull().sum()\n",
    "missing_columns = missing_data[missing_data > 0]\n",
    "print(f\"Eksik verisi olan sütunlar:\\n{missing_columns}\")"
   ]
  },
  {
   "cell_type": "markdown",
   "id": "1476891e-9210-4485-b589-2114589fee1d",
   "metadata": {},
   "source": [
    "##### 16-) Her bir sütundaki eksik veri sayısını bulunuz. "
   ]
  },
  {
   "cell_type": "code",
   "execution_count": 39,
   "id": "348a449e-8b9a-4a91-88e8-91a71fcae4bf",
   "metadata": {},
   "outputs": [
    {
     "name": "stdout",
     "output_type": "stream",
     "text": [
      "Her bir sütundaki eksik veri sayısı:\n",
      "Date                        0\n",
      "Latitude                    0\n",
      "Longitude                   0\n",
      "Depth_km                    0\n",
      "Magnitude_ML                0\n",
      "Location                    0\n",
      "Nearest_Fault               0\n",
      "Fault_Length_km             0\n",
      "Fault_Width_m               0\n",
      "Fault_Depth_m               0\n",
      "Fault_Type                  0\n",
      "Length_km                   0\n",
      "Seismogenic_Depth_km        0\n",
      "Slip_Rate_mm_per_yr         0\n",
      "Max_Surface_Slip_m          0\n",
      "Recurrence_Interval_yr      0\n",
      "Last_Event_Year             0\n",
      "Last_Event_Mw               0\n",
      "Elapsed_Time_yr             0\n",
      "Slip_Deficit_m              0\n",
      "Normalized_Slip_m_per_km    0\n",
      "Moment_Potential_Nm         0\n",
      "Mw_Potential                0\n",
      "dtype: int64\n"
     ]
    }
   ],
   "source": [
    "missing_data = df.isnull().sum()\n",
    "print(f\"Her bir sütundaki eksik veri sayısı:\\n{missing_data}\")"
   ]
  },
  {
   "cell_type": "markdown",
   "id": "449117a4-94c0-4273-a90e-8adb68bba389",
   "metadata": {},
   "source": [
    "##### 17-) Bütün sütunlardaki toplam eksik veri sayısını bulunuz."
   ]
  },
  {
   "cell_type": "code",
   "execution_count": 43,
   "id": "2b999a0c-00c9-4204-9a1e-9d182984032f",
   "metadata": {},
   "outputs": [
    {
     "name": "stdout",
     "output_type": "stream",
     "text": [
      "Veri setindeki toplam eksik veri sayısı: 0\n"
     ]
    }
   ],
   "source": [
    "total_missing_data = df.isnull().sum().sum()\n",
    "print(f\"Veri setindeki toplam eksik veri sayısı: {total_missing_data}\")"
   ]
  },
  {
   "cell_type": "markdown",
   "id": "679cf957-c5d1-442c-9591-1aa5566a5c2b",
   "metadata": {},
   "source": [
    "##### 18-) Eksik verilerin yerine \"0 - sıfır\" yazınız."
   ]
  },
  {
   "cell_type": "code",
   "execution_count": 45,
   "id": "84640140-5848-4ef8-8d89-3b8c61eb64b8",
   "metadata": {},
   "outputs": [
    {
     "name": "stdout",
     "output_type": "stream",
     "text": [
      "             Date  Latitude  Longitude  Depth_km  Magnitude_ML  \\\n",
      "0      2025-04-23   40.8394    28.4000     15.05           2.5   \n",
      "1      2025-04-23   40.8442    28.3108      5.23           2.6   \n",
      "2      2025-04-23   40.8353    28.3511      6.97           2.0   \n",
      "3      2025-04-23   40.8567    28.3014     14.58           3.5   \n",
      "4      2025-04-23   40.8467    28.4094      8.33           2.8   \n",
      "...           ...       ...        ...       ...           ...   \n",
      "21600  2000-04-30   40.5600    29.2100      3.80           2.7   \n",
      "21601  2000-04-30   40.0200    28.8900      1.00           2.9   \n",
      "21602  2000-04-29   40.9000    30.4900      5.70           2.6   \n",
      "21603  2000-04-28   40.3700    29.1400     10.40           3.2   \n",
      "21604  2000-04-23   39.5600    26.1100     13.80           3.2   \n",
      "\n",
      "                                                Location  \\\n",
      "0      Marmara Denizi - [20.67 km] Büyükçekmece (İsta...   \n",
      "1      Marmara Denizi - [24.05 km] Büyükçekmece (İsta...   \n",
      "2      Marmara Denizi - [22.91 km] Büyükçekmece (İsta...   \n",
      "3         Marmara Denizi - [23.07 km] Silivri (İstanbul)   \n",
      "4      Marmara Denizi - [19.63 km] Büyükçekmece (İsta...   \n",
      "...                                                  ...   \n",
      "21600                                    Merkez (Yalova)   \n",
      "21601                                   Orhaneli (Bursa)   \n",
      "21602                                  Söğütlü (Sakarya)   \n",
      "21603                                     Gemlik (Bursa)   \n",
      "21604                                Ayvacık (Çanakkale)   \n",
      "\n",
      "                Nearest_Fault  Fault_Length_km  Fault_Width_m  Fault_Depth_m  \\\n",
      "0      Kuzey Anadolu Fay Zonu             10.0            2.0            3.0   \n",
      "1      Kuzey Anadolu Fay Zonu             10.0            2.0            3.0   \n",
      "2      Kuzey Anadolu Fay Zonu             10.0            2.0            3.0   \n",
      "3      Kuzey Anadolu Fay Zonu             10.0            2.0            3.0   \n",
      "4      Kuzey Anadolu Fay Zonu             10.0            2.0            3.0   \n",
      "...                       ...              ...            ...            ...   \n",
      "21600  Kuzey Anadolu Fay Zonu             25.0            2.0            3.7   \n",
      "21601           Orhaneli Fayı             15.0            4.0            3.0   \n",
      "21602  Kuzey Anadolu Fay Zonu             19.0            2.7            1.5   \n",
      "21603  Kuzey Anadolu Fay Zonu             10.0            2.0            3.0   \n",
      "21604              Troya Fayı              6.0            2.0            4.5   \n",
      "\n",
      "       ... Slip_Rate_mm_per_yr  Max_Surface_Slip_m  Recurrence_Interval_yr  \\\n",
      "0      ...                 7.5            5.000000              550.000000   \n",
      "1      ...                 7.5            5.000000              550.000000   \n",
      "2      ...                 7.5            5.000000              550.000000   \n",
      "3      ...                 7.5            5.000000              550.000000   \n",
      "4      ...                 7.5            5.000000              550.000000   \n",
      "...    ...                 ...                 ...                     ...   \n",
      "21600  ...                 7.5            5.000000              550.000000   \n",
      "21601  ...                 2.5            1.433333              700.000000   \n",
      "21602  ...                 7.5            5.000000              550.000000   \n",
      "21603  ...                 7.5            5.000000              550.000000   \n",
      "21604  ...                 1.5            0.800000              566.666667   \n",
      "\n",
      "       Last_Event_Year  Last_Event_Mw  Elapsed_Time_yr  Slip_Deficit_m  \\\n",
      "0          1999.000000            7.4        26.000000           0.195   \n",
      "1          1999.000000            7.4        26.000000           0.195   \n",
      "2          1999.000000            7.4        26.000000           0.195   \n",
      "3          1999.000000            7.4        26.000000           0.195   \n",
      "4          1999.000000            7.4        26.000000           0.195   \n",
      "...                ...            ...              ...             ...   \n",
      "21600      1999.000000            7.4        26.000000           0.195   \n",
      "21601      1855.000000            6.9       170.000000           0.425   \n",
      "21602      1999.000000            7.4        26.000000           0.195   \n",
      "21603      1999.000000            7.4        26.000000           0.195   \n",
      "21604      1910.333333            7.2       114.666667           0.172   \n",
      "\n",
      "       Normalized_Slip_m_per_km  Moment_Potential_Nm  Mw_Potential  \n",
      "0                      0.004167         1.053000e+20      2.648286  \n",
      "1                      0.004167         1.053000e+20      2.648286  \n",
      "2                      0.004167         1.053000e+20      2.648286  \n",
      "3                      0.004167         1.053000e+20      2.648286  \n",
      "4                      0.004167         1.053000e+20      2.648286  \n",
      "...                         ...                  ...           ...  \n",
      "21600                  0.004167         1.053000e+20      2.648286  \n",
      "21601                  0.047778         5.100000e+18      1.771713  \n",
      "21602                  0.004167         1.053000e+20      2.648286  \n",
      "21603                  0.004167         1.053000e+20      2.648286  \n",
      "21604                  0.022857         2.347800e+18      1.547107  \n",
      "\n",
      "[21605 rows x 23 columns]\n"
     ]
    }
   ],
   "source": [
    "df_filled = df.fillna(0)\n",
    "print(df_filled)"
   ]
  },
  {
   "cell_type": "code",
   "execution_count": 47,
   "id": "bf0dfa6c-df9c-4fe6-b9e6-d6de234aaed0",
   "metadata": {},
   "outputs": [
    {
     "name": "stdout",
     "output_type": "stream",
     "text": [
      "             Date  Latitude  Longitude  Depth_km  Magnitude_ML  \\\n",
      "0      2025-04-23   40.8394    28.4000     15.05           2.5   \n",
      "1      2025-04-23   40.8442    28.3108      5.23           2.6   \n",
      "2      2025-04-23   40.8353    28.3511      6.97           2.0   \n",
      "3      2025-04-23   40.8567    28.3014     14.58           3.5   \n",
      "4      2025-04-23   40.8467    28.4094      8.33           2.8   \n",
      "...           ...       ...        ...       ...           ...   \n",
      "21600  2000-04-30   40.5600    29.2100      3.80           2.7   \n",
      "21601  2000-04-30   40.0200    28.8900      1.00           2.9   \n",
      "21602  2000-04-29   40.9000    30.4900      5.70           2.6   \n",
      "21603  2000-04-28   40.3700    29.1400     10.40           3.2   \n",
      "21604  2000-04-23   39.5600    26.1100     13.80           3.2   \n",
      "\n",
      "                                                Location  \\\n",
      "0      Marmara Denizi - [20.67 km] Büyükçekmece (İsta...   \n",
      "1      Marmara Denizi - [24.05 km] Büyükçekmece (İsta...   \n",
      "2      Marmara Denizi - [22.91 km] Büyükçekmece (İsta...   \n",
      "3         Marmara Denizi - [23.07 km] Silivri (İstanbul)   \n",
      "4      Marmara Denizi - [19.63 km] Büyükçekmece (İsta...   \n",
      "...                                                  ...   \n",
      "21600                                    Merkez (Yalova)   \n",
      "21601                                   Orhaneli (Bursa)   \n",
      "21602                                  Söğütlü (Sakarya)   \n",
      "21603                                     Gemlik (Bursa)   \n",
      "21604                                Ayvacık (Çanakkale)   \n",
      "\n",
      "                Nearest_Fault  Fault_Length_km  Fault_Width_m  Fault_Depth_m  \\\n",
      "0      Kuzey Anadolu Fay Zonu             10.0            2.0            3.0   \n",
      "1      Kuzey Anadolu Fay Zonu             10.0            2.0            3.0   \n",
      "2      Kuzey Anadolu Fay Zonu             10.0            2.0            3.0   \n",
      "3      Kuzey Anadolu Fay Zonu             10.0            2.0            3.0   \n",
      "4      Kuzey Anadolu Fay Zonu             10.0            2.0            3.0   \n",
      "...                       ...              ...            ...            ...   \n",
      "21600  Kuzey Anadolu Fay Zonu             25.0            2.0            3.7   \n",
      "21601           Orhaneli Fayı             15.0            4.0            3.0   \n",
      "21602  Kuzey Anadolu Fay Zonu             19.0            2.7            1.5   \n",
      "21603  Kuzey Anadolu Fay Zonu             10.0            2.0            3.0   \n",
      "21604              Troya Fayı              6.0            2.0            4.5   \n",
      "\n",
      "       ... Slip_Rate_mm_per_yr  Max_Surface_Slip_m  Recurrence_Interval_yr  \\\n",
      "0      ...                 7.5            5.000000              550.000000   \n",
      "1      ...                 7.5            5.000000              550.000000   \n",
      "2      ...                 7.5            5.000000              550.000000   \n",
      "3      ...                 7.5            5.000000              550.000000   \n",
      "4      ...                 7.5            5.000000              550.000000   \n",
      "...    ...                 ...                 ...                     ...   \n",
      "21600  ...                 7.5            5.000000              550.000000   \n",
      "21601  ...                 2.5            1.433333              700.000000   \n",
      "21602  ...                 7.5            5.000000              550.000000   \n",
      "21603  ...                 7.5            5.000000              550.000000   \n",
      "21604  ...                 1.5            0.800000              566.666667   \n",
      "\n",
      "       Last_Event_Year  Last_Event_Mw  Elapsed_Time_yr  Slip_Deficit_m  \\\n",
      "0          1999.000000            7.4        26.000000           0.195   \n",
      "1          1999.000000            7.4        26.000000           0.195   \n",
      "2          1999.000000            7.4        26.000000           0.195   \n",
      "3          1999.000000            7.4        26.000000           0.195   \n",
      "4          1999.000000            7.4        26.000000           0.195   \n",
      "...                ...            ...              ...             ...   \n",
      "21600      1999.000000            7.4        26.000000           0.195   \n",
      "21601      1855.000000            6.9       170.000000           0.425   \n",
      "21602      1999.000000            7.4        26.000000           0.195   \n",
      "21603      1999.000000            7.4        26.000000           0.195   \n",
      "21604      1910.333333            7.2       114.666667           0.172   \n",
      "\n",
      "       Normalized_Slip_m_per_km  Moment_Potential_Nm  Mw_Potential  \n",
      "0                      0.004167         1.053000e+20      2.648286  \n",
      "1                      0.004167         1.053000e+20      2.648286  \n",
      "2                      0.004167         1.053000e+20      2.648286  \n",
      "3                      0.004167         1.053000e+20      2.648286  \n",
      "4                      0.004167         1.053000e+20      2.648286  \n",
      "...                         ...                  ...           ...  \n",
      "21600                  0.004167         1.053000e+20      2.648286  \n",
      "21601                  0.047778         5.100000e+18      1.771713  \n",
      "21602                  0.004167         1.053000e+20      2.648286  \n",
      "21603                  0.004167         1.053000e+20      2.648286  \n",
      "21604                  0.022857         2.347800e+18      1.547107  \n",
      "\n",
      "[21605 rows x 23 columns]\n"
     ]
    }
   ],
   "source": [
    "df_cleaned = df.dropna()\n",
    "print(df_cleaned)"
   ]
  },
  {
   "cell_type": "markdown",
   "id": "9f5c1ebd-5f09-4347-9b2e-f82da3fd3397",
   "metadata": {},
   "source": [
    "##### 19-) Eksik verileri dataFrame'den çıkarınız. "
   ]
  },
  {
   "cell_type": "code",
   "execution_count": 49,
   "id": "9ab6252d-1172-4b5b-8b7e-a9c1f5509fd4",
   "metadata": {},
   "outputs": [
    {
     "name": "stdout",
     "output_type": "stream",
     "text": [
      "             Date  Latitude  Longitude  Depth_km  Magnitude_ML  \\\n",
      "0      2025-04-23   40.8394    28.4000     15.05           2.5   \n",
      "1      2025-04-23   40.8442    28.3108      5.23           2.6   \n",
      "2      2025-04-23   40.8353    28.3511      6.97           2.0   \n",
      "3      2025-04-23   40.8567    28.3014     14.58           3.5   \n",
      "4      2025-04-23   40.8467    28.4094      8.33           2.8   \n",
      "...           ...       ...        ...       ...           ...   \n",
      "21600  2000-04-30   40.5600    29.2100      3.80           2.7   \n",
      "21601  2000-04-30   40.0200    28.8900      1.00           2.9   \n",
      "21602  2000-04-29   40.9000    30.4900      5.70           2.6   \n",
      "21603  2000-04-28   40.3700    29.1400     10.40           3.2   \n",
      "21604  2000-04-23   39.5600    26.1100     13.80           3.2   \n",
      "\n",
      "                                                Location  \\\n",
      "0      Marmara Denizi - [20.67 km] Büyükçekmece (İsta...   \n",
      "1      Marmara Denizi - [24.05 km] Büyükçekmece (İsta...   \n",
      "2      Marmara Denizi - [22.91 km] Büyükçekmece (İsta...   \n",
      "3         Marmara Denizi - [23.07 km] Silivri (İstanbul)   \n",
      "4      Marmara Denizi - [19.63 km] Büyükçekmece (İsta...   \n",
      "...                                                  ...   \n",
      "21600                                    Merkez (Yalova)   \n",
      "21601                                   Orhaneli (Bursa)   \n",
      "21602                                  Söğütlü (Sakarya)   \n",
      "21603                                     Gemlik (Bursa)   \n",
      "21604                                Ayvacık (Çanakkale)   \n",
      "\n",
      "                Nearest_Fault  Fault_Length_km  Fault_Width_m  Fault_Depth_m  \\\n",
      "0      Kuzey Anadolu Fay Zonu             10.0            2.0            3.0   \n",
      "1      Kuzey Anadolu Fay Zonu             10.0            2.0            3.0   \n",
      "2      Kuzey Anadolu Fay Zonu             10.0            2.0            3.0   \n",
      "3      Kuzey Anadolu Fay Zonu             10.0            2.0            3.0   \n",
      "4      Kuzey Anadolu Fay Zonu             10.0            2.0            3.0   \n",
      "...                       ...              ...            ...            ...   \n",
      "21600  Kuzey Anadolu Fay Zonu             25.0            2.0            3.7   \n",
      "21601           Orhaneli Fayı             15.0            4.0            3.0   \n",
      "21602  Kuzey Anadolu Fay Zonu             19.0            2.7            1.5   \n",
      "21603  Kuzey Anadolu Fay Zonu             10.0            2.0            3.0   \n",
      "21604              Troya Fayı              6.0            2.0            4.5   \n",
      "\n",
      "       ... Slip_Rate_mm_per_yr  Max_Surface_Slip_m  Recurrence_Interval_yr  \\\n",
      "0      ...                 7.5            5.000000              550.000000   \n",
      "1      ...                 7.5            5.000000              550.000000   \n",
      "2      ...                 7.5            5.000000              550.000000   \n",
      "3      ...                 7.5            5.000000              550.000000   \n",
      "4      ...                 7.5            5.000000              550.000000   \n",
      "...    ...                 ...                 ...                     ...   \n",
      "21600  ...                 7.5            5.000000              550.000000   \n",
      "21601  ...                 2.5            1.433333              700.000000   \n",
      "21602  ...                 7.5            5.000000              550.000000   \n",
      "21603  ...                 7.5            5.000000              550.000000   \n",
      "21604  ...                 1.5            0.800000              566.666667   \n",
      "\n",
      "       Last_Event_Year  Last_Event_Mw  Elapsed_Time_yr  Slip_Deficit_m  \\\n",
      "0          1999.000000            7.4        26.000000           0.195   \n",
      "1          1999.000000            7.4        26.000000           0.195   \n",
      "2          1999.000000            7.4        26.000000           0.195   \n",
      "3          1999.000000            7.4        26.000000           0.195   \n",
      "4          1999.000000            7.4        26.000000           0.195   \n",
      "...                ...            ...              ...             ...   \n",
      "21600      1999.000000            7.4        26.000000           0.195   \n",
      "21601      1855.000000            6.9       170.000000           0.425   \n",
      "21602      1999.000000            7.4        26.000000           0.195   \n",
      "21603      1999.000000            7.4        26.000000           0.195   \n",
      "21604      1910.333333            7.2       114.666667           0.172   \n",
      "\n",
      "       Normalized_Slip_m_per_km  Moment_Potential_Nm  Mw_Potential  \n",
      "0                      0.004167         1.053000e+20      2.648286  \n",
      "1                      0.004167         1.053000e+20      2.648286  \n",
      "2                      0.004167         1.053000e+20      2.648286  \n",
      "3                      0.004167         1.053000e+20      2.648286  \n",
      "4                      0.004167         1.053000e+20      2.648286  \n",
      "...                         ...                  ...           ...  \n",
      "21600                  0.004167         1.053000e+20      2.648286  \n",
      "21601                  0.047778         5.100000e+18      1.771713  \n",
      "21602                  0.004167         1.053000e+20      2.648286  \n",
      "21603                  0.004167         1.053000e+20      2.648286  \n",
      "21604                  0.022857         2.347800e+18      1.547107  \n",
      "\n",
      "[21605 rows x 23 columns]\n"
     ]
    }
   ],
   "source": [
    "df_cleaned = df.dropna(axis=1)\n",
    "print(df_cleaned)"
   ]
  },
  {
   "cell_type": "markdown",
   "id": "5a22f10d-783a-44d7-99aa-fd0ac6415f83",
   "metadata": {},
   "source": [
    "##### 20-) Tekrarlı verilerin sayısını bulunuz."
   ]
  },
  {
   "cell_type": "code",
   "execution_count": 51,
   "id": "06bec773-8318-455b-9874-67d4b6fb955d",
   "metadata": {},
   "outputs": [
    {
     "name": "stdout",
     "output_type": "stream",
     "text": [
      "Veri setindeki tekrarlı verilerin sayısı: 2\n"
     ]
    }
   ],
   "source": [
    "duplicate_count = df.duplicated().sum()\n",
    "print(f\"Veri setindeki tekrarlı verilerin sayısı: {duplicate_count}\")"
   ]
  },
  {
   "cell_type": "code",
   "execution_count": 53,
   "id": "a45ce645-07a5-44a1-a090-a8d24e25c768",
   "metadata": {},
   "outputs": [
    {
     "name": "stdout",
     "output_type": "stream",
     "text": [
      "Collecting ydata-profiling\n",
      "  Downloading ydata_profiling-4.16.1-py2.py3-none-any.whl.metadata (22 kB)\n",
      "Requirement already satisfied: scipy<1.16,>=1.4.1 in c:\\users\\user\\anaconda3\\lib\\site-packages (from ydata-profiling) (1.13.1)\n",
      "Requirement already satisfied: pandas!=1.4.0,<3.0,>1.1 in c:\\users\\user\\anaconda3\\lib\\site-packages (from ydata-profiling) (2.2.2)\n",
      "Requirement already satisfied: matplotlib<=3.10,>=3.5 in c:\\users\\user\\anaconda3\\lib\\site-packages (from ydata-profiling) (3.9.2)\n",
      "Requirement already satisfied: pydantic>=2 in c:\\users\\user\\anaconda3\\lib\\site-packages (from ydata-profiling) (2.8.2)\n",
      "Requirement already satisfied: PyYAML<6.1,>=5.0.0 in c:\\users\\user\\anaconda3\\lib\\site-packages (from ydata-profiling) (6.0.1)\n",
      "Requirement already satisfied: jinja2<3.2,>=2.11.1 in c:\\users\\user\\anaconda3\\lib\\site-packages (from ydata-profiling) (3.1.4)\n",
      "Collecting visions<0.8.2,>=0.7.5 (from visions[type_image_path]<0.8.2,>=0.7.5->ydata-profiling)\n",
      "  Downloading visions-0.8.1-py3-none-any.whl.metadata (11 kB)\n",
      "Requirement already satisfied: numpy<2.2,>=1.16.0 in c:\\users\\user\\anaconda3\\lib\\site-packages (from ydata-profiling) (1.26.4)\n",
      "Collecting htmlmin==0.1.12 (from ydata-profiling)\n",
      "  Downloading htmlmin-0.1.12.tar.gz (19 kB)\n",
      "  Preparing metadata (setup.py): started\n",
      "  Preparing metadata (setup.py): finished with status 'done'\n",
      "Collecting phik<0.13,>=0.11.1 (from ydata-profiling)\n",
      "  Downloading phik-0.12.4-cp312-cp312-win_amd64.whl.metadata (5.6 kB)\n",
      "Requirement already satisfied: requests<3,>=2.24.0 in c:\\users\\user\\anaconda3\\lib\\site-packages (from ydata-profiling) (2.32.3)\n",
      "Requirement already satisfied: tqdm<5,>=4.48.2 in c:\\users\\user\\anaconda3\\lib\\site-packages (from ydata-profiling) (4.66.5)\n",
      "Requirement already satisfied: seaborn<0.14,>=0.10.1 in c:\\users\\user\\anaconda3\\lib\\site-packages (from ydata-profiling) (0.13.2)\n",
      "Collecting multimethod<2,>=1.4 (from ydata-profiling)\n",
      "  Downloading multimethod-1.12-py3-none-any.whl.metadata (9.6 kB)\n",
      "Requirement already satisfied: statsmodels<1,>=0.13.2 in c:\\users\\user\\anaconda3\\lib\\site-packages (from ydata-profiling) (0.14.2)\n",
      "Collecting typeguard<5,>=3 (from ydata-profiling)\n",
      "  Downloading typeguard-4.4.2-py3-none-any.whl.metadata (3.8 kB)\n",
      "Collecting imagehash==4.3.1 (from ydata-profiling)\n",
      "  Downloading ImageHash-4.3.1-py2.py3-none-any.whl.metadata (8.0 kB)\n",
      "Collecting wordcloud>=1.9.3 (from ydata-profiling)\n",
      "  Downloading wordcloud-1.9.4-cp312-cp312-win_amd64.whl.metadata (3.5 kB)\n",
      "Collecting dacite>=1.8 (from ydata-profiling)\n",
      "  Downloading dacite-1.9.2-py3-none-any.whl.metadata (17 kB)\n",
      "Requirement already satisfied: numba<=0.61,>=0.56.0 in c:\\users\\user\\anaconda3\\lib\\site-packages (from ydata-profiling) (0.60.0)\n",
      "Requirement already satisfied: PyWavelets in c:\\users\\user\\anaconda3\\lib\\site-packages (from imagehash==4.3.1->ydata-profiling) (1.7.0)\n",
      "Requirement already satisfied: pillow in c:\\users\\user\\anaconda3\\lib\\site-packages (from imagehash==4.3.1->ydata-profiling) (10.4.0)\n",
      "Requirement already satisfied: MarkupSafe>=2.0 in c:\\users\\user\\anaconda3\\lib\\site-packages (from jinja2<3.2,>=2.11.1->ydata-profiling) (2.1.3)\n",
      "Requirement already satisfied: contourpy>=1.0.1 in c:\\users\\user\\anaconda3\\lib\\site-packages (from matplotlib<=3.10,>=3.5->ydata-profiling) (1.2.0)\n",
      "Requirement already satisfied: cycler>=0.10 in c:\\users\\user\\anaconda3\\lib\\site-packages (from matplotlib<=3.10,>=3.5->ydata-profiling) (0.11.0)\n",
      "Requirement already satisfied: fonttools>=4.22.0 in c:\\users\\user\\anaconda3\\lib\\site-packages (from matplotlib<=3.10,>=3.5->ydata-profiling) (4.51.0)\n",
      "Requirement already satisfied: kiwisolver>=1.3.1 in c:\\users\\user\\anaconda3\\lib\\site-packages (from matplotlib<=3.10,>=3.5->ydata-profiling) (1.4.4)\n",
      "Requirement already satisfied: packaging>=20.0 in c:\\users\\user\\anaconda3\\lib\\site-packages (from matplotlib<=3.10,>=3.5->ydata-profiling) (24.1)\n",
      "Requirement already satisfied: pyparsing>=2.3.1 in c:\\users\\user\\anaconda3\\lib\\site-packages (from matplotlib<=3.10,>=3.5->ydata-profiling) (3.1.2)\n",
      "Requirement already satisfied: python-dateutil>=2.7 in c:\\users\\user\\anaconda3\\lib\\site-packages (from matplotlib<=3.10,>=3.5->ydata-profiling) (2.9.0.post0)\n",
      "Requirement already satisfied: llvmlite<0.44,>=0.43.0dev0 in c:\\users\\user\\anaconda3\\lib\\site-packages (from numba<=0.61,>=0.56.0->ydata-profiling) (0.43.0)\n",
      "Requirement already satisfied: pytz>=2020.1 in c:\\users\\user\\anaconda3\\lib\\site-packages (from pandas!=1.4.0,<3.0,>1.1->ydata-profiling) (2024.1)\n",
      "Requirement already satisfied: tzdata>=2022.7 in c:\\users\\user\\anaconda3\\lib\\site-packages (from pandas!=1.4.0,<3.0,>1.1->ydata-profiling) (2023.3)\n",
      "Requirement already satisfied: joblib>=0.14.1 in c:\\users\\user\\anaconda3\\lib\\site-packages (from phik<0.13,>=0.11.1->ydata-profiling) (1.4.2)\n",
      "Requirement already satisfied: annotated-types>=0.4.0 in c:\\users\\user\\anaconda3\\lib\\site-packages (from pydantic>=2->ydata-profiling) (0.6.0)\n",
      "Requirement already satisfied: pydantic-core==2.20.1 in c:\\users\\user\\anaconda3\\lib\\site-packages (from pydantic>=2->ydata-profiling) (2.20.1)\n",
      "Requirement already satisfied: typing-extensions>=4.6.1 in c:\\users\\user\\anaconda3\\lib\\site-packages (from pydantic>=2->ydata-profiling) (4.11.0)\n",
      "Requirement already satisfied: charset-normalizer<4,>=2 in c:\\users\\user\\anaconda3\\lib\\site-packages (from requests<3,>=2.24.0->ydata-profiling) (3.3.2)\n",
      "Requirement already satisfied: idna<4,>=2.5 in c:\\users\\user\\anaconda3\\lib\\site-packages (from requests<3,>=2.24.0->ydata-profiling) (3.7)\n",
      "Requirement already satisfied: urllib3<3,>=1.21.1 in c:\\users\\user\\anaconda3\\lib\\site-packages (from requests<3,>=2.24.0->ydata-profiling) (2.2.3)\n",
      "Requirement already satisfied: certifi>=2017.4.17 in c:\\users\\user\\anaconda3\\lib\\site-packages (from requests<3,>=2.24.0->ydata-profiling) (2025.1.31)\n",
      "Requirement already satisfied: patsy>=0.5.6 in c:\\users\\user\\anaconda3\\lib\\site-packages (from statsmodels<1,>=0.13.2->ydata-profiling) (0.5.6)\n",
      "Requirement already satisfied: colorama in c:\\users\\user\\anaconda3\\lib\\site-packages (from tqdm<5,>=4.48.2->ydata-profiling) (0.4.6)\n",
      "Requirement already satisfied: attrs>=19.3.0 in c:\\users\\user\\anaconda3\\lib\\site-packages (from visions<0.8.2,>=0.7.5->visions[type_image_path]<0.8.2,>=0.7.5->ydata-profiling) (23.1.0)\n",
      "Requirement already satisfied: networkx>=2.4 in c:\\users\\user\\anaconda3\\lib\\site-packages (from visions<0.8.2,>=0.7.5->visions[type_image_path]<0.8.2,>=0.7.5->ydata-profiling) (3.3)\n",
      "Collecting puremagic (from visions<0.8.2,>=0.7.5->visions[type_image_path]<0.8.2,>=0.7.5->ydata-profiling)\n",
      "  Downloading puremagic-1.29-py3-none-any.whl.metadata (5.8 kB)\n",
      "Requirement already satisfied: six in c:\\users\\user\\anaconda3\\lib\\site-packages (from patsy>=0.5.6->statsmodels<1,>=0.13.2->ydata-profiling) (1.16.0)\n",
      "Downloading ydata_profiling-4.16.1-py2.py3-none-any.whl (400 kB)\n",
      "Downloading ImageHash-4.3.1-py2.py3-none-any.whl (296 kB)\n",
      "Downloading dacite-1.9.2-py3-none-any.whl (16 kB)\n",
      "Downloading multimethod-1.12-py3-none-any.whl (10 kB)\n",
      "Downloading phik-0.12.4-cp312-cp312-win_amd64.whl (666 kB)\n",
      "   ---------------------------------------- 0.0/666.4 kB ? eta -:--:--\n",
      "   ------------------------------ -------- 524.3/666.4 kB 16.4 MB/s eta 0:00:01\n",
      "   ---------------------------------------- 666.4/666.4 kB 3.7 MB/s eta 0:00:00\n",
      "Downloading typeguard-4.4.2-py3-none-any.whl (35 kB)\n",
      "Downloading visions-0.8.1-py3-none-any.whl (105 kB)\n",
      "Downloading wordcloud-1.9.4-cp312-cp312-win_amd64.whl (301 kB)\n",
      "Downloading puremagic-1.29-py3-none-any.whl (43 kB)\n",
      "Building wheels for collected packages: htmlmin\n",
      "  Building wheel for htmlmin (setup.py): started\n",
      "  Building wheel for htmlmin (setup.py): finished with status 'done'\n",
      "  Created wheel for htmlmin: filename=htmlmin-0.1.12-py3-none-any.whl size=27091 sha256=ceb78d674fddeabd1cbc3be25c5d15f73ef1515f7d220db73705996a605282bd\n",
      "  Stored in directory: c:\\users\\user\\appdata\\local\\pip\\cache\\wheels\\5f\\d4\\d7\\4189b07b5902ee9f3ce0dbb14909fbe8037c39d6c63ffd49c9\n",
      "Successfully built htmlmin\n",
      "Installing collected packages: puremagic, htmlmin, typeguard, multimethod, dacite, imagehash, wordcloud, visions, phik, ydata-profiling\n",
      "Successfully installed dacite-1.9.2 htmlmin-0.1.12 imagehash-4.3.1 multimethod-1.12 phik-0.12.4 puremagic-1.29 typeguard-4.4.2 visions-0.8.1 wordcloud-1.9.4 ydata-profiling-4.16.1\n",
      "Note: you may need to restart the kernel to use updated packages.\n"
     ]
    }
   ],
   "source": [
    "pip install ydata-profiling"
   ]
  },
  {
   "cell_type": "markdown",
   "id": "9be21ad4-a030-47df-859d-a866c1311267",
   "metadata": {},
   "source": [
    "##### 21-) ydata_profiling kütüphanesini kullanarak dataFrame'deki veriler hakkında \"html\" olarak, \n",
    "otomatik veri analizi yapan bir rapor hazırlayınız. "
   ]
  },
  {
   "cell_type": "code",
   "execution_count": 55,
   "id": "a31a4118-e6a6-43da-8c3d-b71b479f2235",
   "metadata": {},
   "outputs": [
    {
     "data": {
      "text/html": [
       "\n",
       "            <div>\n",
       "                <ins><a href=\"https://ydata.ai/register\">Upgrade to ydata-sdk</a></ins>\n",
       "                <p>\n",
       "                    Improve your data and profiling with ydata-sdk, featuring data quality scoring, redundancy detection, outlier identification, text validation, and synthetic data generation.\n",
       "                </p>\n",
       "            </div>\n",
       "            "
      ],
      "text/plain": [
       "<IPython.core.display.HTML object>"
      ]
     },
     "metadata": {},
     "output_type": "display_data"
    },
    {
     "data": {
      "application/vnd.jupyter.widget-view+json": {
       "model_id": "eeead651fee94ab5949161b7c1a62462",
       "version_major": 2,
       "version_minor": 0
      },
      "text/plain": [
       "Summarize dataset:   0%|          | 0/5 [00:00<?, ?it/s]"
      ]
     },
     "metadata": {},
     "output_type": "display_data"
    },
    {
     "name": "stderr",
     "output_type": "stream",
     "text": [
      "\n",
      "  0%|          | 0/23 [00:00<?, ?it/s]\u001b[A\n",
      "  4%|▍         | 1/23 [00:00<00:09,  2.27it/s]\u001b[A\n",
      " 26%|██▌       | 6/23 [00:00<00:01, 12.53it/s]\u001b[A\n",
      "100%|██████████| 23/23 [00:00<00:00, 32.89it/s]\u001b[A\n"
     ]
    },
    {
     "data": {
      "application/vnd.jupyter.widget-view+json": {
       "model_id": "10f8a4545e474680898ca74807688fe1",
       "version_major": 2,
       "version_minor": 0
      },
      "text/plain": [
       "Generate report structure:   0%|          | 0/1 [00:00<?, ?it/s]"
      ]
     },
     "metadata": {},
     "output_type": "display_data"
    },
    {
     "data": {
      "application/vnd.jupyter.widget-view+json": {
       "model_id": "51c82df215ad4f61ac90fb03ef25d592",
       "version_major": 2,
       "version_minor": 0
      },
      "text/plain": [
       "Render HTML:   0%|          | 0/1 [00:00<?, ?it/s]"
      ]
     },
     "metadata": {},
     "output_type": "display_data"
    },
    {
     "data": {
      "application/vnd.jupyter.widget-view+json": {
       "model_id": "21d02d7da8af42c59a5ec90fd3b48919",
       "version_major": 2,
       "version_minor": 0
      },
      "text/plain": [
       "Export report to file:   0%|          | 0/1 [00:00<?, ?it/s]"
      ]
     },
     "metadata": {},
     "output_type": "display_data"
    },
    {
     "name": "stdout",
     "output_type": "stream",
     "text": [
      "Rapor başarıyla oluşturuldu!\n"
     ]
    }
   ],
   "source": [
    "from ydata_profiling import ProfileReport\n",
    "profile = ProfileReport(df, title=\"Veri Seti Raporu\", explorative=True)\n",
    "# Raporu HTML formatında kaydetme\n",
    "profile.to_file(\"veri_seti_raporu.html\")\n",
    "\n",
    "print(\"Rapor başarıyla oluşturuldu!\")"
   ]
  },
  {
   "cell_type": "markdown",
   "id": "04e1a590-f71c-451b-a425-0d9599207d04",
   "metadata": {},
   "source": [
    "##### 22-) CSV dosyası olarak link’ten alınan dataFrame’i herhangi bir dizine dataFrame olarak \n",
    "kopyalayınız."
   ]
  },
  {
   "cell_type": "code",
   "execution_count": 59,
   "id": "30f6ae86-dfd4-491a-876c-48eebaea2d24",
   "metadata": {},
   "outputs": [
    {
     "name": "stdout",
     "output_type": "stream",
     "text": [
      "CSV dosyası indirildi ve kaydedildi.\n"
     ]
    }
   ],
   "source": [
    "import requests\n",
    "import pandas as pd\n",
    "\n",
    "# CSV dosyasının linki\n",
    "url = r'https://www.kaggle.com/datasets/umutalkn/marmara-fault-earthquake-interactions-20002025'  # Buraya CSV dosyasının URL'sini yazın\n",
    "\n",
    "# CSV dosyasını indir\n",
    "response = requests.get(url)\n",
    "\n",
    "# İndirilen dosyayı bir dizine kaydet\n",
    "file_path = r'C:\\Users\\USER\\Desktop\\marmara-fault-earthquake-interactions.csv'  # Dosyanın kaydedileceği dizin ve dosya adı\n",
    "\n",
    "# Dosyayı kaydet\n",
    "with open(file_path, \"wb\") as file:\n",
    "    file.write(response.content)\n",
    "\n",
    "print(\"CSV dosyası indirildi ve kaydedildi.\")\n"
   ]
  },
  {
   "cell_type": "markdown",
   "id": "9c2b393d-2169-4a93-97dd-8f4f5727d9bd",
   "metadata": {},
   "source": [
    "##### 23-) DataFrame'deki herhangi bir sütunu ekrana alınız ve veri tipini sorgulayınız."
   ]
  },
  {
   "cell_type": "code",
   "execution_count": 63,
   "id": "9d7d0aa3-20d7-43e7-a17f-30a58f67ff1c",
   "metadata": {},
   "outputs": [
    {
     "name": "stdout",
     "output_type": "stream",
     "text": [
      "0    40.8394\n",
      "1    40.8442\n",
      "2    40.8353\n",
      "3    40.8567\n",
      "4    40.8467\n",
      "Name: Latitude, dtype: float64\n",
      "Veri tipi: float64\n"
     ]
    }
   ],
   "source": [
    "column_data = df['Latitude']\n",
    "\n",
    "print(column_data.head())\n",
    "print(f\"Veri tipi: {column_data.dtype}\")\n"
   ]
  },
  {
   "cell_type": "markdown",
   "id": "4811526c-374d-4fe1-89c3-1aad54a1aecd",
   "metadata": {},
   "source": [
    "##### 24-) Sütunun Class'ını sorgulayınız. "
   ]
  },
  {
   "cell_type": "code",
   "execution_count": 65,
   "id": "1374e02d-8012-422f-a9b3-a824a3f5db38",
   "metadata": {},
   "outputs": [
    {
     "name": "stdout",
     "output_type": "stream",
     "text": [
      "Sütunun sınıfı: <class 'pandas.core.series.Series'>\n"
     ]
    }
   ],
   "source": [
    "column_data = df['Latitude']\n",
    "print(f\"Sütunun sınıfı: {type(column_data)}\")"
   ]
  },
  {
   "cell_type": "markdown",
   "id": "e88bd76e-bf4f-4ec1-bd5a-5aaa04defa57",
   "metadata": {},
   "source": [
    "##### 25-) DataFrame’de \"loc  \" deyimi kullanarak indeks etiketi ile sorgu yapınız."
   ]
  },
  {
   "cell_type": "code",
   "execution_count": 67,
   "id": "34b67702-db4c-4486-9730-e6eafe2de4a6",
   "metadata": {},
   "outputs": [
    {
     "name": "stdout",
     "output_type": "stream",
     "text": [
      "         Date  Latitude  Longitude  Depth_km  Magnitude_ML  \\\n",
      "0  2025-04-23   40.8394    28.4000     15.05           2.5   \n",
      "1  2025-04-23   40.8442    28.3108      5.23           2.6   \n",
      "\n",
      "                                            Location           Nearest_Fault  \\\n",
      "0  Marmara Denizi - [20.67 km] Büyükçekmece (İsta...  Kuzey Anadolu Fay Zonu   \n",
      "1  Marmara Denizi - [24.05 km] Büyükçekmece (İsta...  Kuzey Anadolu Fay Zonu   \n",
      "\n",
      "   Fault_Length_km  Fault_Width_m  Fault_Depth_m  ... Slip_Rate_mm_per_yr  \\\n",
      "0             10.0            2.0            3.0  ...                 7.5   \n",
      "1             10.0            2.0            3.0  ...                 7.5   \n",
      "\n",
      "   Max_Surface_Slip_m  Recurrence_Interval_yr  Last_Event_Year  Last_Event_Mw  \\\n",
      "0                 5.0                   550.0           1999.0            7.4   \n",
      "1                 5.0                   550.0           1999.0            7.4   \n",
      "\n",
      "   Elapsed_Time_yr  Slip_Deficit_m  Normalized_Slip_m_per_km  \\\n",
      "0             26.0           0.195                  0.004167   \n",
      "1             26.0           0.195                  0.004167   \n",
      "\n",
      "   Moment_Potential_Nm  Mw_Potential  \n",
      "0         1.053000e+20      2.648286  \n",
      "1         1.053000e+20      2.648286  \n",
      "\n",
      "[2 rows x 23 columns]\n"
     ]
    }
   ],
   "source": [
    "rows_data = df.loc[[0, 1]]\n",
    "print(rows_data)"
   ]
  },
  {
   "cell_type": "markdown",
   "id": "1b056469-c8e4-4401-a1c3-b92b8202b285",
   "metadata": {},
   "source": [
    "##### 26-) DataFrame’de \"iloc \" deyimi kullanarak indeks numarası ile sorgu yapınız."
   ]
  },
  {
   "cell_type": "code",
   "execution_count": 69,
   "id": "8d282595-b40e-4f46-aed6-c68394704836",
   "metadata": {},
   "outputs": [
    {
     "name": "stdout",
     "output_type": "stream",
     "text": [
      "Date                                                               2025-04-23\n",
      "Latitude                                                              40.8394\n",
      "Longitude                                                                28.4\n",
      "Depth_km                                                                15.05\n",
      "Magnitude_ML                                                              2.5\n",
      "Location                    Marmara Denizi - [20.67 km] Büyükçekmece (İsta...\n",
      "Nearest_Fault                                          Kuzey Anadolu Fay Zonu\n",
      "Fault_Length_km                                                          10.0\n",
      "Fault_Width_m                                                             2.0\n",
      "Fault_Depth_m                                                             3.0\n",
      "Fault_Type                                                        strike-slip\n",
      "Length_km                                                              1200.0\n",
      "Seismogenic_Depth_km                                                     15.0\n",
      "Slip_Rate_mm_per_yr                                                       7.5\n",
      "Max_Surface_Slip_m                                                        5.0\n",
      "Recurrence_Interval_yr                                                  550.0\n",
      "Last_Event_Year                                                        1999.0\n",
      "Last_Event_Mw                                                             7.4\n",
      "Elapsed_Time_yr                                                          26.0\n",
      "Slip_Deficit_m                                                          0.195\n",
      "Normalized_Slip_m_per_km                                             0.004167\n",
      "Moment_Potential_Nm                                   105300000000000000000.0\n",
      "Mw_Potential                                                         2.648286\n",
      "Name: 0, dtype: object\n"
     ]
    }
   ],
   "source": [
    "row_data = df.iloc[0]\n",
    "print(row_data)"
   ]
  },
  {
   "cell_type": "markdown",
   "id": "83b19aaf-1c23-4d10-870d-18c428c9ca2a",
   "metadata": {},
   "source": [
    "##### 27-) Satır ve sütunu birlikte seçerek \"loc\" deyimi ile sorgu yazınız. "
   ]
  },
  {
   "cell_type": "code",
   "execution_count": 71,
   "id": "0f04447d-43e1-4901-a4c5-301cd1c9ca98",
   "metadata": {},
   "outputs": [
    {
     "name": "stdout",
     "output_type": "stream",
     "text": [
      "Latitude     40.8394\n",
      "Longitude       28.4\n",
      "Name: 0, dtype: object\n"
     ]
    }
   ],
   "source": [
    "row_columns = df.loc[0, ['Latitude', 'Longitude']]\n",
    "print(row_columns)"
   ]
  },
  {
   "cell_type": "markdown",
   "id": "85405a72-538f-4874-bab4-a5f7998abbce",
   "metadata": {},
   "source": [
    "##### 28-) loc () deyimini kullanarak dataFrame’de \"Dilimleme - Slicing\" işlemi yapınız."
   ]
  },
  {
   "cell_type": "code",
   "execution_count": 73,
   "id": "2b46ad6d-b722-4118-993d-24c2cc1a8172",
   "metadata": {},
   "outputs": [
    {
     "name": "stdout",
     "output_type": "stream",
     "text": [
      "   Latitude  Longitude\n",
      "0   40.8394    28.4000\n",
      "1   40.8442    28.3108\n",
      "2   40.8353    28.3511\n",
      "3   40.8567    28.3014\n",
      "4   40.8467    28.4094\n",
      "5   40.8483    28.3342\n"
     ]
    }
   ],
   "source": [
    "slicing_data = df.loc[0:5, 'Latitude':'Longitude']\n",
    "print(slicing_data)"
   ]
  },
  {
   "cell_type": "markdown",
   "id": "aa62dd86-8ad7-44d0-9180-f8970f508a18",
   "metadata": {},
   "source": [
    "##### 29-) DataFrame’de filtreleme işlemi yapınız. "
   ]
  },
  {
   "cell_type": "code",
   "execution_count": 75,
   "id": "7c7b1796-8e7c-4a61-8b6d-e6c3163418d1",
   "metadata": {},
   "outputs": [
    {
     "name": "stdout",
     "output_type": "stream",
     "text": [
      "             Date  Latitude  Longitude  Depth_km  Magnitude_ML  \\\n",
      "101    2025-04-23   40.8369    28.3267      6.99           5.9   \n",
      "102    2025-04-23   40.8600    28.2444      6.92           6.2   \n",
      "629    2023-12-04   40.4269    28.8319      8.98           5.1   \n",
      "1915   2019-09-26   40.8818    28.2140      7.97           5.8   \n",
      "3499   2017-02-12   39.5336    26.1700      7.00           5.3   \n",
      "3801   2017-02-07   39.5140    26.1161     11.92           5.2   \n",
      "3867   2017-02-06   39.5275    26.1373      9.83           5.3   \n",
      "3910   2017-02-06   39.5423    26.1318      8.86           5.3   \n",
      "5739   2014-05-24   40.3951    26.3058      6.98           5.3   \n",
      "8230   2012-06-07   40.8628    27.9043     26.96           5.1   \n",
      "9647   2011-07-25   40.8195    27.7498      6.97           5.1   \n",
      "11263  2010-11-03   40.3997    26.3147     28.90           5.1   \n",
      "14983  2008-12-28   40.3287    26.0069      2.94           5.1   \n",
      "16939  2006-10-24   40.4221    28.9937      7.89           5.2   \n",
      "16958  2006-10-20   40.2519    27.9792     16.70           5.2   \n",
      "21304  2003-07-06   40.4900    26.2500     11.60           5.2   \n",
      "\n",
      "                                                Location  \\\n",
      "101    Marmara Denizi - [23.88 km] Büyükçekmece (İsta...   \n",
      "102       Marmara Denizi - [23.16 km] Silivri (İstanbul)   \n",
      "629    Marmara Denizi - Gemlik Körfezi - [04.73 km] M...   \n",
      "1915      Marmara Denizi - [21.07 km] Silivri (İstanbul)   \n",
      "3499                                 Ayvacık (Çanakkale)   \n",
      "3801                                 Ayvacık (Çanakkale)   \n",
      "3867                                 Ayvacık (Çanakkale)   \n",
      "3910                                 Ayvacık (Çanakkale)   \n",
      "5739   Ege Denizi - Saros Körfezi - [08.21 km] Eceaba...   \n",
      "8230   Marmara Denizi - [12.14 km] Marmaraereğlisi (T...   \n",
      "9647     Marmara Denizi - [20.08 km] Marmara (Balıkesir)   \n",
      "11263  Ege Denizi - Saros Körfezi - [08.41 km] Eceaba...   \n",
      "14983       Ege Denizi - [12.51 km] Gökçeada (Çanakkale)   \n",
      "16939  Marmara Denizi - Gemlik Körfezi - [05.09 km] A...   \n",
      "16958                               Bandırma (Balıkesir)   \n",
      "21304  Ege Denizi - Saros Körfezi - [14.04 km] Enez (...   \n",
      "\n",
      "                           Nearest_Fault  Fault_Length_km  Fault_Width_m  \\\n",
      "101               Kuzey Anadolu Fay Zonu             10.0            2.0   \n",
      "102    Kuzey Anadolu Fay Zonu Ganos Fayı             15.0            2.0   \n",
      "629               Kuzey Anadolu Fay Zonu             10.0            2.0   \n",
      "1915   Kuzey Anadolu Fay Zonu Ganos Fayı             15.0            2.0   \n",
      "3499              Kuzey Anadolu Fay Zonu             27.0            4.0   \n",
      "3801              Kuzey Anadolu Fay Zonu             27.0            4.0   \n",
      "3867              Kuzey Anadolu Fay Zonu             27.0            4.0   \n",
      "3910                          Troya Fayı              6.0            2.0   \n",
      "5739                          Troya Fayı             11.0            2.0   \n",
      "8230   Kuzey Anadolu Fay Zonu Ganos Fayı             15.0            2.0   \n",
      "9647   Kuzey Anadolu Fay Zonu Ganos Fayı             15.0            5.0   \n",
      "11263                         Troya Fayı             11.0            2.0   \n",
      "14983                         Troya Fayı             11.0            2.0   \n",
      "16939             Kuzey Anadolu Fay Zonu             10.0            2.0   \n",
      "16958                    Manyas Fay Zonu             15.0            5.0   \n",
      "21304             Kuzey Anadolu Fay Zonu             11.0            2.0   \n",
      "\n",
      "       Fault_Depth_m  ... Slip_Rate_mm_per_yr  Max_Surface_Slip_m  \\\n",
      "101              3.0  ...                 7.5                 5.0   \n",
      "102              2.0  ...                 5.0                 5.5   \n",
      "629              3.0  ...                 7.5                 5.0   \n",
      "1915             2.0  ...                 5.0                 5.5   \n",
      "3499             4.0  ...                 7.5                 5.0   \n",
      "3801             4.0  ...                 7.5                 5.0   \n",
      "3867             4.0  ...                 7.5                 5.0   \n",
      "3910             4.5  ...                 1.5                 0.8   \n",
      "5739             3.0  ...                 1.5                 0.8   \n",
      "8230             2.0  ...                 5.0                 5.5   \n",
      "9647             2.0  ...                 5.0                 5.5   \n",
      "11263            3.0  ...                 1.5                 0.8   \n",
      "14983            3.0  ...                 1.5                 0.8   \n",
      "16939            3.0  ...                 7.5                 5.0   \n",
      "16958            2.0  ...                 0.8                 0.5   \n",
      "21304            3.0  ...                 7.5                 5.0   \n",
      "\n",
      "       Recurrence_Interval_yr  Last_Event_Year  Last_Event_Mw  \\\n",
      "101                550.000000      1999.000000            7.4   \n",
      "102                400.000000      1912.000000            7.4   \n",
      "629                550.000000      1999.000000            7.4   \n",
      "1915               400.000000      1912.000000            7.4   \n",
      "3499               550.000000      1999.000000            7.4   \n",
      "3801               550.000000      1999.000000            7.4   \n",
      "3867               550.000000      1999.000000            7.4   \n",
      "3910               566.666667      1910.333333            7.2   \n",
      "5739               566.666667      1910.333333            7.2   \n",
      "8230               400.000000      1912.000000            7.4   \n",
      "9647               400.000000      1912.000000            7.4   \n",
      "11263              566.666667      1910.333333            7.2   \n",
      "14983              566.666667      1910.333333            7.2   \n",
      "16939              550.000000      1999.000000            7.4   \n",
      "16958              600.000000      1964.000000            6.8   \n",
      "21304              550.000000      1999.000000            7.4   \n",
      "\n",
      "       Elapsed_Time_yr  Slip_Deficit_m  Normalized_Slip_m_per_km  \\\n",
      "101          26.000000          0.1950                  0.004167   \n",
      "102         113.000000          0.5650                  0.115789   \n",
      "629          26.000000          0.1950                  0.004167   \n",
      "1915        113.000000          0.5650                  0.115789   \n",
      "3499         26.000000          0.1950                  0.004167   \n",
      "3801         26.000000          0.1950                  0.004167   \n",
      "3867         26.000000          0.1950                  0.004167   \n",
      "3910        114.666667          0.1720                  0.022857   \n",
      "5739        114.666667          0.1720                  0.022857   \n",
      "8230        113.000000          0.5650                  0.115789   \n",
      "9647        113.000000          0.5650                  0.115789   \n",
      "11263       114.666667          0.1720                  0.022857   \n",
      "14983       114.666667          0.1720                  0.022857   \n",
      "16939        26.000000          0.1950                  0.004167   \n",
      "16958        61.000000          0.0488                  0.013158   \n",
      "21304        26.000000          0.1950                  0.004167   \n",
      "\n",
      "       Moment_Potential_Nm  Mw_Potential  \n",
      "101           1.053000e+20      2.648286  \n",
      "102           1.207688e+19      2.021303  \n",
      "629           1.053000e+20      2.648286  \n",
      "1915          1.207688e+19      2.021303  \n",
      "3499          1.053000e+20      2.648286  \n",
      "3801          1.053000e+20      2.648286  \n",
      "3867          1.053000e+20      2.648286  \n",
      "3910          2.347800e+18      1.547107  \n",
      "5739          2.347800e+18      1.547107  \n",
      "8230          1.207688e+19      2.021303  \n",
      "9647          1.207688e+19      2.021303  \n",
      "11263         2.347800e+18      1.547107  \n",
      "14983         2.347800e+18      1.547107  \n",
      "16939         1.053000e+20      2.648286  \n",
      "16958         6.675840e+17      1.183004  \n",
      "21304         1.053000e+20      2.648286  \n",
      "\n",
      "[16 rows x 23 columns]\n"
     ]
    }
   ],
   "source": [
    "filtered_df = df[df['Magnitude_ML'] > 5]\n",
    "print(filtered_df)"
   ]
  },
  {
   "cell_type": "markdown",
   "id": "25a0cebc-4c12-4f8e-8124-2fe21f6e082a",
   "metadata": {},
   "source": [
    "##### 30-) DataFrame’de indeksi sıfırlayınız. "
   ]
  },
  {
   "cell_type": "code",
   "execution_count": 77,
   "id": "6b55afe6-171f-45f7-b96d-a9e1c3bf7c37",
   "metadata": {},
   "outputs": [
    {
     "name": "stdout",
     "output_type": "stream",
     "text": [
      "             Date  Latitude  Longitude  Depth_km  Magnitude_ML  \\\n",
      "0      2025-04-23   40.8394    28.4000     15.05           2.5   \n",
      "1      2025-04-23   40.8442    28.3108      5.23           2.6   \n",
      "2      2025-04-23   40.8353    28.3511      6.97           2.0   \n",
      "3      2025-04-23   40.8567    28.3014     14.58           3.5   \n",
      "4      2025-04-23   40.8467    28.4094      8.33           2.8   \n",
      "...           ...       ...        ...       ...           ...   \n",
      "21600  2000-04-30   40.5600    29.2100      3.80           2.7   \n",
      "21601  2000-04-30   40.0200    28.8900      1.00           2.9   \n",
      "21602  2000-04-29   40.9000    30.4900      5.70           2.6   \n",
      "21603  2000-04-28   40.3700    29.1400     10.40           3.2   \n",
      "21604  2000-04-23   39.5600    26.1100     13.80           3.2   \n",
      "\n",
      "                                                Location  \\\n",
      "0      Marmara Denizi - [20.67 km] Büyükçekmece (İsta...   \n",
      "1      Marmara Denizi - [24.05 km] Büyükçekmece (İsta...   \n",
      "2      Marmara Denizi - [22.91 km] Büyükçekmece (İsta...   \n",
      "3         Marmara Denizi - [23.07 km] Silivri (İstanbul)   \n",
      "4      Marmara Denizi - [19.63 km] Büyükçekmece (İsta...   \n",
      "...                                                  ...   \n",
      "21600                                    Merkez (Yalova)   \n",
      "21601                                   Orhaneli (Bursa)   \n",
      "21602                                  Söğütlü (Sakarya)   \n",
      "21603                                     Gemlik (Bursa)   \n",
      "21604                                Ayvacık (Çanakkale)   \n",
      "\n",
      "                Nearest_Fault  Fault_Length_km  Fault_Width_m  Fault_Depth_m  \\\n",
      "0      Kuzey Anadolu Fay Zonu             10.0            2.0            3.0   \n",
      "1      Kuzey Anadolu Fay Zonu             10.0            2.0            3.0   \n",
      "2      Kuzey Anadolu Fay Zonu             10.0            2.0            3.0   \n",
      "3      Kuzey Anadolu Fay Zonu             10.0            2.0            3.0   \n",
      "4      Kuzey Anadolu Fay Zonu             10.0            2.0            3.0   \n",
      "...                       ...              ...            ...            ...   \n",
      "21600  Kuzey Anadolu Fay Zonu             25.0            2.0            3.7   \n",
      "21601           Orhaneli Fayı             15.0            4.0            3.0   \n",
      "21602  Kuzey Anadolu Fay Zonu             19.0            2.7            1.5   \n",
      "21603  Kuzey Anadolu Fay Zonu             10.0            2.0            3.0   \n",
      "21604              Troya Fayı              6.0            2.0            4.5   \n",
      "\n",
      "       ... Slip_Rate_mm_per_yr  Max_Surface_Slip_m  Recurrence_Interval_yr  \\\n",
      "0      ...                 7.5            5.000000              550.000000   \n",
      "1      ...                 7.5            5.000000              550.000000   \n",
      "2      ...                 7.5            5.000000              550.000000   \n",
      "3      ...                 7.5            5.000000              550.000000   \n",
      "4      ...                 7.5            5.000000              550.000000   \n",
      "...    ...                 ...                 ...                     ...   \n",
      "21600  ...                 7.5            5.000000              550.000000   \n",
      "21601  ...                 2.5            1.433333              700.000000   \n",
      "21602  ...                 7.5            5.000000              550.000000   \n",
      "21603  ...                 7.5            5.000000              550.000000   \n",
      "21604  ...                 1.5            0.800000              566.666667   \n",
      "\n",
      "       Last_Event_Year  Last_Event_Mw  Elapsed_Time_yr  Slip_Deficit_m  \\\n",
      "0          1999.000000            7.4        26.000000           0.195   \n",
      "1          1999.000000            7.4        26.000000           0.195   \n",
      "2          1999.000000            7.4        26.000000           0.195   \n",
      "3          1999.000000            7.4        26.000000           0.195   \n",
      "4          1999.000000            7.4        26.000000           0.195   \n",
      "...                ...            ...              ...             ...   \n",
      "21600      1999.000000            7.4        26.000000           0.195   \n",
      "21601      1855.000000            6.9       170.000000           0.425   \n",
      "21602      1999.000000            7.4        26.000000           0.195   \n",
      "21603      1999.000000            7.4        26.000000           0.195   \n",
      "21604      1910.333333            7.2       114.666667           0.172   \n",
      "\n",
      "       Normalized_Slip_m_per_km  Moment_Potential_Nm  Mw_Potential  \n",
      "0                      0.004167         1.053000e+20      2.648286  \n",
      "1                      0.004167         1.053000e+20      2.648286  \n",
      "2                      0.004167         1.053000e+20      2.648286  \n",
      "3                      0.004167         1.053000e+20      2.648286  \n",
      "4                      0.004167         1.053000e+20      2.648286  \n",
      "...                         ...                  ...           ...  \n",
      "21600                  0.004167         1.053000e+20      2.648286  \n",
      "21601                  0.047778         5.100000e+18      1.771713  \n",
      "21602                  0.004167         1.053000e+20      2.648286  \n",
      "21603                  0.004167         1.053000e+20      2.648286  \n",
      "21604                  0.022857         2.347800e+18      1.547107  \n",
      "\n",
      "[21605 rows x 23 columns]\n"
     ]
    }
   ],
   "source": [
    "df_reset = df.reset_index(drop=True)\n",
    "print(df_reset)"
   ]
  },
  {
   "cell_type": "markdown",
   "id": "aefbd5e5-ed0d-42db-bfe3-fb1baab71ce6",
   "metadata": {},
   "source": [
    "##### 31-) dataFrame’e yeni bir sütun ilave ediniz. "
   ]
  },
  {
   "cell_type": "code",
   "execution_count": 79,
   "id": "bf8abd36-6d5d-45a1-b9a4-c5ebe858e98b",
   "metadata": {},
   "outputs": [
    {
     "name": "stdout",
     "output_type": "stream",
     "text": [
      "             Date  Latitude  Longitude  Depth_km  Magnitude_ML  \\\n",
      "0      2025-04-23   40.8394    28.4000     15.05           2.5   \n",
      "1      2025-04-23   40.8442    28.3108      5.23           2.6   \n",
      "2      2025-04-23   40.8353    28.3511      6.97           2.0   \n",
      "3      2025-04-23   40.8567    28.3014     14.58           3.5   \n",
      "4      2025-04-23   40.8467    28.4094      8.33           2.8   \n",
      "...           ...       ...        ...       ...           ...   \n",
      "21600  2000-04-30   40.5600    29.2100      3.80           2.7   \n",
      "21601  2000-04-30   40.0200    28.8900      1.00           2.9   \n",
      "21602  2000-04-29   40.9000    30.4900      5.70           2.6   \n",
      "21603  2000-04-28   40.3700    29.1400     10.40           3.2   \n",
      "21604  2000-04-23   39.5600    26.1100     13.80           3.2   \n",
      "\n",
      "                                                Location  \\\n",
      "0      Marmara Denizi - [20.67 km] Büyükçekmece (İsta...   \n",
      "1      Marmara Denizi - [24.05 km] Büyükçekmece (İsta...   \n",
      "2      Marmara Denizi - [22.91 km] Büyükçekmece (İsta...   \n",
      "3         Marmara Denizi - [23.07 km] Silivri (İstanbul)   \n",
      "4      Marmara Denizi - [19.63 km] Büyükçekmece (İsta...   \n",
      "...                                                  ...   \n",
      "21600                                    Merkez (Yalova)   \n",
      "21601                                   Orhaneli (Bursa)   \n",
      "21602                                  Söğütlü (Sakarya)   \n",
      "21603                                     Gemlik (Bursa)   \n",
      "21604                                Ayvacık (Çanakkale)   \n",
      "\n",
      "                Nearest_Fault  Fault_Length_km  Fault_Width_m  Fault_Depth_m  \\\n",
      "0      Kuzey Anadolu Fay Zonu             10.0            2.0            3.0   \n",
      "1      Kuzey Anadolu Fay Zonu             10.0            2.0            3.0   \n",
      "2      Kuzey Anadolu Fay Zonu             10.0            2.0            3.0   \n",
      "3      Kuzey Anadolu Fay Zonu             10.0            2.0            3.0   \n",
      "4      Kuzey Anadolu Fay Zonu             10.0            2.0            3.0   \n",
      "...                       ...              ...            ...            ...   \n",
      "21600  Kuzey Anadolu Fay Zonu             25.0            2.0            3.7   \n",
      "21601           Orhaneli Fayı             15.0            4.0            3.0   \n",
      "21602  Kuzey Anadolu Fay Zonu             19.0            2.7            1.5   \n",
      "21603  Kuzey Anadolu Fay Zonu             10.0            2.0            3.0   \n",
      "21604              Troya Fayı              6.0            2.0            4.5   \n",
      "\n",
      "       ... Max_Surface_Slip_m  Recurrence_Interval_yr  Last_Event_Year  \\\n",
      "0      ...           5.000000              550.000000      1999.000000   \n",
      "1      ...           5.000000              550.000000      1999.000000   \n",
      "2      ...           5.000000              550.000000      1999.000000   \n",
      "3      ...           5.000000              550.000000      1999.000000   \n",
      "4      ...           5.000000              550.000000      1999.000000   \n",
      "...    ...                ...                     ...              ...   \n",
      "21600  ...           5.000000              550.000000      1999.000000   \n",
      "21601  ...           1.433333              700.000000      1855.000000   \n",
      "21602  ...           5.000000              550.000000      1999.000000   \n",
      "21603  ...           5.000000              550.000000      1999.000000   \n",
      "21604  ...           0.800000              566.666667      1910.333333   \n",
      "\n",
      "       Last_Event_Mw  Elapsed_Time_yr  Slip_Deficit_m  \\\n",
      "0                7.4        26.000000           0.195   \n",
      "1                7.4        26.000000           0.195   \n",
      "2                7.4        26.000000           0.195   \n",
      "3                7.4        26.000000           0.195   \n",
      "4                7.4        26.000000           0.195   \n",
      "...              ...              ...             ...   \n",
      "21600            7.4        26.000000           0.195   \n",
      "21601            6.9       170.000000           0.425   \n",
      "21602            7.4        26.000000           0.195   \n",
      "21603            7.4        26.000000           0.195   \n",
      "21604            7.2       114.666667           0.172   \n",
      "\n",
      "       Normalized_Slip_m_per_km  Moment_Potential_Nm  Mw_Potential  New_Column  \n",
      "0                      0.004167         1.053000e+20      2.648286   New Value  \n",
      "1                      0.004167         1.053000e+20      2.648286   New Value  \n",
      "2                      0.004167         1.053000e+20      2.648286   New Value  \n",
      "3                      0.004167         1.053000e+20      2.648286   New Value  \n",
      "4                      0.004167         1.053000e+20      2.648286   New Value  \n",
      "...                         ...                  ...           ...         ...  \n",
      "21600                  0.004167         1.053000e+20      2.648286   New Value  \n",
      "21601                  0.047778         5.100000e+18      1.771713   New Value  \n",
      "21602                  0.004167         1.053000e+20      2.648286   New Value  \n",
      "21603                  0.004167         1.053000e+20      2.648286   New Value  \n",
      "21604                  0.022857         2.347800e+18      1.547107   New Value  \n",
      "\n",
      "[21605 rows x 24 columns]\n"
     ]
    }
   ],
   "source": [
    "df['New_Column'] = 'New Value'\n",
    "print(df)"
   ]
  },
  {
   "cell_type": "markdown",
   "id": "dd9d61cf-5c27-4979-a5ad-5beb9e2fb512",
   "metadata": {},
   "source": [
    "##### 32-) DataFrame’den bir sütunu geçici olarak siliniz."
   ]
  },
  {
   "cell_type": "code",
   "execution_count": 81,
   "id": "9280ab52-07c4-4f1c-84e6-16b1b42a84e8",
   "metadata": {},
   "outputs": [
    {
     "name": "stdout",
     "output_type": "stream",
     "text": [
      "             Date  Latitude  Longitude  Depth_km  Magnitude_ML  \\\n",
      "0      2025-04-23   40.8394    28.4000     15.05           2.5   \n",
      "1      2025-04-23   40.8442    28.3108      5.23           2.6   \n",
      "2      2025-04-23   40.8353    28.3511      6.97           2.0   \n",
      "3      2025-04-23   40.8567    28.3014     14.58           3.5   \n",
      "4      2025-04-23   40.8467    28.4094      8.33           2.8   \n",
      "...           ...       ...        ...       ...           ...   \n",
      "21600  2000-04-30   40.5600    29.2100      3.80           2.7   \n",
      "21601  2000-04-30   40.0200    28.8900      1.00           2.9   \n",
      "21602  2000-04-29   40.9000    30.4900      5.70           2.6   \n",
      "21603  2000-04-28   40.3700    29.1400     10.40           3.2   \n",
      "21604  2000-04-23   39.5600    26.1100     13.80           3.2   \n",
      "\n",
      "                                                Location  \\\n",
      "0      Marmara Denizi - [20.67 km] Büyükçekmece (İsta...   \n",
      "1      Marmara Denizi - [24.05 km] Büyükçekmece (İsta...   \n",
      "2      Marmara Denizi - [22.91 km] Büyükçekmece (İsta...   \n",
      "3         Marmara Denizi - [23.07 km] Silivri (İstanbul)   \n",
      "4      Marmara Denizi - [19.63 km] Büyükçekmece (İsta...   \n",
      "...                                                  ...   \n",
      "21600                                    Merkez (Yalova)   \n",
      "21601                                   Orhaneli (Bursa)   \n",
      "21602                                  Söğütlü (Sakarya)   \n",
      "21603                                     Gemlik (Bursa)   \n",
      "21604                                Ayvacık (Çanakkale)   \n",
      "\n",
      "                Nearest_Fault  Fault_Length_km  Fault_Width_m  Fault_Depth_m  \\\n",
      "0      Kuzey Anadolu Fay Zonu             10.0            2.0            3.0   \n",
      "1      Kuzey Anadolu Fay Zonu             10.0            2.0            3.0   \n",
      "2      Kuzey Anadolu Fay Zonu             10.0            2.0            3.0   \n",
      "3      Kuzey Anadolu Fay Zonu             10.0            2.0            3.0   \n",
      "4      Kuzey Anadolu Fay Zonu             10.0            2.0            3.0   \n",
      "...                       ...              ...            ...            ...   \n",
      "21600  Kuzey Anadolu Fay Zonu             25.0            2.0            3.7   \n",
      "21601           Orhaneli Fayı             15.0            4.0            3.0   \n",
      "21602  Kuzey Anadolu Fay Zonu             19.0            2.7            1.5   \n",
      "21603  Kuzey Anadolu Fay Zonu             10.0            2.0            3.0   \n",
      "21604              Troya Fayı              6.0            2.0            4.5   \n",
      "\n",
      "       ... Slip_Rate_mm_per_yr  Max_Surface_Slip_m  Recurrence_Interval_yr  \\\n",
      "0      ...                 7.5            5.000000              550.000000   \n",
      "1      ...                 7.5            5.000000              550.000000   \n",
      "2      ...                 7.5            5.000000              550.000000   \n",
      "3      ...                 7.5            5.000000              550.000000   \n",
      "4      ...                 7.5            5.000000              550.000000   \n",
      "...    ...                 ...                 ...                     ...   \n",
      "21600  ...                 7.5            5.000000              550.000000   \n",
      "21601  ...                 2.5            1.433333              700.000000   \n",
      "21602  ...                 7.5            5.000000              550.000000   \n",
      "21603  ...                 7.5            5.000000              550.000000   \n",
      "21604  ...                 1.5            0.800000              566.666667   \n",
      "\n",
      "       Last_Event_Year  Last_Event_Mw  Elapsed_Time_yr  Slip_Deficit_m  \\\n",
      "0          1999.000000            7.4        26.000000           0.195   \n",
      "1          1999.000000            7.4        26.000000           0.195   \n",
      "2          1999.000000            7.4        26.000000           0.195   \n",
      "3          1999.000000            7.4        26.000000           0.195   \n",
      "4          1999.000000            7.4        26.000000           0.195   \n",
      "...                ...            ...              ...             ...   \n",
      "21600      1999.000000            7.4        26.000000           0.195   \n",
      "21601      1855.000000            6.9       170.000000           0.425   \n",
      "21602      1999.000000            7.4        26.000000           0.195   \n",
      "21603      1999.000000            7.4        26.000000           0.195   \n",
      "21604      1910.333333            7.2       114.666667           0.172   \n",
      "\n",
      "       Normalized_Slip_m_per_km  Moment_Potential_Nm  Mw_Potential  \n",
      "0                      0.004167         1.053000e+20      2.648286  \n",
      "1                      0.004167         1.053000e+20      2.648286  \n",
      "2                      0.004167         1.053000e+20      2.648286  \n",
      "3                      0.004167         1.053000e+20      2.648286  \n",
      "4                      0.004167         1.053000e+20      2.648286  \n",
      "...                         ...                  ...           ...  \n",
      "21600                  0.004167         1.053000e+20      2.648286  \n",
      "21601                  0.047778         5.100000e+18      1.771713  \n",
      "21602                  0.004167         1.053000e+20      2.648286  \n",
      "21603                  0.004167         1.053000e+20      2.648286  \n",
      "21604                  0.022857         2.347800e+18      1.547107  \n",
      "\n",
      "[21605 rows x 23 columns]\n"
     ]
    }
   ],
   "source": [
    "df_temp = df.drop('New_Column', axis=1)\n",
    "print(df_temp)"
   ]
  },
  {
   "cell_type": "markdown",
   "id": "e0604a07-0ff9-4afd-9ba7-b0e3309348d9",
   "metadata": {},
   "source": [
    "##### 33-) DataFrame’den bir sütunu kalıcı olarak siliniz. "
   ]
  },
  {
   "cell_type": "code",
   "execution_count": 83,
   "id": "d43e58e6-b398-4e94-ae12-689be40b8280",
   "metadata": {},
   "outputs": [
    {
     "name": "stdout",
     "output_type": "stream",
     "text": [
      "             Date  Latitude  Longitude  Depth_km  Magnitude_ML  \\\n",
      "0      2025-04-23   40.8394    28.4000     15.05           2.5   \n",
      "1      2025-04-23   40.8442    28.3108      5.23           2.6   \n",
      "2      2025-04-23   40.8353    28.3511      6.97           2.0   \n",
      "3      2025-04-23   40.8567    28.3014     14.58           3.5   \n",
      "4      2025-04-23   40.8467    28.4094      8.33           2.8   \n",
      "...           ...       ...        ...       ...           ...   \n",
      "21600  2000-04-30   40.5600    29.2100      3.80           2.7   \n",
      "21601  2000-04-30   40.0200    28.8900      1.00           2.9   \n",
      "21602  2000-04-29   40.9000    30.4900      5.70           2.6   \n",
      "21603  2000-04-28   40.3700    29.1400     10.40           3.2   \n",
      "21604  2000-04-23   39.5600    26.1100     13.80           3.2   \n",
      "\n",
      "                                                Location  \\\n",
      "0      Marmara Denizi - [20.67 km] Büyükçekmece (İsta...   \n",
      "1      Marmara Denizi - [24.05 km] Büyükçekmece (İsta...   \n",
      "2      Marmara Denizi - [22.91 km] Büyükçekmece (İsta...   \n",
      "3         Marmara Denizi - [23.07 km] Silivri (İstanbul)   \n",
      "4      Marmara Denizi - [19.63 km] Büyükçekmece (İsta...   \n",
      "...                                                  ...   \n",
      "21600                                    Merkez (Yalova)   \n",
      "21601                                   Orhaneli (Bursa)   \n",
      "21602                                  Söğütlü (Sakarya)   \n",
      "21603                                     Gemlik (Bursa)   \n",
      "21604                                Ayvacık (Çanakkale)   \n",
      "\n",
      "                Nearest_Fault  Fault_Length_km  Fault_Width_m  Fault_Depth_m  \\\n",
      "0      Kuzey Anadolu Fay Zonu             10.0            2.0            3.0   \n",
      "1      Kuzey Anadolu Fay Zonu             10.0            2.0            3.0   \n",
      "2      Kuzey Anadolu Fay Zonu             10.0            2.0            3.0   \n",
      "3      Kuzey Anadolu Fay Zonu             10.0            2.0            3.0   \n",
      "4      Kuzey Anadolu Fay Zonu             10.0            2.0            3.0   \n",
      "...                       ...              ...            ...            ...   \n",
      "21600  Kuzey Anadolu Fay Zonu             25.0            2.0            3.7   \n",
      "21601           Orhaneli Fayı             15.0            4.0            3.0   \n",
      "21602  Kuzey Anadolu Fay Zonu             19.0            2.7            1.5   \n",
      "21603  Kuzey Anadolu Fay Zonu             10.0            2.0            3.0   \n",
      "21604              Troya Fayı              6.0            2.0            4.5   \n",
      "\n",
      "       ... Slip_Rate_mm_per_yr  Max_Surface_Slip_m  Recurrence_Interval_yr  \\\n",
      "0      ...                 7.5            5.000000              550.000000   \n",
      "1      ...                 7.5            5.000000              550.000000   \n",
      "2      ...                 7.5            5.000000              550.000000   \n",
      "3      ...                 7.5            5.000000              550.000000   \n",
      "4      ...                 7.5            5.000000              550.000000   \n",
      "...    ...                 ...                 ...                     ...   \n",
      "21600  ...                 7.5            5.000000              550.000000   \n",
      "21601  ...                 2.5            1.433333              700.000000   \n",
      "21602  ...                 7.5            5.000000              550.000000   \n",
      "21603  ...                 7.5            5.000000              550.000000   \n",
      "21604  ...                 1.5            0.800000              566.666667   \n",
      "\n",
      "       Last_Event_Year  Last_Event_Mw  Elapsed_Time_yr  Slip_Deficit_m  \\\n",
      "0          1999.000000            7.4        26.000000           0.195   \n",
      "1          1999.000000            7.4        26.000000           0.195   \n",
      "2          1999.000000            7.4        26.000000           0.195   \n",
      "3          1999.000000            7.4        26.000000           0.195   \n",
      "4          1999.000000            7.4        26.000000           0.195   \n",
      "...                ...            ...              ...             ...   \n",
      "21600      1999.000000            7.4        26.000000           0.195   \n",
      "21601      1855.000000            6.9       170.000000           0.425   \n",
      "21602      1999.000000            7.4        26.000000           0.195   \n",
      "21603      1999.000000            7.4        26.000000           0.195   \n",
      "21604      1910.333333            7.2       114.666667           0.172   \n",
      "\n",
      "       Normalized_Slip_m_per_km  Moment_Potential_Nm  Mw_Potential  \n",
      "0                      0.004167         1.053000e+20      2.648286  \n",
      "1                      0.004167         1.053000e+20      2.648286  \n",
      "2                      0.004167         1.053000e+20      2.648286  \n",
      "3                      0.004167         1.053000e+20      2.648286  \n",
      "4                      0.004167         1.053000e+20      2.648286  \n",
      "...                         ...                  ...           ...  \n",
      "21600                  0.004167         1.053000e+20      2.648286  \n",
      "21601                  0.047778         5.100000e+18      1.771713  \n",
      "21602                  0.004167         1.053000e+20      2.648286  \n",
      "21603                  0.004167         1.053000e+20      2.648286  \n",
      "21604                  0.022857         2.347800e+18      1.547107  \n",
      "\n",
      "[21605 rows x 23 columns]\n"
     ]
    }
   ],
   "source": [
    "df.drop('New_Column', axis=1, inplace=True)\n",
    "print(df)"
   ]
  },
  {
   "cell_type": "markdown",
   "id": "46b620ea-5469-4f75-a1d6-6d7caeb9be87",
   "metadata": {},
   "source": [
    "##### 34-) DataFrame hakkında genel bilgiyi ekranda listeleyiniz. "
   ]
  },
  {
   "cell_type": "code",
   "execution_count": 85,
   "id": "d817c78c-4409-45fa-90e2-ef13f640601d",
   "metadata": {},
   "outputs": [
    {
     "name": "stdout",
     "output_type": "stream",
     "text": [
      "<class 'pandas.core.frame.DataFrame'>\n",
      "RangeIndex: 21605 entries, 0 to 21604\n",
      "Data columns (total 23 columns):\n",
      " #   Column                    Non-Null Count  Dtype  \n",
      "---  ------                    --------------  -----  \n",
      " 0   Date                      21605 non-null  object \n",
      " 1   Latitude                  21605 non-null  float64\n",
      " 2   Longitude                 21605 non-null  float64\n",
      " 3   Depth_km                  21605 non-null  float64\n",
      " 4   Magnitude_ML              21605 non-null  float64\n",
      " 5   Location                  21605 non-null  object \n",
      " 6   Nearest_Fault             21605 non-null  object \n",
      " 7   Fault_Length_km           21605 non-null  float64\n",
      " 8   Fault_Width_m             21605 non-null  float64\n",
      " 9   Fault_Depth_m             21605 non-null  float64\n",
      " 10  Fault_Type                21605 non-null  object \n",
      " 11  Length_km                 21605 non-null  float64\n",
      " 12  Seismogenic_Depth_km      21605 non-null  float64\n",
      " 13  Slip_Rate_mm_per_yr       21605 non-null  float64\n",
      " 14  Max_Surface_Slip_m        21605 non-null  float64\n",
      " 15  Recurrence_Interval_yr    21605 non-null  float64\n",
      " 16  Last_Event_Year           21605 non-null  float64\n",
      " 17  Last_Event_Mw             21605 non-null  float64\n",
      " 18  Elapsed_Time_yr           21605 non-null  float64\n",
      " 19  Slip_Deficit_m            21605 non-null  float64\n",
      " 20  Normalized_Slip_m_per_km  21605 non-null  float64\n",
      " 21  Moment_Potential_Nm       21605 non-null  float64\n",
      " 22  Mw_Potential              21605 non-null  float64\n",
      "dtypes: float64(19), object(4)\n",
      "memory usage: 3.8+ MB\n"
     ]
    }
   ],
   "source": [
    "df.info()"
   ]
  },
  {
   "cell_type": "code",
   "execution_count": 87,
   "id": "3cb9ce65-f23a-4d3d-99a3-8b748d43b5ee",
   "metadata": {},
   "outputs": [
    {
     "name": "stdout",
     "output_type": "stream",
     "text": [
      "Collecting pyjanitor\n",
      "  Downloading pyjanitor-0.31.0-py3-none-any.whl.metadata (6.1 kB)\n",
      "Collecting natsort (from pyjanitor)\n",
      "  Downloading natsort-8.4.0-py3-none-any.whl.metadata (21 kB)\n",
      "Collecting pandas_flavor (from pyjanitor)\n",
      "  Downloading pandas_flavor-0.7.0-py3-none-any.whl.metadata (6.7 kB)\n",
      "Requirement already satisfied: multipledispatch in c:\\users\\user\\anaconda3\\lib\\site-packages (from pyjanitor) (0.6.0)\n",
      "Requirement already satisfied: scipy in c:\\users\\user\\anaconda3\\lib\\site-packages (from pyjanitor) (1.13.1)\n",
      "Requirement already satisfied: six in c:\\users\\user\\anaconda3\\lib\\site-packages (from multipledispatch->pyjanitor) (1.16.0)\n",
      "Requirement already satisfied: pandas>=0.23 in c:\\users\\user\\anaconda3\\lib\\site-packages (from pandas_flavor->pyjanitor) (2.2.2)\n",
      "Requirement already satisfied: xarray in c:\\users\\user\\anaconda3\\lib\\site-packages (from pandas_flavor->pyjanitor) (2023.6.0)\n",
      "Requirement already satisfied: numpy<2.3,>=1.22.4 in c:\\users\\user\\anaconda3\\lib\\site-packages (from scipy->pyjanitor) (1.26.4)\n",
      "Requirement already satisfied: python-dateutil>=2.8.2 in c:\\users\\user\\anaconda3\\lib\\site-packages (from pandas>=0.23->pandas_flavor->pyjanitor) (2.9.0.post0)\n",
      "Requirement already satisfied: pytz>=2020.1 in c:\\users\\user\\anaconda3\\lib\\site-packages (from pandas>=0.23->pandas_flavor->pyjanitor) (2024.1)\n",
      "Requirement already satisfied: tzdata>=2022.7 in c:\\users\\user\\anaconda3\\lib\\site-packages (from pandas>=0.23->pandas_flavor->pyjanitor) (2023.3)\n",
      "Requirement already satisfied: packaging>=21.3 in c:\\users\\user\\anaconda3\\lib\\site-packages (from xarray->pandas_flavor->pyjanitor) (24.1)\n",
      "Downloading pyjanitor-0.31.0-py3-none-any.whl (215 kB)\n",
      "Downloading natsort-8.4.0-py3-none-any.whl (38 kB)\n",
      "Downloading pandas_flavor-0.7.0-py3-none-any.whl (8.4 kB)\n",
      "Installing collected packages: natsort, pandas_flavor, pyjanitor\n",
      "Successfully installed natsort-8.4.0 pandas_flavor-0.7.0 pyjanitor-0.31.0\n",
      "Note: you may need to restart the kernel to use updated packages.\n"
     ]
    }
   ],
   "source": [
    "pip install pyjanitor"
   ]
  },
  {
   "cell_type": "markdown",
   "id": "1cb2b156-6793-4b04-b5c9-539a973e0dcc",
   "metadata": {},
   "source": [
    "##### 35-) Pyjanitor Kütüphanesi ile veri temizleme işlemi yapınız."
   ]
  },
  {
   "cell_type": "code",
   "execution_count": 91,
   "id": "b3e21f34-38cc-425b-a867-bf3bfb42ca61",
   "metadata": {},
   "outputs": [
    {
     "name": "stdout",
     "output_type": "stream",
     "text": [
      "             Date  Latitude  Magnitude_ML  \\\n",
      "0      2025-04-23   40.8394           2.5   \n",
      "1      2025-04-23   40.8442           2.6   \n",
      "2      2025-04-23   40.8353           2.0   \n",
      "3      2025-04-23   40.8567           3.5   \n",
      "4      2025-04-23   40.8467           2.8   \n",
      "...           ...       ...           ...   \n",
      "21600  2000-04-30   40.5600           2.7   \n",
      "21601  2000-04-30   40.0200           2.9   \n",
      "21602  2000-04-29   40.9000           2.6   \n",
      "21603  2000-04-28   40.3700           3.2   \n",
      "21604  2000-04-23   39.5600           3.2   \n",
      "\n",
      "                                                Location  \\\n",
      "0      Marmara Denizi - [20.67 km] Büyükçekmece (İsta...   \n",
      "1      Marmara Denizi - [24.05 km] Büyükçekmece (İsta...   \n",
      "2      Marmara Denizi - [22.91 km] Büyükçekmece (İsta...   \n",
      "3         Marmara Denizi - [23.07 km] Silivri (İstanbul)   \n",
      "4      Marmara Denizi - [19.63 km] Büyükçekmece (İsta...   \n",
      "...                                                  ...   \n",
      "21600                                    Merkez (Yalova)   \n",
      "21601                                   Orhaneli (Bursa)   \n",
      "21602                                  Söğütlü (Sakarya)   \n",
      "21603                                     Gemlik (Bursa)   \n",
      "21604                                Ayvacık (Çanakkale)   \n",
      "\n",
      "                Nearest_Fault  Fault_Length_km  Fault_Width_m  Fault_Depth_m  \\\n",
      "0      Kuzey Anadolu Fay Zonu             10.0            2.0            3.0   \n",
      "1      Kuzey Anadolu Fay Zonu             10.0            2.0            3.0   \n",
      "2      Kuzey Anadolu Fay Zonu             10.0            2.0            3.0   \n",
      "3      Kuzey Anadolu Fay Zonu             10.0            2.0            3.0   \n",
      "4      Kuzey Anadolu Fay Zonu             10.0            2.0            3.0   \n",
      "...                       ...              ...            ...            ...   \n",
      "21600  Kuzey Anadolu Fay Zonu             25.0            2.0            3.7   \n",
      "21601           Orhaneli Fayı             15.0            4.0            3.0   \n",
      "21602  Kuzey Anadolu Fay Zonu             19.0            2.7            1.5   \n",
      "21603  Kuzey Anadolu Fay Zonu             10.0            2.0            3.0   \n",
      "21604              Troya Fayı              6.0            2.0            4.5   \n",
      "\n",
      "                 Fault_Type  Length_km  ...  Slip_Rate_mm_per_yr  \\\n",
      "0               strike-slip     1200.0  ...                  7.5   \n",
      "1               strike-slip     1200.0  ...                  7.5   \n",
      "2               strike-slip     1200.0  ...                  7.5   \n",
      "3               strike-slip     1200.0  ...                  7.5   \n",
      "4               strike-slip     1200.0  ...                  7.5   \n",
      "...                     ...        ...  ...                  ...   \n",
      "21600           strike-slip     1200.0  ...                  7.5   \n",
      "21601  strike-slip + thrust       30.0  ...                  2.5   \n",
      "21602           strike-slip     1200.0  ...                  7.5   \n",
      "21603           strike-slip     1200.0  ...                  7.5   \n",
      "21604   oblique / uncertain       35.0  ...                  1.5   \n",
      "\n",
      "       Max_Surface_Slip_m  Recurrence_Interval_yr  Last_Event_Year  \\\n",
      "0                5.000000              550.000000      1999.000000   \n",
      "1                5.000000              550.000000      1999.000000   \n",
      "2                5.000000              550.000000      1999.000000   \n",
      "3                5.000000              550.000000      1999.000000   \n",
      "4                5.000000              550.000000      1999.000000   \n",
      "...                   ...                     ...              ...   \n",
      "21600            5.000000              550.000000      1999.000000   \n",
      "21601            1.433333              700.000000      1855.000000   \n",
      "21602            5.000000              550.000000      1999.000000   \n",
      "21603            5.000000              550.000000      1999.000000   \n",
      "21604            0.800000              566.666667      1910.333333   \n",
      "\n",
      "       Last_Event_Mw  Elapsed_Time_yr  Slip_Deficit_m  \\\n",
      "0                7.4        26.000000           0.195   \n",
      "1                7.4        26.000000           0.195   \n",
      "2                7.4        26.000000           0.195   \n",
      "3                7.4        26.000000           0.195   \n",
      "4                7.4        26.000000           0.195   \n",
      "...              ...              ...             ...   \n",
      "21600            7.4        26.000000           0.195   \n",
      "21601            6.9       170.000000           0.425   \n",
      "21602            7.4        26.000000           0.195   \n",
      "21603            7.4        26.000000           0.195   \n",
      "21604            7.2       114.666667           0.172   \n",
      "\n",
      "       Normalized_Slip_m_per_km  Moment_Potential_Nm  Mw_Potential  \n",
      "0                      0.004167         1.053000e+20      2.648286  \n",
      "1                      0.004167         1.053000e+20      2.648286  \n",
      "2                      0.004167         1.053000e+20      2.648286  \n",
      "3                      0.004167         1.053000e+20      2.648286  \n",
      "4                      0.004167         1.053000e+20      2.648286  \n",
      "...                         ...                  ...           ...  \n",
      "21600                  0.004167         1.053000e+20      2.648286  \n",
      "21601                  0.047778         5.100000e+18      1.771713  \n",
      "21602                  0.004167         1.053000e+20      2.648286  \n",
      "21603                  0.004167         1.053000e+20      2.648286  \n",
      "21604                  0.022857         2.347800e+18      1.547107  \n",
      "\n",
      "[21605 rows x 21 columns]\n"
     ]
    }
   ],
   "source": [
    "df = df.drop(columns=['Longitude', 'Depth_km'])\n",
    "\n",
    "print(df)"
   ]
  },
  {
   "cell_type": "markdown",
   "id": "1b856a06-41da-4010-9d7a-1eb4eb24c84f",
   "metadata": {},
   "source": [
    "#####  36-) Pandas Kütüphanesi versiyonunu bulunuz."
   ]
  },
  {
   "cell_type": "code",
   "execution_count": 93,
   "id": "8d289c0c-70b6-4d12-99a1-41671f3e76e9",
   "metadata": {},
   "outputs": [
    {
     "name": "stdout",
     "output_type": "stream",
     "text": [
      "2.2.2\n"
     ]
    }
   ],
   "source": [
    "print(pd.__version__)"
   ]
  },
  {
   "cell_type": "markdown",
   "id": "a9735d0a-d58a-491a-9db3-25204bf05637",
   "metadata": {},
   "source": [
    "##### 37-) Matplotlib kütüphanesi versiyonunu bulunuz."
   ]
  },
  {
   "cell_type": "code",
   "execution_count": 97,
   "id": "6e78a7d2-b25d-4ab6-abde-a8d63ce45407",
   "metadata": {},
   "outputs": [
    {
     "name": "stdout",
     "output_type": "stream",
     "text": [
      "3.9.2\n"
     ]
    }
   ],
   "source": [
    "import matplotlib\n",
    "\n",
    "print(matplotlib.__version__)"
   ]
  },
  {
   "cell_type": "markdown",
   "id": "c2b6aea6-da89-4f54-84e9-9944064f6511",
   "metadata": {},
   "source": [
    "##### 38-) Datasetteki min, max, mean, count değerlerini bulunuz. "
   ]
  },
  {
   "cell_type": "code",
   "execution_count": 99,
   "id": "eb13568d-e500-4955-bfab-a1f4d91f4aa0",
   "metadata": {},
   "outputs": [
    {
     "name": "stdout",
     "output_type": "stream",
     "text": [
      "           Latitude  Magnitude_ML  Fault_Length_km  Fault_Width_m  \\\n",
      "count  21605.000000  21605.000000     21605.000000   21605.000000   \n",
      "mean      40.044204      2.611132        16.268757       3.446420   \n",
      "std        0.446887      0.379102         9.030674       1.404102   \n",
      "min       39.500000      2.000000         4.000000       1.000000   \n",
      "25%       39.669500      2.400000        12.000000       2.000000   \n",
      "50%       39.863900      2.600000        12.000000       4.000000   \n",
      "75%       40.410000      2.800000        20.000000       4.000000   \n",
      "max       41.495100      6.200000       150.000000      15.000000   \n",
      "\n",
      "       Fault_Depth_m     Length_km  Seismogenic_Depth_km  Slip_Rate_mm_per_yr  \\\n",
      "count   21605.000000  21605.000000          21605.000000         21605.000000   \n",
      "mean        3.090678    295.590859             13.813901             3.799171   \n",
      "std         0.868809    474.014082              1.015848             2.181270   \n",
      "min         1.300000      6.000000             11.000000             0.800000   \n",
      "25%         3.000000     30.000000             13.333333             2.500000   \n",
      "50%         3.000000     38.000000             13.333333             2.500000   \n",
      "75%         3.500000     75.000000             15.000000             5.000000   \n",
      "max        10.000000   1200.000000             15.000000             7.500000   \n",
      "\n",
      "       Max_Surface_Slip_m  Recurrence_Interval_yr  Last_Event_Year  \\\n",
      "count        21605.000000            21605.000000     21605.000000   \n",
      "mean             2.781078              585.931497      1901.251346   \n",
      "std              1.821280              115.120716        79.266920   \n",
      "min              0.500000              250.000000      1650.000000   \n",
      "25%              1.433333              550.000000      1855.000000   \n",
      "50%              1.433333              600.000000      1910.333333   \n",
      "75%              5.000000              700.000000      1964.000000   \n",
      "max              5.500000              750.000000      2008.000000   \n",
      "\n",
      "       Last_Event_Mw  Elapsed_Time_yr  Slip_Deficit_m  \\\n",
      "count   21605.000000     21605.000000    21605.000000   \n",
      "mean        7.092886       123.748654        0.370720   \n",
      "std         0.292022        79.266920        0.226238   \n",
      "min         5.000000        17.000000        0.041367   \n",
      "25%         6.900000        61.000000        0.195000   \n",
      "50%         7.000000       114.666667        0.425000   \n",
      "75%         7.400000       170.000000        0.425000   \n",
      "max         7.400000       375.000000        1.250000   \n",
      "\n",
      "       Normalized_Slip_m_per_km  Moment_Potential_Nm  Mw_Potential  \n",
      "count              21605.000000         2.160500e+04  21605.000000  \n",
      "mean                   0.044596         2.880710e+19      1.982979  \n",
      "std                    0.041890         4.047530e+19      0.412434  \n",
      "min                    0.004167         8.935200e+16      0.600736  \n",
      "25%                    0.013158         5.100000e+18      1.771713  \n",
      "50%                    0.047778         5.100000e+18      1.771713  \n",
      "75%                    0.047778         1.781250e+19      2.133817  \n",
      "max                    0.311111         1.053000e+20      2.648286  \n"
     ]
    }
   ],
   "source": [
    "statistics = df.describe()\n",
    "\n",
    "print(statistics)"
   ]
  },
  {
   "cell_type": "markdown",
   "id": "351abcdd-dcf5-42dc-9c12-919de6703b6e",
   "metadata": {},
   "source": [
    "##### 39-) \"pd.pivot.table()\" metodunu kullanarak, dataFrame'deki bir sütundan tek indeksli \"pivot \n",
    "table\" oluşturunuz. "
   ]
  },
  {
   "cell_type": "code",
   "execution_count": 103,
   "id": "2de14a80-a41c-4ca4-9926-2abd5999908e",
   "metadata": {},
   "outputs": [
    {
     "name": "stdout",
     "output_type": "stream",
     "text": [
      "                 Magnitude_ML\n",
      "Fault_Length_km              \n",
      "4.0                  2.583333\n",
      "6.0                  2.500801\n",
      "7.0                  2.587773\n",
      "8.0                  2.552727\n",
      "9.0                  2.627500\n",
      "10.0                 2.604015\n",
      "11.0                 2.630950\n",
      "12.0                 2.660503\n",
      "13.0                 2.619512\n",
      "14.0                 2.611111\n",
      "15.0                 2.618661\n",
      "16.0                 2.613244\n",
      "19.0                 2.579596\n",
      "20.0                 2.575422\n",
      "21.0                 2.644118\n",
      "22.0                 2.462069\n",
      "23.0                 2.629412\n",
      "23.6                 2.652381\n",
      "23.7                 2.714286\n",
      "25.0                 2.557981\n",
      "26.0                 2.566723\n",
      "27.0                 2.565984\n",
      "28.0                 2.733333\n",
      "30.0                 2.587481\n",
      "32.0                 2.602049\n",
      "40.0                 2.658065\n",
      "48.0                 2.564286\n",
      "50.0                 2.622430\n",
      "150.0                2.350000\n"
     ]
    }
   ],
   "source": [
    "pivot_table = pd.pivot_table(df, values='Magnitude_ML', index='Fault_Length_km', aggfunc='mean')\n",
    "\n",
    "print(pivot_table)"
   ]
  },
  {
   "cell_type": "markdown",
   "id": "3021128a-5fc4-4745-8540-5210278771a9",
   "metadata": {},
   "source": [
    "##### 40-) \"pd.pivot.table()\" metodunu kullanarak, dataFrame'deki birden fazla sütundan çok indeksli \n",
    "\"pivot table\" oluşturunuz."
   ]
  },
  {
   "cell_type": "code",
   "execution_count": 105,
   "id": "f576b47d-99ae-4caf-8d66-874724f35770",
   "metadata": {},
   "outputs": [
    {
     "name": "stdout",
     "output_type": "stream",
     "text": [
      "                                      Magnitude_ML\n",
      "Fault_Length_km Seismogenic_Depth_km              \n",
      "4.0             15.000000                 2.583333\n",
      "6.0             13.000000                 2.500801\n",
      "7.0             15.000000                 2.587773\n",
      "8.0             11.000000                 2.498507\n",
      "                13.333333                 2.526077\n",
      "                14.333333                 2.619847\n",
      "                15.000000                 2.613131\n",
      "9.0             15.000000                 2.627500\n",
      "10.0            11.000000                 2.597248\n",
      "                12.000000                 2.490909\n",
      "                13.333333                 2.554867\n",
      "                15.000000                 2.615167\n",
      "11.0            13.000000                 2.611384\n",
      "                15.000000                 2.735928\n",
      "12.0            11.000000                 2.440000\n",
      "                13.333333                 2.660665\n",
      "13.0            15.000000                 2.619512\n",
      "14.0            15.000000                 2.611111\n",
      "15.0            12.000000                 2.642797\n",
      "                13.333333                 2.622669\n",
      "                15.000000                 2.611212\n",
      "16.0            15.000000                 2.613244\n",
      "19.0            13.333333                 2.581971\n",
      "                15.000000                 2.546667\n",
      "20.0            11.000000                 2.595842\n",
      "                13.333333                 2.526848\n",
      "                14.000000                 2.606250\n",
      "                15.000000                 2.602000\n",
      "21.0            15.000000                 2.644118\n",
      "22.0            13.000000                 2.462500\n",
      "                15.000000                 2.461538\n",
      "23.0            15.000000                 2.629412\n",
      "23.6            15.000000                 2.652381\n",
      "23.7            15.000000                 2.714286\n",
      "25.0            14.000000                 2.733333\n",
      "                15.000000                 2.556738\n",
      "26.0            12.000000                 2.615254\n",
      "                15.000000                 2.519000\n",
      "27.0            15.000000                 2.565984\n",
      "28.0            15.000000                 2.733333\n",
      "30.0            14.000000                 2.567581\n",
      "                15.000000                 2.595962\n",
      "32.0            14.333333                 2.600211\n",
      "                15.000000                 2.664286\n",
      "40.0            15.000000                 2.658065\n",
      "48.0            13.000000                 2.564286\n",
      "50.0            13.333333                 2.645833\n",
      "                14.000000                 2.609329\n",
      "150.0           15.000000                 2.350000\n"
     ]
    }
   ],
   "source": [
    "pivot_table = pd.pivot_table(df, values='Magnitude_ML', index=['Fault_Length_km', 'Seismogenic_Depth_km'], aggfunc='mean')\n",
    "\n",
    "print(pivot_table)"
   ]
  },
  {
   "cell_type": "markdown",
   "id": "d798aa43-e8d4-460e-b128-c98f533469f1",
   "metadata": {},
   "source": [
    "##### 41-) Pivot_table'da \"aggfunc=np.sum\" fonksiyonunu kullanınız."
   ]
  },
  {
   "cell_type": "code",
   "execution_count": 109,
   "id": "5981319c-1e03-476a-a755-ff0ee9013c50",
   "metadata": {},
   "outputs": [
    {
     "name": "stdout",
     "output_type": "stream",
     "text": [
      "                                      Magnitude_ML\n",
      "Fault_Length_km Seismogenic_Depth_km              \n",
      "4.0             15.000000                     15.5\n",
      "6.0             13.000000                   3433.6\n",
      "7.0             15.000000                    592.6\n",
      "8.0             11.000000                    167.4\n",
      "                13.333333                   1055.9\n",
      "                14.333333                    343.2\n",
      "                15.000000                    258.7\n",
      "9.0             15.000000                    210.2\n",
      "10.0            11.000000                    283.1\n",
      "                12.000000                    191.8\n",
      "                13.333333                    288.7\n",
      "                15.000000                   3517.4\n",
      "11.0            13.000000                   2339.8\n",
      "                15.000000                    456.9\n",
      "12.0            11.000000                     12.2\n",
      "                13.333333                  18087.2\n",
      "13.0            15.000000                    214.8\n",
      "14.0            15.000000                    634.5\n",
      "15.0            12.000000                   1247.4\n",
      "                13.333333                   1631.3\n",
      "                15.000000                   4867.3\n",
      "16.0            15.000000                   1361.5\n",
      "19.0            13.333333                   1074.1\n",
      "                15.000000                     76.4\n",
      "20.0            11.000000                   1186.3\n",
      "                13.333333                    649.4\n",
      "                14.000000                     41.7\n",
      "                15.000000                    260.2\n",
      "21.0            15.000000                     89.9\n",
      "22.0            13.000000                     39.4\n",
      "                15.000000                     32.0\n",
      "23.0            15.000000                     44.7\n",
      "23.6            15.000000                     55.7\n",
      "23.7            15.000000                     19.0\n",
      "25.0            14.000000                      8.2\n",
      "                15.000000                   1081.5\n",
      "26.0            12.000000                    771.5\n",
      "                15.000000                    755.7\n",
      "27.0            15.000000                   2632.7\n",
      "28.0            15.000000                      8.2\n",
      "30.0            14.000000                   1029.6\n",
      "                15.000000                   2442.8\n",
      "32.0            14.333333                   1232.5\n",
      "                15.000000                     37.3\n",
      "40.0            15.000000                     82.4\n",
      "48.0            13.000000                    143.6\n",
      "50.0            13.333333                    508.0\n",
      "                14.000000                    895.0\n",
      "150.0           15.000000                      4.7\n"
     ]
    },
    {
     "name": "stderr",
     "output_type": "stream",
     "text": [
      "C:\\Users\\USER\\AppData\\Local\\Temp\\ipykernel_13884\\1606527201.py:2: FutureWarning: The provided callable <function sum at 0x000002670B0B7380> is currently using DataFrameGroupBy.sum. In a future version of pandas, the provided callable will be used directly. To keep current behavior pass the string \"sum\" instead.\n",
      "  pivot_table = pd.pivot_table(df, values='Magnitude_ML', index=['Fault_Length_km', 'Seismogenic_Depth_km'], aggfunc=np.sum)\n"
     ]
    }
   ],
   "source": [
    "import numpy as np\n",
    "pivot_table = pd.pivot_table(df, values='Magnitude_ML', index=['Fault_Length_km', 'Seismogenic_Depth_km'], aggfunc=np.sum)\n",
    "\n",
    "print(pivot_table)\n"
   ]
  },
  {
   "cell_type": "markdown",
   "id": "f9050e19-2407-4897-b34d-127fd0fc6410",
   "metadata": {},
   "source": [
    "##### 42-) dataFrame'i CSV dosyası olarak kaydediniz."
   ]
  },
  {
   "cell_type": "code",
   "execution_count": 111,
   "id": "607763d4-c389-4f87-97c5-9d201d0a6b97",
   "metadata": {},
   "outputs": [
    {
     "name": "stdout",
     "output_type": "stream",
     "text": [
      "DataFrame başarıyla C:\\Users\\USER\\Desktop\\output_file.csv olarak kaydedildi.\n"
     ]
    }
   ],
   "source": [
    "file_path = r'C:\\Users\\USER\\Desktop\\output_file.csv'  \n",
    "\n",
    "df.to_csv(file_path, index=False)\n",
    "\n",
    "print(f\"DataFrame başarıyla {file_path} olarak kaydedildi.\")"
   ]
  },
  {
   "cell_type": "markdown",
   "id": "5517589d-3ad6-494a-b773-1fc026150377",
   "metadata": {},
   "source": [
    "##### 43-) dataFrame'i excel dosyası olarak kaydediniz. \n"
   ]
  },
  {
   "cell_type": "code",
   "execution_count": 113,
   "id": "6f07e7ad-a20e-43bb-8793-1c4763804792",
   "metadata": {},
   "outputs": [
    {
     "name": "stdout",
     "output_type": "stream",
     "text": [
      "DataFrame başarıyla C:\\Users\\USER\\Desktop\\output_file.xlsx olarak kaydedildi.\n"
     ]
    }
   ],
   "source": [
    "file_path = r'C:\\Users\\USER\\Desktop\\output_file.xlsx'\n",
    "df.to_excel(file_path, index=False)\n",
    "\n",
    "print(f\"DataFrame başarıyla {file_path} olarak kaydedildi.\")"
   ]
  },
  {
   "cell_type": "markdown",
   "id": "628ff7cd-e1a9-4052-9649-df7ce2bea743",
   "metadata": {},
   "source": [
    "##### 44-) dataFrame'i html dosyası olarak kaydediniz. "
   ]
  },
  {
   "cell_type": "code",
   "execution_count": 115,
   "id": "b207d292-935a-49a0-a16a-29137914938a",
   "metadata": {},
   "outputs": [
    {
     "name": "stdout",
     "output_type": "stream",
     "text": [
      "DataFrame başarıyla C:\\Users\\USER\\Desktop\\output_file.html olarak kaydedildi.\n"
     ]
    }
   ],
   "source": [
    "file_path = r'C:\\Users\\USER\\Desktop\\output_file.html'\n",
    "df.to_html(file_path, index=False)\n",
    "\n",
    "print(f\"DataFrame başarıyla {file_path} olarak kaydedildi.\")"
   ]
  },
  {
   "cell_type": "markdown",
   "id": "a3ddf60c-a471-40a0-a18e-dda1ab42a439",
   "metadata": {},
   "source": [
    "##### 45-) dataFrame'i JSON dosyası olarak kaydediniz."
   ]
  },
  {
   "cell_type": "code",
   "execution_count": 117,
   "id": "6649539f-e5ed-4bd3-aa29-c78d32ec90d4",
   "metadata": {},
   "outputs": [
    {
     "name": "stdout",
     "output_type": "stream",
     "text": [
      "DataFrame başarıyla C:\\Users\\USER\\Desktop\\output_file.json olarak kaydedildi.\n"
     ]
    }
   ],
   "source": [
    "file_path = r'C:\\Users\\USER\\Desktop\\output_file.json'\n",
    "\n",
    "df.to_json(file_path, orient='records', lines=True)\n",
    "\n",
    "print(f\"DataFrame başarıyla {file_path} olarak kaydedildi.\")"
   ]
  },
  {
   "cell_type": "markdown",
   "id": "a9eb51b0-4350-4176-ab42-03271b903baa",
   "metadata": {},
   "source": [
    "##### 46-) dataFrame'i txt dosya olarak kaydediniz. "
   ]
  },
  {
   "cell_type": "code",
   "execution_count": 119,
   "id": "d64d21fc-3949-4749-a4fe-aef35635d1a8",
   "metadata": {},
   "outputs": [
    {
     "name": "stdout",
     "output_type": "stream",
     "text": [
      "DataFrame başarıyla C:\\Users\\USER\\Desktop\\output_file.txt olarak kaydedildi.\n"
     ]
    }
   ],
   "source": [
    "file_path = r'C:\\Users\\USER\\Desktop\\output_file.txt'  \n",
    "df.to_csv(file_path, sep='\\t', index=False)\n",
    "\n",
    "print(f\"DataFrame başarıyla {file_path} olarak kaydedildi.\")"
   ]
  },
  {
   "cell_type": "markdown",
   "id": "e127f834-a95d-4c96-b719-a957df1ff7b4",
   "metadata": {},
   "source": [
    "##### 47-) dataFrame'deki bir sütunu küçükten büyüğe sıralayınız."
   ]
  },
  {
   "cell_type": "code",
   "execution_count": 121,
   "id": "9fff0ed3-6ef2-4f87-a912-77aa76662b73",
   "metadata": {},
   "outputs": [
    {
     "name": "stdout",
     "output_type": "stream",
     "text": [
      "            Date  Latitude  Magnitude_ML  \\\n",
      "6497  2013-08-16   39.6798           2.0   \n",
      "8352  2012-05-17   39.5132           2.0   \n",
      "2769  2017-08-05   40.2345           2.0   \n",
      "2773  2017-07-31   39.5461           2.0   \n",
      "2776  2017-07-28   39.6816           2.0   \n",
      "...          ...       ...           ...   \n",
      "3867  2017-02-06   39.5275           5.3   \n",
      "5739  2014-05-24   40.3951           5.3   \n",
      "1915  2019-09-26   40.8818           5.8   \n",
      "101   2025-04-23   40.8369           5.9   \n",
      "102   2025-04-23   40.8600           6.2   \n",
      "\n",
      "                                               Location  \\\n",
      "6497                                 Tavşanlı (Kütahya)   \n",
      "8352                              Altıeylül (Balıkesir)   \n",
      "2769                                    Nilüfer (Bursa)   \n",
      "2773                                Ayvacık (Çanakkale)   \n",
      "2776                                 Karesi (Balıkesir)   \n",
      "...                                                 ...   \n",
      "3867                                Ayvacık (Çanakkale)   \n",
      "5739  Ege Denizi - Saros Körfezi - [08.21 km] Eceaba...   \n",
      "1915     Marmara Denizi - [21.07 km] Silivri (İstanbul)   \n",
      "101   Marmara Denizi - [23.88 km] Büyükçekmece (İsta...   \n",
      "102      Marmara Denizi - [23.16 km] Silivri (İstanbul)   \n",
      "\n",
      "                           Nearest_Fault  Fault_Length_km  Fault_Width_m  \\\n",
      "6497                       Orhaneli Fayı             12.0            4.0   \n",
      "8352               Havran-Balıkesir Fayı              8.0            3.5   \n",
      "2769  Kuzey Anadolu Fay Zonu Ulubat Fayı              7.0            2.0   \n",
      "2773              Kuzey Anadolu Fay Zonu             27.0            4.0   \n",
      "2776               Havran-Balıkesir Fayı             19.0            3.5   \n",
      "...                                  ...              ...            ...   \n",
      "3867              Kuzey Anadolu Fay Zonu             27.0            4.0   \n",
      "5739                          Troya Fayı             11.0            2.0   \n",
      "1915   Kuzey Anadolu Fay Zonu Ganos Fayı             15.0            2.0   \n",
      "101               Kuzey Anadolu Fay Zonu             10.0            2.0   \n",
      "102    Kuzey Anadolu Fay Zonu Ganos Fayı             15.0            2.0   \n",
      "\n",
      "      Fault_Depth_m                    Fault_Type  Length_km  ...  \\\n",
      "6497            3.0          strike-slip + thrust       30.0  ...   \n",
      "8352            3.5   strike-slip + transpression       75.0  ...   \n",
      "2769            3.0  strike-slip + minor vertical       50.0  ...   \n",
      "2773            4.0                   strike-slip     1200.0  ...   \n",
      "2776            3.5   strike-slip + transpression       75.0  ...   \n",
      "...             ...                           ...        ...  ...   \n",
      "3867            4.0                   strike-slip     1200.0  ...   \n",
      "5739            3.0           oblique / uncertain       35.0  ...   \n",
      "1915            2.0                   strike-slip       47.5  ...   \n",
      "101             3.0                   strike-slip     1200.0  ...   \n",
      "102             2.0                   strike-slip       47.5  ...   \n",
      "\n",
      "      Slip_Rate_mm_per_yr  Max_Surface_Slip_m  Recurrence_Interval_yr  \\\n",
      "6497                  2.5            1.433333              700.000000   \n",
      "8352                  2.5            1.433333              600.000000   \n",
      "2769                  3.5            3.000000              650.000000   \n",
      "2773                  7.5            5.000000              550.000000   \n",
      "2776                  2.5            1.433333              600.000000   \n",
      "...                   ...                 ...                     ...   \n",
      "3867                  7.5            5.000000              550.000000   \n",
      "5739                  1.5            0.800000              566.666667   \n",
      "1915                  5.0            5.500000              400.000000   \n",
      "101                   7.5            5.000000              550.000000   \n",
      "102                   5.0            5.500000              400.000000   \n",
      "\n",
      "      Last_Event_Year  Last_Event_Mw  Elapsed_Time_yr  Slip_Deficit_m  \\\n",
      "6497      1855.000000            6.9       170.000000          0.4250   \n",
      "8352      1898.000000            6.9       127.000000          0.3175   \n",
      "2769      1855.000000            7.0       170.000000          0.5950   \n",
      "2773      1999.000000            7.4        26.000000          0.1950   \n",
      "2776      1898.000000            6.9       127.000000          0.3175   \n",
      "...               ...            ...              ...             ...   \n",
      "3867      1999.000000            7.4        26.000000          0.1950   \n",
      "5739      1910.333333            7.2       114.666667          0.1720   \n",
      "1915      1912.000000            7.4       113.000000          0.5650   \n",
      "101       1999.000000            7.4        26.000000          0.1950   \n",
      "102       1912.000000            7.4       113.000000          0.5650   \n",
      "\n",
      "      Normalized_Slip_m_per_km  Moment_Potential_Nm  Mw_Potential  \n",
      "6497                  0.047778         5.100000e+18      1.771713  \n",
      "8352                  0.019111         9.525000e+18      1.952577  \n",
      "2769                  0.060000         1.338750e+19      2.051133  \n",
      "2773                  0.004167         1.053000e+20      2.648286  \n",
      "2776                  0.019111         9.525000e+18      1.952577  \n",
      "...                        ...                  ...           ...  \n",
      "3867                  0.004167         1.053000e+20      2.648286  \n",
      "5739                  0.022857         2.347800e+18      1.547107  \n",
      "1915                  0.115789         1.207688e+19      2.021303  \n",
      "101                   0.004167         1.053000e+20      2.648286  \n",
      "102                   0.115789         1.207688e+19      2.021303  \n",
      "\n",
      "[21605 rows x 21 columns]\n"
     ]
    }
   ],
   "source": [
    "df_sorted = df.sort_values(by='Magnitude_ML', ascending=True)\n",
    "\n",
    "print(df_sorted)"
   ]
  },
  {
   "cell_type": "markdown",
   "id": "29981890-73d9-459b-89e1-e47ec9c17ed6",
   "metadata": {},
   "source": [
    "##### 48-)dataFrame'deki bir sütunu büyükten küçüğe sıralayınız."
   ]
  },
  {
   "cell_type": "code",
   "execution_count": 123,
   "id": "2094d213-e5c1-4b28-b4ff-defbd59931a6",
   "metadata": {},
   "outputs": [
    {
     "name": "stdout",
     "output_type": "stream",
     "text": [
      "            Date  Latitude  Magnitude_ML  \\\n",
      "102   2025-04-23   40.8600           6.2   \n",
      "101   2025-04-23   40.8369           5.9   \n",
      "1915  2019-09-26   40.8818           5.8   \n",
      "3499  2017-02-12   39.5336           5.3   \n",
      "3867  2017-02-06   39.5275           5.3   \n",
      "...          ...       ...           ...   \n",
      "6067  2013-10-29   40.1705           2.0   \n",
      "2693  2017-10-02   39.8106           2.0   \n",
      "502   2024-02-12   40.2864           2.0   \n",
      "503   2024-02-12   40.2989           2.0   \n",
      "1176  2021-12-20   40.6345           2.0   \n",
      "\n",
      "                                               Location  \\\n",
      "102      Marmara Denizi - [23.16 km] Silivri (İstanbul)   \n",
      "101   Marmara Denizi - [23.88 km] Büyükçekmece (İsta...   \n",
      "1915     Marmara Denizi - [21.07 km] Silivri (İstanbul)   \n",
      "3499                                Ayvacık (Çanakkale)   \n",
      "3867                                Ayvacık (Çanakkale)   \n",
      "...                                                 ...   \n",
      "6067        Ege Denizi - [10.15 km] Eceabat (Çanakkale)   \n",
      "2693                           Mustafakemalpaşa (Bursa)   \n",
      "502                                    Biga (Çanakkale)   \n",
      "503                                    Biga (Çanakkale)   \n",
      "1176    Marmara Denizi - [11.07 km] Marmara (Balıkesir)   \n",
      "\n",
      "                          Nearest_Fault  Fault_Length_km  Fault_Width_m  \\\n",
      "102   Kuzey Anadolu Fay Zonu Ganos Fayı             15.0            2.0   \n",
      "101              Kuzey Anadolu Fay Zonu             10.0            2.0   \n",
      "1915  Kuzey Anadolu Fay Zonu Ganos Fayı             15.0            2.0   \n",
      "3499             Kuzey Anadolu Fay Zonu             27.0            4.0   \n",
      "3867             Kuzey Anadolu Fay Zonu             27.0            4.0   \n",
      "...                                 ...              ...            ...   \n",
      "6067                         Troya Fayı             11.0            2.0   \n",
      "2693              Mustafakemalpaşa Fayı             20.0            4.0   \n",
      "502              Kuzey Anadolu Fay Zonu             10.0            5.0   \n",
      "503              Kuzey Anadolu Fay Zonu             10.0            5.0   \n",
      "1176  Kuzey Anadolu Fay Zonu Ganos Fayı             15.0            3.0   \n",
      "\n",
      "      Fault_Depth_m                  Fault_Type  Length_km  ...  \\\n",
      "102             2.0                 strike-slip       47.5  ...   \n",
      "101             3.0                 strike-slip     1200.0  ...   \n",
      "1915            2.0                 strike-slip       47.5  ...   \n",
      "3499            4.0                 strike-slip     1200.0  ...   \n",
      "3867            4.0                 strike-slip     1200.0  ...   \n",
      "...             ...                         ...        ...  ...   \n",
      "6067            3.0         oblique / uncertain       35.0  ...   \n",
      "2693            2.3  strike-slip + minor normal       47.5  ...   \n",
      "502             1.5                 strike-slip     1200.0  ...   \n",
      "503             1.5                 strike-slip     1200.0  ...   \n",
      "1176            1.5                 strike-slip       47.5  ...   \n",
      "\n",
      "      Slip_Rate_mm_per_yr  Max_Surface_Slip_m  Recurrence_Interval_yr  \\\n",
      "102                   5.0            5.500000              400.000000   \n",
      "101                   7.5            5.000000              550.000000   \n",
      "1915                  5.0            5.500000              400.000000   \n",
      "3499                  7.5            5.000000              550.000000   \n",
      "3867                  7.5            5.000000              550.000000   \n",
      "...                   ...                 ...                     ...   \n",
      "6067                  1.5            0.800000              566.666667   \n",
      "2693                  2.5            1.433333              750.000000   \n",
      "502                   7.5            5.000000              550.000000   \n",
      "503                   7.5            5.000000              550.000000   \n",
      "1176                  5.0            5.500000              400.000000   \n",
      "\n",
      "      Last_Event_Year  Last_Event_Mw  Elapsed_Time_yr  Slip_Deficit_m  \\\n",
      "102       1912.000000            7.4       113.000000          0.5650   \n",
      "101       1999.000000            7.4        26.000000          0.1950   \n",
      "1915      1912.000000            7.4       113.000000          0.5650   \n",
      "3499      1999.000000            7.4        26.000000          0.1950   \n",
      "3867      1999.000000            7.4        26.000000          0.1950   \n",
      "...               ...            ...              ...             ...   \n",
      "6067      1910.333333            7.2       114.666667          0.1720   \n",
      "2693      1650.000000            7.0       375.000000          0.9375   \n",
      "502       1999.000000            7.4        26.000000          0.1950   \n",
      "503       1999.000000            7.4        26.000000          0.1950   \n",
      "1176      1912.000000            7.4       113.000000          0.5650   \n",
      "\n",
      "      Normalized_Slip_m_per_km  Moment_Potential_Nm  Mw_Potential  \n",
      "102                   0.115789         1.207688e+19      2.021303  \n",
      "101                   0.004167         1.053000e+20      2.648286  \n",
      "1915                  0.115789         1.207688e+19      2.021303  \n",
      "3499                  0.004167         1.053000e+20      2.648286  \n",
      "3867                  0.004167         1.053000e+20      2.648286  \n",
      "...                        ...                  ...           ...  \n",
      "6067                  0.022857         2.347800e+18      1.547107  \n",
      "2693                  0.030175         1.781250e+19      2.133817  \n",
      "502                   0.004167         1.053000e+20      2.648286  \n",
      "503                   0.004167         1.053000e+20      2.648286  \n",
      "1176                  0.115789         1.207688e+19      2.021303  \n",
      "\n",
      "[21605 rows x 21 columns]\n"
     ]
    }
   ],
   "source": [
    "df_sorted_desc = df.sort_values(by='Magnitude_ML', ascending=False)\n",
    "\n",
    "print(df_sorted_desc)"
   ]
  },
  {
   "cell_type": "markdown",
   "id": "cd188e43-6515-4b65-8613-0dc504fb82a7",
   "metadata": {},
   "source": [
    "##### 49-) dataFrame'deki iki sütunu küçükten büyüğe sıralayınız."
   ]
  },
  {
   "cell_type": "code",
   "execution_count": 133,
   "id": "774eaa63-1f1c-4e54-9219-10ccca9edbb8",
   "metadata": {},
   "outputs": [
    {
     "name": "stdout",
     "output_type": "stream",
     "text": [
      "            Date  Latitude  Magnitude_ML  \\\n",
      "6497  2013-08-16   39.6798           2.0   \n",
      "8352  2012-05-17   39.5132           2.0   \n",
      "2769  2017-08-05   40.2345           2.0   \n",
      "2773  2017-07-31   39.5461           2.0   \n",
      "2776  2017-07-28   39.6816           2.0   \n",
      "...          ...       ...           ...   \n",
      "3867  2017-02-06   39.5275           5.3   \n",
      "5739  2014-05-24   40.3951           5.3   \n",
      "1915  2019-09-26   40.8818           5.8   \n",
      "101   2025-04-23   40.8369           5.9   \n",
      "102   2025-04-23   40.8600           6.2   \n",
      "\n",
      "                                               Location  \\\n",
      "6497                                 Tavşanlı (Kütahya)   \n",
      "8352                              Altıeylül (Balıkesir)   \n",
      "2769                                    Nilüfer (Bursa)   \n",
      "2773                                Ayvacık (Çanakkale)   \n",
      "2776                                 Karesi (Balıkesir)   \n",
      "...                                                 ...   \n",
      "3867                                Ayvacık (Çanakkale)   \n",
      "5739  Ege Denizi - Saros Körfezi - [08.21 km] Eceaba...   \n",
      "1915     Marmara Denizi - [21.07 km] Silivri (İstanbul)   \n",
      "101   Marmara Denizi - [23.88 km] Büyükçekmece (İsta...   \n",
      "102      Marmara Denizi - [23.16 km] Silivri (İstanbul)   \n",
      "\n",
      "                           Nearest_Fault  Fault_Length_km  Fault_Width_m  \\\n",
      "6497                       Orhaneli Fayı             12.0            4.0   \n",
      "8352               Havran-Balıkesir Fayı              8.0            3.5   \n",
      "2769  Kuzey Anadolu Fay Zonu Ulubat Fayı              7.0            2.0   \n",
      "2773              Kuzey Anadolu Fay Zonu             27.0            4.0   \n",
      "2776               Havran-Balıkesir Fayı             19.0            3.5   \n",
      "...                                  ...              ...            ...   \n",
      "3867              Kuzey Anadolu Fay Zonu             27.0            4.0   \n",
      "5739                          Troya Fayı             11.0            2.0   \n",
      "1915   Kuzey Anadolu Fay Zonu Ganos Fayı             15.0            2.0   \n",
      "101               Kuzey Anadolu Fay Zonu             10.0            2.0   \n",
      "102    Kuzey Anadolu Fay Zonu Ganos Fayı             15.0            2.0   \n",
      "\n",
      "      Fault_Depth_m                    Fault_Type  Length_km  ...  \\\n",
      "6497            3.0          strike-slip + thrust       30.0  ...   \n",
      "8352            3.5   strike-slip + transpression       75.0  ...   \n",
      "2769            3.0  strike-slip + minor vertical       50.0  ...   \n",
      "2773            4.0                   strike-slip     1200.0  ...   \n",
      "2776            3.5   strike-slip + transpression       75.0  ...   \n",
      "...             ...                           ...        ...  ...   \n",
      "3867            4.0                   strike-slip     1200.0  ...   \n",
      "5739            3.0           oblique / uncertain       35.0  ...   \n",
      "1915            2.0                   strike-slip       47.5  ...   \n",
      "101             3.0                   strike-slip     1200.0  ...   \n",
      "102             2.0                   strike-slip       47.5  ...   \n",
      "\n",
      "      Slip_Rate_mm_per_yr  Max_Surface_Slip_m  Recurrence_Interval_yr  \\\n",
      "6497                  2.5            1.433333              700.000000   \n",
      "8352                  2.5            1.433333              600.000000   \n",
      "2769                  3.5            3.000000              650.000000   \n",
      "2773                  7.5            5.000000              550.000000   \n",
      "2776                  2.5            1.433333              600.000000   \n",
      "...                   ...                 ...                     ...   \n",
      "3867                  7.5            5.000000              550.000000   \n",
      "5739                  1.5            0.800000              566.666667   \n",
      "1915                  5.0            5.500000              400.000000   \n",
      "101                   7.5            5.000000              550.000000   \n",
      "102                   5.0            5.500000              400.000000   \n",
      "\n",
      "      Last_Event_Year  Last_Event_Mw  Elapsed_Time_yr  Slip_Deficit_m  \\\n",
      "6497      1855.000000            6.9       170.000000          0.4250   \n",
      "8352      1898.000000            6.9       127.000000          0.3175   \n",
      "2769      1855.000000            7.0       170.000000          0.5950   \n",
      "2773      1999.000000            7.4        26.000000          0.1950   \n",
      "2776      1898.000000            6.9       127.000000          0.3175   \n",
      "...               ...            ...              ...             ...   \n",
      "3867      1999.000000            7.4        26.000000          0.1950   \n",
      "5739      1910.333333            7.2       114.666667          0.1720   \n",
      "1915      1912.000000            7.4       113.000000          0.5650   \n",
      "101       1999.000000            7.4        26.000000          0.1950   \n",
      "102       1912.000000            7.4       113.000000          0.5650   \n",
      "\n",
      "      Normalized_Slip_m_per_km  Moment_Potential_Nm  Mw_Potential  \n",
      "6497                  0.047778         5.100000e+18      1.771713  \n",
      "8352                  0.019111         9.525000e+18      1.952577  \n",
      "2769                  0.060000         1.338750e+19      2.051133  \n",
      "2773                  0.004167         1.053000e+20      2.648286  \n",
      "2776                  0.019111         9.525000e+18      1.952577  \n",
      "...                        ...                  ...           ...  \n",
      "3867                  0.004167         1.053000e+20      2.648286  \n",
      "5739                  0.022857         2.347800e+18      1.547107  \n",
      "1915                  0.115789         1.207688e+19      2.021303  \n",
      "101                   0.004167         1.053000e+20      2.648286  \n",
      "102                   0.115789         1.207688e+19      2.021303  \n",
      "\n",
      "[21605 rows x 21 columns]\n"
     ]
    }
   ],
   "source": [
    "df_sorted = df.sort_values(by=['Magnitude_ML'], ascending=True)\n",
    "print(df_sorted)"
   ]
  },
  {
   "cell_type": "markdown",
   "id": "921d82e8-7b5f-494f-b2d4-4bcdeb93effe",
   "metadata": {},
   "source": [
    "##### 50-) dataFrame'deki iki sütunu büyükten küçüğe sıralayınız. "
   ]
  },
  {
   "cell_type": "code",
   "execution_count": 137,
   "id": "bcaf6389-7a49-4687-b158-f7bc57f4fe82",
   "metadata": {},
   "outputs": [
    {
     "name": "stdout",
     "output_type": "stream",
     "text": [
      "            Date  Latitude  Magnitude_ML  \\\n",
      "102   2025-04-23   40.8600           6.2   \n",
      "101   2025-04-23   40.8369           5.9   \n",
      "1915  2019-09-26   40.8818           5.8   \n",
      "5739  2014-05-24   40.3951           5.3   \n",
      "3910  2017-02-06   39.5423           5.3   \n",
      "...          ...       ...           ...   \n",
      "7490  2012-12-19   39.5027           2.0   \n",
      "5459  2014-06-09   39.5018           2.0   \n",
      "7780  2012-09-30   39.5017           2.0   \n",
      "4255  2016-07-30   39.5010           2.0   \n",
      "8318  2012-05-24   39.5003           2.0   \n",
      "\n",
      "                                               Location  \\\n",
      "102      Marmara Denizi - [23.16 km] Silivri (İstanbul)   \n",
      "101   Marmara Denizi - [23.88 km] Büyükçekmece (İsta...   \n",
      "1915     Marmara Denizi - [21.07 km] Silivri (İstanbul)   \n",
      "5739  Ege Denizi - Saros Körfezi - [08.21 km] Eceaba...   \n",
      "3910                                Ayvacık (Çanakkale)   \n",
      "...                                                 ...   \n",
      "7490                                Bigadiç (Balıkesir)   \n",
      "5459                              Altıeylül (Balıkesir)   \n",
      "7780                                Bigadiç (Balıkesir)   \n",
      "4255                              Dursunbey (Balıkesir)   \n",
      "8318                              Altıeylül (Balıkesir)   \n",
      "\n",
      "                          Nearest_Fault  Fault_Length_km  Fault_Width_m  \\\n",
      "102   Kuzey Anadolu Fay Zonu Ganos Fayı             15.0            2.0   \n",
      "101              Kuzey Anadolu Fay Zonu             10.0            2.0   \n",
      "1915  Kuzey Anadolu Fay Zonu Ganos Fayı             15.0            2.0   \n",
      "5739                         Troya Fayı             11.0            2.0   \n",
      "3910                         Troya Fayı              6.0            2.0   \n",
      "...                                 ...              ...            ...   \n",
      "7490              Havran-Balıkesir Fayı              8.0            3.5   \n",
      "5459              Havran-Balıkesir Fayı              8.0            3.5   \n",
      "7780              Havran-Balıkesir Fayı              8.0            3.5   \n",
      "4255                      Orhaneli Fayı             12.0            4.0   \n",
      "8318              Havran-Balıkesir Fayı              8.0            3.5   \n",
      "\n",
      "      Fault_Depth_m                   Fault_Type  Length_km  ...  \\\n",
      "102             2.0                  strike-slip       47.5  ...   \n",
      "101             3.0                  strike-slip     1200.0  ...   \n",
      "1915            2.0                  strike-slip       47.5  ...   \n",
      "5739            3.0          oblique / uncertain       35.0  ...   \n",
      "3910            4.5          oblique / uncertain       35.0  ...   \n",
      "...             ...                          ...        ...  ...   \n",
      "7490            3.5  strike-slip + transpression       75.0  ...   \n",
      "5459            3.5  strike-slip + transpression       75.0  ...   \n",
      "7780            3.5  strike-slip + transpression       75.0  ...   \n",
      "4255            3.0         strike-slip + thrust       30.0  ...   \n",
      "8318            3.5  strike-slip + transpression       75.0  ...   \n",
      "\n",
      "      Slip_Rate_mm_per_yr  Max_Surface_Slip_m  Recurrence_Interval_yr  \\\n",
      "102                   5.0            5.500000              400.000000   \n",
      "101                   7.5            5.000000              550.000000   \n",
      "1915                  5.0            5.500000              400.000000   \n",
      "5739                  1.5            0.800000              566.666667   \n",
      "3910                  1.5            0.800000              566.666667   \n",
      "...                   ...                 ...                     ...   \n",
      "7490                  2.5            1.433333              600.000000   \n",
      "5459                  2.5            1.433333              600.000000   \n",
      "7780                  2.5            1.433333              600.000000   \n",
      "4255                  2.5            1.433333              700.000000   \n",
      "8318                  2.5            1.433333              600.000000   \n",
      "\n",
      "      Last_Event_Year  Last_Event_Mw  Elapsed_Time_yr  Slip_Deficit_m  \\\n",
      "102       1912.000000            7.4       113.000000          0.5650   \n",
      "101       1999.000000            7.4        26.000000          0.1950   \n",
      "1915      1912.000000            7.4       113.000000          0.5650   \n",
      "5739      1910.333333            7.2       114.666667          0.1720   \n",
      "3910      1910.333333            7.2       114.666667          0.1720   \n",
      "...               ...            ...              ...             ...   \n",
      "7490      1898.000000            6.9       127.000000          0.3175   \n",
      "5459      1898.000000            6.9       127.000000          0.3175   \n",
      "7780      1898.000000            6.9       127.000000          0.3175   \n",
      "4255      1855.000000            6.9       170.000000          0.4250   \n",
      "8318      1898.000000            6.9       127.000000          0.3175   \n",
      "\n",
      "      Normalized_Slip_m_per_km  Moment_Potential_Nm  Mw_Potential  \n",
      "102                   0.115789         1.207688e+19      2.021303  \n",
      "101                   0.004167         1.053000e+20      2.648286  \n",
      "1915                  0.115789         1.207688e+19      2.021303  \n",
      "5739                  0.022857         2.347800e+18      1.547107  \n",
      "3910                  0.022857         2.347800e+18      1.547107  \n",
      "...                        ...                  ...           ...  \n",
      "7490                  0.019111         9.525000e+18      1.952577  \n",
      "5459                  0.019111         9.525000e+18      1.952577  \n",
      "7780                  0.019111         9.525000e+18      1.952577  \n",
      "4255                  0.047778         5.100000e+18      1.771713  \n",
      "8318                  0.019111         9.525000e+18      1.952577  \n",
      "\n",
      "[21605 rows x 21 columns]\n"
     ]
    }
   ],
   "source": [
    "df_sorted_multiple_desc = df.sort_values(by=['Magnitude_ML', 'Latitude'], ascending=[False, False])\n",
    "print(df_sorted_multiple_desc)"
   ]
  },
  {
   "cell_type": "markdown",
   "id": "3556c45e-d2d6-4482-bee5-84ad4bef4299",
   "metadata": {},
   "source": [
    "##### 51-)dataFrame'deki 5 veriyi tesadüfi olarak listeleyiniz. "
   ]
  },
  {
   "cell_type": "code",
   "execution_count": 139,
   "id": "f4f425bb-1fb4-44ba-8012-7fb42f671999",
   "metadata": {},
   "outputs": [
    {
     "name": "stdout",
     "output_type": "stream",
     "text": [
      "             Date  Latitude  Magnitude_ML               Location  \\\n",
      "15633  2008-05-24   40.3237           2.8   Bandırma (Balıkesir)   \n",
      "14695  2009-03-26   39.6282           3.4  Dursunbey (Balıkesir)   \n",
      "19031  2005-04-23   39.7070           2.3     Tavşanlı (Kütahya)   \n",
      "6463   2013-08-24   40.0318           2.5      Gönen (Balıkesir)   \n",
      "15773  2008-04-11   39.6732           2.6      Ezine (Çanakkale)   \n",
      "\n",
      "               Nearest_Fault  Fault_Length_km  Fault_Width_m  Fault_Depth_m  \\\n",
      "15633        Manyas Fay Zonu             26.0            5.0            3.0   \n",
      "14695  Mustafakemalpaşa Fayı             20.0            4.0            2.3   \n",
      "19031          Orhaneli Fayı             12.0            4.0            3.0   \n",
      "6463   Yenice-Gönen Fay Zonu             20.0            3.0            2.5   \n",
      "15773             Troya Fayı              6.0            2.0            4.5   \n",
      "\n",
      "                       Fault_Type  Length_km  ...  Slip_Rate_mm_per_yr  \\\n",
      "15633            normal (listric)       38.0  ...             0.800000   \n",
      "14695  strike-slip + minor normal       47.5  ...             2.500000   \n",
      "19031        strike-slip + thrust       30.0  ...             2.500000   \n",
      "6463                  strike-slip       47.5  ...             2.433333   \n",
      "15773         oblique / uncertain       35.0  ...             1.500000   \n",
      "\n",
      "       Max_Surface_Slip_m  Recurrence_Interval_yr  Last_Event_Year  \\\n",
      "15633            0.500000              600.000000      1964.000000   \n",
      "14695            1.433333              750.000000      1650.000000   \n",
      "19031            1.433333              700.000000      1855.000000   \n",
      "6463             4.300000              250.000000      1953.000000   \n",
      "15773            0.800000              566.666667      1910.333333   \n",
      "\n",
      "       Last_Event_Mw  Elapsed_Time_yr  Slip_Deficit_m  \\\n",
      "15633            6.8        61.000000          0.0488   \n",
      "14695            7.0       375.000000          0.9375   \n",
      "19031            6.9       170.000000          0.4250   \n",
      "6463             7.4        72.000000          0.1752   \n",
      "15773            7.2       114.666667          0.1720   \n",
      "\n",
      "       Normalized_Slip_m_per_km  Moment_Potential_Nm  Mw_Potential  \n",
      "15633                  0.013158         6.675840e+17      1.183004  \n",
      "14695                  0.030175         1.781250e+19      2.133817  \n",
      "19031                  0.047778         5.100000e+18      1.771713  \n",
      "6463                   0.090526         2.746260e+18      1.592494  \n",
      "15773                  0.022857         2.347800e+18      1.547107  \n",
      "\n",
      "[5 rows x 21 columns]\n"
     ]
    }
   ],
   "source": [
    "df_random_sample = df.sample(n=5)\n",
    "print(df_random_sample)"
   ]
  },
  {
   "cell_type": "code",
   "execution_count": 155,
   "id": "349abd39-0df9-43a1-8318-729708294a86",
   "metadata": {},
   "outputs": [
    {
     "name": "stdout",
     "output_type": "stream",
     "text": [
      "Requirement already satisfied: matplotlib in c:\\users\\user\\anaconda3\\lib\\site-packages (3.9.2)\n",
      "Requirement already satisfied: seaborn in c:\\users\\user\\anaconda3\\lib\\site-packages (0.13.2)\n",
      "Requirement already satisfied: contourpy>=1.0.1 in c:\\users\\user\\anaconda3\\lib\\site-packages (from matplotlib) (1.2.0)\n",
      "Requirement already satisfied: cycler>=0.10 in c:\\users\\user\\anaconda3\\lib\\site-packages (from matplotlib) (0.11.0)\n",
      "Requirement already satisfied: fonttools>=4.22.0 in c:\\users\\user\\anaconda3\\lib\\site-packages (from matplotlib) (4.51.0)\n",
      "Requirement already satisfied: kiwisolver>=1.3.1 in c:\\users\\user\\anaconda3\\lib\\site-packages (from matplotlib) (1.4.4)\n",
      "Requirement already satisfied: numpy>=1.23 in c:\\users\\user\\anaconda3\\lib\\site-packages (from matplotlib) (1.26.4)\n",
      "Requirement already satisfied: packaging>=20.0 in c:\\users\\user\\anaconda3\\lib\\site-packages (from matplotlib) (24.1)\n",
      "Requirement already satisfied: pillow>=8 in c:\\users\\user\\anaconda3\\lib\\site-packages (from matplotlib) (10.4.0)\n",
      "Requirement already satisfied: pyparsing>=2.3.1 in c:\\users\\user\\anaconda3\\lib\\site-packages (from matplotlib) (3.1.2)\n",
      "Requirement already satisfied: python-dateutil>=2.7 in c:\\users\\user\\anaconda3\\lib\\site-packages (from matplotlib) (2.9.0.post0)\n",
      "Requirement already satisfied: pandas>=1.2 in c:\\users\\user\\anaconda3\\lib\\site-packages (from seaborn) (2.2.2)\n",
      "Requirement already satisfied: pytz>=2020.1 in c:\\users\\user\\anaconda3\\lib\\site-packages (from pandas>=1.2->seaborn) (2024.1)\n",
      "Requirement already satisfied: tzdata>=2022.7 in c:\\users\\user\\anaconda3\\lib\\site-packages (from pandas>=1.2->seaborn) (2023.3)\n",
      "Requirement already satisfied: six>=1.5 in c:\\users\\user\\anaconda3\\lib\\site-packages (from python-dateutil>=2.7->matplotlib) (1.16.0)\n",
      "Note: you may need to restart the kernel to use updated packages.\n"
     ]
    }
   ],
   "source": [
    "pip install matplotlib seaborn\n"
   ]
  },
  {
   "cell_type": "markdown",
   "id": "374113cd-3089-431e-ae52-57a140baebf5",
   "metadata": {},
   "source": [
    "##### Veri seti ile ilgili olarak, Scatter plot Histogram,Bar chart ,Pie chart ,Heat Map grafiklerini çiziniz. ,Seaborn Kütüphanesi kullanarak \"Stripplot grafiğini\" ve ,\"Swarmplot\" grafiğini çiziniz. "
   ]
  },
  {
   "cell_type": "code",
   "execution_count": 157,
   "id": "975e5385-7ec5-4d83-844e-83deb1d7a727",
   "metadata": {},
   "outputs": [
    {
     "data": {
      "text/plain": [
       "<Figure size 800x600 with 0 Axes>"
      ]
     },
     "metadata": {},
     "output_type": "display_data"
    },
    {
     "data": {
      "image/png": "[encoded data removed]",
      "text/plain": [
       "<Figure size 800x600 with 1 Axes>"
      ]
     },
     "metadata": {},
     "output_type": "display_data"
    },
    {
     "data": {
      "image/png": "[encoded data removed]",
      "text/plain": [
       "<Figure size 800x600 with 1 Axes>"
      ]
     },
     "metadata": {},
     "output_type": "display_data"
    },
    {
     "data": {
      "image/png": "[encoded data removed]",
      "text/plain": [
       "<Figure size 800x600 with 1 Axes>"
      ]
     },
     "metadata": {},
     "output_type": "display_data"
    }
   ],
   "source": [
    "import seaborn as sns\n",
    "import matplotlib.pyplot as plt\n",
    "\n",
    "# Scatter plot\n",
    "plt.figure(figsize=(8, 6))\n",
    "sns.scatterplot(data=df, x='Magnitude_ML', y='Latitude')\n",
    "plt.title('Scatter Plot: Magnitude vs Latitude')\n",
    "plt.xlabel('Magnitude')\n",
    "plt.ylabel('Latitude')\n",
    "plt.show()\n"
   ]
  },
  {
   "cell_type": "code",
   "execution_count": 159,
   "id": "4f64cae3-e2d9-4587-84e0-12b12c32b55b",
   "metadata": {},
   "outputs": [
    {
     "data": {
      "image/png": "[encoded data removed]",
      "text/plain": [
       "<Figure size 800x600 with 1 Axes>"
      ]
     },
     "metadata": {},
     "output_type": "display_data"
    }
   ],
   "source": [
    "# Histogram\n",
    "plt.figure(figsize=(8, 6))\n",
    "sns.histplot(df['Magnitude_ML'], kde=True, bins=20)\n",
    "plt.title('Histogram: Magnitude Distribution')\n",
    "plt.xlabel('Magnitude')\n",
    "plt.ylabel('Frequency')\n",
    "plt.show()\n"
   ]
  },
  {
   "cell_type": "code",
   "execution_count": 161,
   "id": "a4d0c5eb-1d25-4bdf-972b-98382d621cb6",
   "metadata": {},
   "outputs": [
    {
     "data": {
      "image/png": "[encoded data removed]",
      "text/plain": [
       "<Figure size 800x600 with 1 Axes>"
      ]
     },
     "metadata": {},
     "output_type": "display_data"
    }
   ],
   "source": [
    "# Bar chart\n",
    "plt.figure(figsize=(8, 6))\n",
    "sns.barplot(x='Magnitude_ML', y='Latitude', data=df)\n",
    "plt.title('Bar Chart: Magnitude vs Latitude')\n",
    "plt.xlabel('Magnitude')\n",
    "plt.ylabel('Latitude')\n",
    "plt.show()\n"
   ]
  },
  {
   "cell_type": "code",
   "execution_count": 163,
   "id": "64abb543-d4e6-4493-9304-fc9fc39eee98",
   "metadata": {},
   "outputs": [
    {
     "data": {
      "image/png": "[encoded data removed]",
      "text/plain": [
       "<Figure size 800x600 with 1 Axes>"
      ]
     },
     "metadata": {},
     "output_type": "display_data"
    }
   ],
   "source": [
    "# Pie chart\n",
    "magnitude_counts = df['Magnitude_ML'].value_counts()\n",
    "plt.figure(figsize=(8, 6))\n",
    "magnitude_counts.plot(kind='pie', autopct='%1.1f%%', startangle=90, cmap='Set3')\n",
    "plt.title('Pie Chart: Magnitude Distribution')\n",
    "plt.ylabel('')\n",
    "plt.show()\n"
   ]
  },
  {
   "cell_type": "code",
   "execution_count": 167,
   "id": "e652e8aa-2809-4515-95c1-767ef2408ec2",
   "metadata": {},
   "outputs": [
    {
     "data": {
      "text/plain": [
       "<Figure size 800x600 with 0 Axes>"
      ]
     },
     "metadata": {},
     "output_type": "display_data"
    },
    {
     "data": {
      "image/png": "[encoded data removed]",
      "text/plain": [
       "<Figure size 800x600 with 1 Axes>"
      ]
     },
     "metadata": {},
     "output_type": "display_data"
    }
   ],
   "source": [
    "# Stripplot\n",
    "plt.figure(figsize=(8, 6))\n",
    "sns.stripplot(x='Magnitude_ML', y='Latitude', data=df, jitter=True)\n",
    "plt.title('Stripplot: Magnitude vs Latitude')\n",
    "plt.xlabel('Magnitude')\n",
    "plt.ylabel('Latitude')\n",
    "plt.show()\n"
   ]
  },
  {
   "cell_type": "markdown",
   "id": "7353b2f4-c9fc-40c6-a018-657b6fc25b7e",
   "metadata": {},
   "source": [
    "##### 59-) Keras kütüphanesini yükleyiniz."
   ]
  },
  {
   "cell_type": "code",
   "execution_count": 170,
   "id": "70cf4fc7-5119-4afa-be16-fc2e8f15b12c",
   "metadata": {},
   "outputs": [
    {
     "name": "stdout",
     "output_type": "stream",
     "text": [
      "Requirement already satisfied: keras in c:\\users\\user\\anaconda3\\lib\\site-packages (3.8.0)\n",
      "Requirement already satisfied: absl-py in c:\\users\\user\\anaconda3\\lib\\site-packages (from keras) (2.1.0)\n",
      "Requirement already satisfied: numpy in c:\\users\\user\\anaconda3\\lib\\site-packages (from keras) (1.26.4)\n",
      "Requirement already satisfied: rich in c:\\users\\user\\anaconda3\\lib\\site-packages (from keras) (13.7.1)\n",
      "Requirement already satisfied: namex in c:\\users\\user\\anaconda3\\lib\\site-packages (from keras) (0.0.8)\n",
      "Requirement already satisfied: h5py in c:\\users\\user\\anaconda3\\lib\\site-packages (from keras) (3.11.0)\n",
      "Requirement already satisfied: optree in c:\\users\\user\\anaconda3\\lib\\site-packages (from keras) (0.14.0)\n",
      "Requirement already satisfied: ml-dtypes in c:\\users\\user\\anaconda3\\lib\\site-packages (from keras) (0.4.1)\n",
      "Requirement already satisfied: packaging in c:\\users\\user\\anaconda3\\lib\\site-packages (from keras) (24.1)\n",
      "Requirement already satisfied: typing-extensions>=4.5.0 in c:\\users\\user\\anaconda3\\lib\\site-packages (from optree->keras) (4.11.0)\n",
      "Requirement already satisfied: markdown-it-py>=2.2.0 in c:\\users\\user\\anaconda3\\lib\\site-packages (from rich->keras) (2.2.0)\n",
      "Requirement already satisfied: pygments<3.0.0,>=2.13.0 in c:\\users\\user\\anaconda3\\lib\\site-packages (from rich->keras) (2.15.1)\n",
      "Requirement already satisfied: mdurl~=0.1 in c:\\users\\user\\anaconda3\\lib\\site-packages (from markdown-it-py>=2.2.0->rich->keras) (0.1.0)\n",
      "Note: you may need to restart the kernel to use updated packages.\n"
     ]
    }
   ],
   "source": [
    "pip install keras"
   ]
  },
  {
   "cell_type": "markdown",
   "id": "86244585-c8cf-4a7c-88d5-0d3571c22573",
   "metadata": {},
   "source": [
    "##### 60-) Keras kütüphanesinin versiyonunu bulunuz."
   ]
  },
  {
   "cell_type": "code",
   "execution_count": 172,
   "id": "5fd4959e-583c-4976-a7e0-bd285c0c2c27",
   "metadata": {},
   "outputs": [
    {
     "name": "stdout",
     "output_type": "stream",
     "text": [
      "3.8.0\n"
     ]
    }
   ],
   "source": [
    "import keras\n",
    "print(keras.__version__)"
   ]
  },
  {
   "cell_type": "markdown",
   "id": "ea28da4d-e8ee-4919-8f90-144545c6e284",
   "metadata": {},
   "source": [
    "##### 61-) CSV dataset'den sadece iki sütunu dataframe'e import ediniz."
   ]
  },
  {
   "cell_type": "code",
   "execution_count": 178,
   "id": "3303af05-d127-4c4a-b274-f1d5704f89fd",
   "metadata": {},
   "outputs": [
    {
     "name": "stdout",
     "output_type": "stream",
     "text": [
      "       Latitude  Magnitude_ML\n",
      "0       40.8394           2.5\n",
      "1       40.8442           2.6\n",
      "2       40.8353           2.0\n",
      "3       40.8567           3.5\n",
      "4       40.8467           2.8\n",
      "...         ...           ...\n",
      "21600   40.5600           2.7\n",
      "21601   40.0200           2.9\n",
      "21602   40.9000           2.6\n",
      "21603   40.3700           3.2\n",
      "21604   39.5600           3.2\n",
      "\n",
      "[21605 rows x 2 columns]\n"
     ]
    }
   ],
   "source": [
    "df = pd.read_csv(r'C:\\Users\\USER\\Desktop\\Son Yarıyıl\\Python ile Veri Analizi\\marmara_faults_earthquakes_2000_2025.csv', usecols=['Magnitude_ML', 'Latitude'])\n",
    "print(df)"
   ]
  },
  {
   "cell_type": "markdown",
   "id": "6f2b7be7-a577-465f-aaf6-a665c4f59dcb",
   "metadata": {},
   "source": [
    "##### 63-) Python Sweetviz Kütüphanesini Keşifsel Veri Analizi yapmak için kullanınız."
   ]
  },
  {
   "cell_type": "code",
   "execution_count": 182,
   "id": "420a87da-7c91-45d7-aa8c-18261a120633",
   "metadata": {},
   "outputs": [
    {
     "name": "stdout",
     "output_type": "stream",
     "text": [
      "Collecting sweetviz\n",
      "  Downloading sweetviz-2.3.1-py3-none-any.whl.metadata (24 kB)\n",
      "Requirement already satisfied: pandas!=1.0.0,!=1.0.1,!=1.0.2,>=0.25.3 in c:\\users\\user\\anaconda3\\lib\\site-packages (from sweetviz) (2.2.2)\n",
      "Requirement already satisfied: numpy>=1.16.0 in c:\\users\\user\\anaconda3\\lib\\site-packages (from sweetviz) (1.26.4)\n",
      "Requirement already satisfied: matplotlib>=3.1.3 in c:\\users\\user\\anaconda3\\lib\\site-packages (from sweetviz) (3.9.2)\n",
      "Requirement already satisfied: tqdm>=4.43.0 in c:\\users\\user\\anaconda3\\lib\\site-packages (from sweetviz) (4.66.5)\n",
      "Requirement already satisfied: scipy>=1.3.2 in c:\\users\\user\\anaconda3\\lib\\site-packages (from sweetviz) (1.13.1)\n",
      "Requirement already satisfied: jinja2>=2.11.1 in c:\\users\\user\\anaconda3\\lib\\site-packages (from sweetviz) (3.1.4)\n",
      "Collecting importlib-resources>=1.2.0 (from sweetviz)\n",
      "  Downloading importlib_resources-6.5.2-py3-none-any.whl.metadata (3.9 kB)\n",
      "Requirement already satisfied: MarkupSafe>=2.0 in c:\\users\\user\\anaconda3\\lib\\site-packages (from jinja2>=2.11.1->sweetviz) (2.1.3)\n",
      "Requirement already satisfied: contourpy>=1.0.1 in c:\\users\\user\\anaconda3\\lib\\site-packages (from matplotlib>=3.1.3->sweetviz) (1.2.0)\n",
      "Requirement already satisfied: cycler>=0.10 in c:\\users\\user\\anaconda3\\lib\\site-packages (from matplotlib>=3.1.3->sweetviz) (0.11.0)\n",
      "Requirement already satisfied: fonttools>=4.22.0 in c:\\users\\user\\anaconda3\\lib\\site-packages (from matplotlib>=3.1.3->sweetviz) (4.51.0)\n",
      "Requirement already satisfied: kiwisolver>=1.3.1 in c:\\users\\user\\anaconda3\\lib\\site-packages (from matplotlib>=3.1.3->sweetviz) (1.4.4)\n",
      "Requirement already satisfied: packaging>=20.0 in c:\\users\\user\\anaconda3\\lib\\site-packages (from matplotlib>=3.1.3->sweetviz) (24.1)\n",
      "Requirement already satisfied: pillow>=8 in c:\\users\\user\\anaconda3\\lib\\site-packages (from matplotlib>=3.1.3->sweetviz) (10.4.0)\n",
      "Requirement already satisfied: pyparsing>=2.3.1 in c:\\users\\user\\anaconda3\\lib\\site-packages (from matplotlib>=3.1.3->sweetviz) (3.1.2)\n",
      "Requirement already satisfied: python-dateutil>=2.7 in c:\\users\\user\\anaconda3\\lib\\site-packages (from matplotlib>=3.1.3->sweetviz) (2.9.0.post0)\n",
      "Requirement already satisfied: pytz>=2020.1 in c:\\users\\user\\anaconda3\\lib\\site-packages (from pandas!=1.0.0,!=1.0.1,!=1.0.2,>=0.25.3->sweetviz) (2024.1)\n",
      "Requirement already satisfied: tzdata>=2022.7 in c:\\users\\user\\anaconda3\\lib\\site-packages (from pandas!=1.0.0,!=1.0.1,!=1.0.2,>=0.25.3->sweetviz) (2023.3)\n",
      "Requirement already satisfied: colorama in c:\\users\\user\\anaconda3\\lib\\site-packages (from tqdm>=4.43.0->sweetviz) (0.4.6)\n",
      "Requirement already satisfied: six>=1.5 in c:\\users\\user\\anaconda3\\lib\\site-packages (from python-dateutil>=2.7->matplotlib>=3.1.3->sweetviz) (1.16.0)\n",
      "Downloading sweetviz-2.3.1-py3-none-any.whl (15.1 MB)\n",
      "   ---------------------------------------- 0.0/15.1 MB ? eta -:--:--\n",
      "   ---------------------------------------- 0.0/15.1 MB ? eta -:--:--\n",
      "   ---------------------------------------- 0.0/15.1 MB ? eta -:--:--\n",
      "   ---------------------------------------- 0.0/15.1 MB ? eta -:--:--\n",
      "   ---------------------------------------- 0.0/15.1 MB ? eta -:--:--\n",
      "    --------------------------------------- 0.3/15.1 MB ? eta -:--:--\n",
      "    --------------------------------------- 0.3/15.1 MB ? eta -:--:--\n",
      "    --------------------------------------- 0.3/15.1 MB ? eta -:--:--\n",
      "   - -------------------------------------- 0.5/15.1 MB 508.0 kB/s eta 0:00:29\n",
      "   - -------------------------------------- 0.5/15.1 MB 508.0 kB/s eta 0:00:29\n",
      "   -- ------------------------------------- 0.8/15.1 MB 568.6 kB/s eta 0:00:26\n",
      "   -- ------------------------------------- 1.0/15.1 MB 636.8 kB/s eta 0:00:23\n",
      "   --- ------------------------------------ 1.3/15.1 MB 677.8 kB/s eta 0:00:21\n",
      "   --- ------------------------------------ 1.3/15.1 MB 677.8 kB/s eta 0:00:21\n",
      "   ---- ----------------------------------- 1.6/15.1 MB 710.8 kB/s eta 0:00:20\n",
      "   ---- ----------------------------------- 1.8/15.1 MB 768.4 kB/s eta 0:00:18\n",
      "   ----- ---------------------------------- 2.1/15.1 MB 809.8 kB/s eta 0:00:17\n",
      "   ----- ---------------------------------- 2.1/15.1 MB 809.8 kB/s eta 0:00:17\n",
      "   ----- ---------------------------------- 2.1/15.1 MB 809.8 kB/s eta 0:00:17\n",
      "   ----- ---------------------------------- 2.1/15.1 MB 809.8 kB/s eta 0:00:17\n",
      "   ----- ---------------------------------- 2.1/15.1 MB 809.8 kB/s eta 0:00:17\n",
      "   ----- ---------------------------------- 2.1/15.1 MB 809.8 kB/s eta 0:00:17\n",
      "   ------ --------------------------------- 2.4/15.1 MB 583.5 kB/s eta 0:00:22\n",
      "   ------ --------------------------------- 2.4/15.1 MB 583.5 kB/s eta 0:00:22\n",
      "   ------ --------------------------------- 2.4/15.1 MB 583.5 kB/s eta 0:00:22\n",
      "   ------ --------------------------------- 2.4/15.1 MB 583.5 kB/s eta 0:00:22\n",
      "   ------ --------------------------------- 2.4/15.1 MB 583.5 kB/s eta 0:00:22\n",
      "   ------ --------------------------------- 2.6/15.1 MB 511.8 kB/s eta 0:00:25\n",
      "   ------ --------------------------------- 2.6/15.1 MB 511.8 kB/s eta 0:00:25\n",
      "   ------ --------------------------------- 2.6/15.1 MB 511.8 kB/s eta 0:00:25\n",
      "   ------ --------------------------------- 2.6/15.1 MB 511.8 kB/s eta 0:00:25\n",
      "   ------ --------------------------------- 2.6/15.1 MB 511.8 kB/s eta 0:00:25\n",
      "   ------- -------------------------------- 2.9/15.1 MB 457.1 kB/s eta 0:00:27\n",
      "   -------- ------------------------------- 3.1/15.1 MB 485.6 kB/s eta 0:00:25\n",
      "   --------- ------------------------------ 3.4/15.1 MB 510.9 kB/s eta 0:00:23\n",
      "   --------- ------------------------------ 3.7/15.1 MB 535.8 kB/s eta 0:00:22\n",
      "   ---------- ----------------------------- 3.9/15.1 MB 568.6 kB/s eta 0:00:20\n",
      "   ---------- ----------------------------- 3.9/15.1 MB 568.6 kB/s eta 0:00:20\n",
      "   ---------- ----------------------------- 3.9/15.1 MB 568.6 kB/s eta 0:00:20\n",
      "   ---------- ----------------------------- 3.9/15.1 MB 568.6 kB/s eta 0:00:20\n",
      "   ---------- ----------------------------- 3.9/15.1 MB 568.6 kB/s eta 0:00:20\n",
      "   ---------- ----------------------------- 3.9/15.1 MB 568.6 kB/s eta 0:00:20\n",
      "   ----------- ---------------------------- 4.2/15.1 MB 497.3 kB/s eta 0:00:22\n",
      "   ----------- ---------------------------- 4.5/15.1 MB 517.2 kB/s eta 0:00:21\n",
      "   ----------- ---------------------------- 4.5/15.1 MB 517.2 kB/s eta 0:00:21\n",
      "   ----------- ---------------------------- 4.5/15.1 MB 517.2 kB/s eta 0:00:21\n",
      "   ----------- ---------------------------- 4.5/15.1 MB 517.2 kB/s eta 0:00:21\n",
      "   ----------- ---------------------------- 4.5/15.1 MB 517.2 kB/s eta 0:00:21\n",
      "   ----------- ---------------------------- 4.5/15.1 MB 517.2 kB/s eta 0:00:21\n",
      "   ----------- ---------------------------- 4.5/15.1 MB 517.2 kB/s eta 0:00:21\n",
      "   ------------ --------------------------- 4.7/15.1 MB 466.8 kB/s eta 0:00:23\n",
      "   ------------ --------------------------- 4.7/15.1 MB 466.8 kB/s eta 0:00:23\n",
      "   ------------ --------------------------- 4.7/15.1 MB 466.8 kB/s eta 0:00:23\n",
      "   ------------ --------------------------- 4.7/15.1 MB 466.8 kB/s eta 0:00:23\n",
      "   ------------- -------------------------- 5.0/15.1 MB 460.4 kB/s eta 0:00:23\n",
      "   ------------- -------------------------- 5.0/15.1 MB 460.4 kB/s eta 0:00:23\n",
      "   ------------- -------------------------- 5.2/15.1 MB 458.6 kB/s eta 0:00:22\n",
      "   -------------- ------------------------- 5.5/15.1 MB 473.9 kB/s eta 0:00:21\n",
      "   --------------- ------------------------ 6.0/15.1 MB 511.2 kB/s eta 0:00:18\n",
      "   ---------------- ----------------------- 6.3/15.1 MB 525.7 kB/s eta 0:00:17\n",
      "   ----------------- ---------------------- 6.6/15.1 MB 543.4 kB/s eta 0:00:16\n",
      "   ------------------ --------------------- 7.1/15.1 MB 573.2 kB/s eta 0:00:15\n",
      "   ------------------- -------------------- 7.3/15.1 MB 589.8 kB/s eta 0:00:14\n",
      "   ------------------- -------------------- 7.3/15.1 MB 589.8 kB/s eta 0:00:14\n",
      "   ------------------- -------------------- 7.3/15.1 MB 589.8 kB/s eta 0:00:14\n",
      "   -------------------- ------------------- 7.6/15.1 MB 577.8 kB/s eta 0:00:13\n",
      "   -------------------- ------------------- 7.6/15.1 MB 577.8 kB/s eta 0:00:13\n",
      "   -------------------- ------------------- 7.6/15.1 MB 577.8 kB/s eta 0:00:13\n",
      "   -------------------- ------------------- 7.9/15.1 MB 566.4 kB/s eta 0:00:13\n",
      "   ---------------------- ----------------- 8.4/15.1 MB 596.4 kB/s eta 0:00:12\n",
      "   ---------------------- ----------------- 8.7/15.1 MB 610.7 kB/s eta 0:00:11\n",
      "   ---------------------- ----------------- 8.7/15.1 MB 610.7 kB/s eta 0:00:11\n",
      "   ---------------------- ----------------- 8.7/15.1 MB 610.7 kB/s eta 0:00:11\n",
      "   ----------------------- ---------------- 8.9/15.1 MB 598.5 kB/s eta 0:00:11\n",
      "   ------------------------ --------------- 9.4/15.1 MB 625.3 kB/s eta 0:00:10\n",
      "   -------------------------- ------------- 10.0/15.1 MB 652.1 kB/s eta 0:00:08\n",
      "   --------------------------- ------------ 10.5/15.1 MB 678.0 kB/s eta 0:00:07\n",
      "   ----------------------------- ---------- 11.3/15.1 MB 721.2 kB/s eta 0:00:06\n",
      "   ------------------------------- -------- 12.1/15.1 MB 762.6 kB/s eta 0:00:05\n",
      "   ---------------------------------- ----- 13.1/15.1 MB 818.8 kB/s eta 0:00:03\n",
      "   ------------------------------------- -- 14.2/15.1 MB 869.2 kB/s eta 0:00:02\n",
      "   ---------------------------------------  14.9/15.1 MB 912.1 kB/s eta 0:00:01\n",
      "   ---------------------------------------- 15.1/15.1 MB 916.5 kB/s eta 0:00:00\n",
      "Downloading importlib_resources-6.5.2-py3-none-any.whl (37 kB)\n",
      "Installing collected packages: importlib-resources, sweetviz\n",
      "Successfully installed importlib-resources-6.5.2 sweetviz-2.3.1\n",
      "Note: you may need to restart the kernel to use updated packages.\n"
     ]
    }
   ],
   "source": [
    "pip install sweetviz"
   ]
  },
  {
   "cell_type": "code",
   "execution_count": 184,
   "id": "22299937-12ee-4748-a653-2aaa360847f8",
   "metadata": {},
   "outputs": [
    {
     "data": {
      "application/vnd.jupyter.widget-view+json": {
       "model_id": "a0d38a5a36314d9f82abeb3f71e087e3",
       "version_major": 2,
       "version_minor": 0
      },
      "text/plain": [
       "                                             |          | [  0%]   00:00 -> (? left)"
      ]
     },
     "metadata": {},
     "output_type": "display_data"
    },
    {
     "name": "stdout",
     "output_type": "stream",
     "text": [
      "Report eda_report.html was generated! NOTEBOOK/COLAB USERS: the web browser MAY not pop up, regardless, the report IS saved in your notebook/colab files.\n",
      "Report SWEETVIZ_REPORT.html was generated! NOTEBOOK/COLAB USERS: the web browser MAY not pop up, regardless, the report IS saved in your notebook/colab files.\n"
     ]
    }
   ],
   "source": [
    "import sweetviz as sv\n",
    "import pandas as pd\n",
    "\n",
    "df = pd.read_csv((r'C:\\Users\\USER\\Desktop\\Son Yarıyıl\\Python ile Veri Analizi\\marmara_faults_earthquakes_2000_2025.csv')) \n",
    "report = sv.analyze(df)\n",
    "\n",
    "report.show_html('eda_report.html')  # Bu, analiz raporunu bir HTML dosyasına kaydeder\n",
    "\n",
    "report.show_html()"
   ]
  },
  {
   "cell_type": "markdown",
   "id": "5ba9a5e4-c5db-413d-b9c6-975de7075d11",
   "metadata": {},
   "source": [
    "##### 64-) Python summarytools Kütüphanesini Keşifsel Veri Analizi yapmak için kullanınız.  "
   ]
  },
  {
   "cell_type": "code",
   "execution_count": 186,
   "id": "9749b77e-4324-447c-989f-0826156edc0e",
   "metadata": {},
   "outputs": [
    {
     "name": "stdout",
     "output_type": "stream",
     "text": [
      "Collecting summarytools\n",
      "  Downloading summarytools-0.3.0-py3-none-any.whl.metadata (3.5 kB)\n",
      "Requirement already satisfied: pandas>=1.4.0 in c:\\users\\user\\anaconda3\\lib\\site-packages (from summarytools) (2.2.2)\n",
      "Requirement already satisfied: ipython>=7.20.0 in c:\\users\\user\\anaconda3\\lib\\site-packages (from summarytools) (8.27.0)\n",
      "Requirement already satisfied: numpy>=1.18.5 in c:\\users\\user\\anaconda3\\lib\\site-packages (from summarytools) (1.26.4)\n",
      "Requirement already satisfied: matplotlib>=3.3.0 in c:\\users\\user\\anaconda3\\lib\\site-packages (from summarytools) (3.9.2)\n",
      "Requirement already satisfied: decorator in c:\\users\\user\\anaconda3\\lib\\site-packages (from ipython>=7.20.0->summarytools) (5.1.1)\n",
      "Requirement already satisfied: jedi>=0.16 in c:\\users\\user\\anaconda3\\lib\\site-packages (from ipython>=7.20.0->summarytools) (0.19.1)\n",
      "Requirement already satisfied: matplotlib-inline in c:\\users\\user\\anaconda3\\lib\\site-packages (from ipython>=7.20.0->summarytools) (0.1.6)\n",
      "Requirement already satisfied: prompt-toolkit<3.1.0,>=3.0.41 in c:\\users\\user\\anaconda3\\lib\\site-packages (from ipython>=7.20.0->summarytools) (3.0.43)\n",
      "Requirement already satisfied: pygments>=2.4.0 in c:\\users\\user\\anaconda3\\lib\\site-packages (from ipython>=7.20.0->summarytools) (2.15.1)\n",
      "Requirement already satisfied: stack-data in c:\\users\\user\\anaconda3\\lib\\site-packages (from ipython>=7.20.0->summarytools) (0.2.0)\n",
      "Requirement already satisfied: traitlets>=5.13.0 in c:\\users\\user\\anaconda3\\lib\\site-packages (from ipython>=7.20.0->summarytools) (5.14.3)\n",
      "Requirement already satisfied: colorama in c:\\users\\user\\anaconda3\\lib\\site-packages (from ipython>=7.20.0->summarytools) (0.4.6)\n",
      "Requirement already satisfied: contourpy>=1.0.1 in c:\\users\\user\\anaconda3\\lib\\site-packages (from matplotlib>=3.3.0->summarytools) (1.2.0)\n",
      "Requirement already satisfied: cycler>=0.10 in c:\\users\\user\\anaconda3\\lib\\site-packages (from matplotlib>=3.3.0->summarytools) (0.11.0)\n",
      "Requirement already satisfied: fonttools>=4.22.0 in c:\\users\\user\\anaconda3\\lib\\site-packages (from matplotlib>=3.3.0->summarytools) (4.51.0)\n",
      "Requirement already satisfied: kiwisolver>=1.3.1 in c:\\users\\user\\anaconda3\\lib\\site-packages (from matplotlib>=3.3.0->summarytools) (1.4.4)\n",
      "Requirement already satisfied: packaging>=20.0 in c:\\users\\user\\anaconda3\\lib\\site-packages (from matplotlib>=3.3.0->summarytools) (24.1)\n",
      "Requirement already satisfied: pillow>=8 in c:\\users\\user\\anaconda3\\lib\\site-packages (from matplotlib>=3.3.0->summarytools) (10.4.0)\n",
      "Requirement already satisfied: pyparsing>=2.3.1 in c:\\users\\user\\anaconda3\\lib\\site-packages (from matplotlib>=3.3.0->summarytools) (3.1.2)\n",
      "Requirement already satisfied: python-dateutil>=2.7 in c:\\users\\user\\anaconda3\\lib\\site-packages (from matplotlib>=3.3.0->summarytools) (2.9.0.post0)\n",
      "Requirement already satisfied: pytz>=2020.1 in c:\\users\\user\\anaconda3\\lib\\site-packages (from pandas>=1.4.0->summarytools) (2024.1)\n",
      "Requirement already satisfied: tzdata>=2022.7 in c:\\users\\user\\anaconda3\\lib\\site-packages (from pandas>=1.4.0->summarytools) (2023.3)\n",
      "Requirement already satisfied: parso<0.9.0,>=0.8.3 in c:\\users\\user\\anaconda3\\lib\\site-packages (from jedi>=0.16->ipython>=7.20.0->summarytools) (0.8.3)\n",
      "Requirement already satisfied: wcwidth in c:\\users\\user\\anaconda3\\lib\\site-packages (from prompt-toolkit<3.1.0,>=3.0.41->ipython>=7.20.0->summarytools) (0.2.5)\n",
      "Requirement already satisfied: six>=1.5 in c:\\users\\user\\anaconda3\\lib\\site-packages (from python-dateutil>=2.7->matplotlib>=3.3.0->summarytools) (1.16.0)\n",
      "Requirement already satisfied: executing in c:\\users\\user\\anaconda3\\lib\\site-packages (from stack-data->ipython>=7.20.0->summarytools) (0.8.3)\n",
      "Requirement already satisfied: asttokens in c:\\users\\user\\anaconda3\\lib\\site-packages (from stack-data->ipython>=7.20.0->summarytools) (2.0.5)\n",
      "Requirement already satisfied: pure-eval in c:\\users\\user\\anaconda3\\lib\\site-packages (from stack-data->ipython>=7.20.0->summarytools) (0.2.2)\n",
      "Downloading summarytools-0.3.0-py3-none-any.whl (12 kB)\n",
      "Installing collected packages: summarytools\n",
      "Successfully installed summarytools-0.3.0\n",
      "Note: you may need to restart the kernel to use updated packages.\n"
     ]
    }
   ],
   "source": [
    "pip install summarytools"
   ]
  },
  {
   "cell_type": "code",
   "execution_count": 190,
   "id": "9261c2bd-742c-448f-a462-3b8d583b4547",
   "metadata": {},
   "outputs": [
    {
     "name": "stdout",
     "output_type": "stream",
     "text": [
      "<pandas.io.formats.style.Styler object at 0x000002673ADB2360>\n"
     ]
    }
   ],
   "source": [
    "import summarytools as st\n",
    "import pandas as pd\n",
    "\n",
    "df = pd.read_csv(r'C:\\Users\\USER\\Desktop\\Son Yarıyıl\\Python ile Veri Analizi\\marmara_faults_earthquakes_2000_2025.csv')  \n",
    "\n",
    "df_summary = st.dfSummary(df)\n",
    "\n",
    "print(df_summary)\n",
    "\n",
    "df_summary.to_html('summary_report.html')\n"
   ]
  },
  {
   "cell_type": "markdown",
   "id": "cb6b2a87-b616-483b-a7fb-e7b77f7ea4b2",
   "metadata": {},
   "source": [
    "##### 66-) DASK kütüphanesini kullanınız. "
   ]
  },
  {
   "cell_type": "code",
   "execution_count": 192,
   "id": "dcadae04-1e62-48c7-baaa-8105efd8b427",
   "metadata": {},
   "outputs": [
    {
     "name": "stdout",
     "output_type": "stream",
     "text": [
      "Requirement already satisfied: dask in c:\\users\\user\\anaconda3\\lib\\site-packages (2024.8.2)\n",
      "Requirement already satisfied: click>=8.1 in c:\\users\\user\\anaconda3\\lib\\site-packages (from dask) (8.1.7)\n",
      "Requirement already satisfied: cloudpickle>=3.0.0 in c:\\users\\user\\anaconda3\\lib\\site-packages (from dask) (3.0.0)\n",
      "Requirement already satisfied: fsspec>=2021.09.0 in c:\\users\\user\\anaconda3\\lib\\site-packages (from dask) (2024.6.1)\n",
      "Requirement already satisfied: packaging>=20.0 in c:\\users\\user\\anaconda3\\lib\\site-packages (from dask) (24.1)\n",
      "Requirement already satisfied: partd>=1.4.0 in c:\\users\\user\\anaconda3\\lib\\site-packages (from dask) (1.4.1)\n",
      "Requirement already satisfied: pyyaml>=5.3.1 in c:\\users\\user\\anaconda3\\lib\\site-packages (from dask) (6.0.1)\n",
      "Requirement already satisfied: toolz>=0.10.0 in c:\\users\\user\\anaconda3\\lib\\site-packages (from dask) (0.12.0)\n",
      "Requirement already satisfied: colorama in c:\\users\\user\\anaconda3\\lib\\site-packages (from click>=8.1->dask) (0.4.6)\n",
      "Requirement already satisfied: locket in c:\\users\\user\\anaconda3\\lib\\site-packages (from partd>=1.4.0->dask) (1.0.0)\n",
      "Note: you may need to restart the kernel to use updated packages.\n"
     ]
    }
   ],
   "source": [
    "pip install dask\n"
   ]
  },
  {
   "cell_type": "code",
   "execution_count": 194,
   "id": "015bbd32-5e0c-428f-8f7a-1b751945f7b2",
   "metadata": {},
   "outputs": [
    {
     "data": {
      "text/html": [
       "<div>\n",
       "<style scoped>\n",
       "    .dataframe tbody tr th:only-of-type {\n",
       "        vertical-align: middle;\n",
       "    }\n",
       "\n",
       "    .dataframe tbody tr th {\n",
       "        vertical-align: top;\n",
       "    }\n",
       "\n",
       "    .dataframe thead th {\n",
       "        text-align: right;\n",
       "    }\n",
       "</style>\n",
       "<table border=\"1\" class=\"dataframe\">\n",
       "  <thead>\n",
       "    <tr style=\"text-align: right;\">\n",
       "      <th></th>\n",
       "      <th>Date</th>\n",
       "      <th>Latitude</th>\n",
       "      <th>Longitude</th>\n",
       "      <th>Depth_km</th>\n",
       "      <th>Magnitude_ML</th>\n",
       "      <th>Location</th>\n",
       "      <th>Nearest_Fault</th>\n",
       "      <th>Fault_Length_km</th>\n",
       "      <th>Fault_Width_m</th>\n",
       "      <th>Fault_Depth_m</th>\n",
       "      <th>...</th>\n",
       "      <th>Slip_Rate_mm_per_yr</th>\n",
       "      <th>Max_Surface_Slip_m</th>\n",
       "      <th>Recurrence_Interval_yr</th>\n",
       "      <th>Last_Event_Year</th>\n",
       "      <th>Last_Event_Mw</th>\n",
       "      <th>Elapsed_Time_yr</th>\n",
       "      <th>Slip_Deficit_m</th>\n",
       "      <th>Normalized_Slip_m_per_km</th>\n",
       "      <th>Moment_Potential_Nm</th>\n",
       "      <th>Mw_Potential</th>\n",
       "    </tr>\n",
       "  </thead>\n",
       "  <tbody>\n",
       "    <tr>\n",
       "      <th>0</th>\n",
       "      <td>2025-04-23</td>\n",
       "      <td>40.8394</td>\n",
       "      <td>28.4000</td>\n",
       "      <td>15.05</td>\n",
       "      <td>2.5</td>\n",
       "      <td>Marmara Denizi - [20.67 km] Büyükçekmece (İsta...</td>\n",
       "      <td>Kuzey Anadolu Fay Zonu</td>\n",
       "      <td>10.0</td>\n",
       "      <td>2.0</td>\n",
       "      <td>3.0</td>\n",
       "      <td>...</td>\n",
       "      <td>7.5</td>\n",
       "      <td>5.0</td>\n",
       "      <td>550.0</td>\n",
       "      <td>1999.0</td>\n",
       "      <td>7.4</td>\n",
       "      <td>26.0</td>\n",
       "      <td>0.195</td>\n",
       "      <td>0.004167</td>\n",
       "      <td>1.053000e+20</td>\n",
       "      <td>2.648286</td>\n",
       "    </tr>\n",
       "    <tr>\n",
       "      <th>1</th>\n",
       "      <td>2025-04-23</td>\n",
       "      <td>40.8442</td>\n",
       "      <td>28.3108</td>\n",
       "      <td>5.23</td>\n",
       "      <td>2.6</td>\n",
       "      <td>Marmara Denizi - [24.05 km] Büyükçekmece (İsta...</td>\n",
       "      <td>Kuzey Anadolu Fay Zonu</td>\n",
       "      <td>10.0</td>\n",
       "      <td>2.0</td>\n",
       "      <td>3.0</td>\n",
       "      <td>...</td>\n",
       "      <td>7.5</td>\n",
       "      <td>5.0</td>\n",
       "      <td>550.0</td>\n",
       "      <td>1999.0</td>\n",
       "      <td>7.4</td>\n",
       "      <td>26.0</td>\n",
       "      <td>0.195</td>\n",
       "      <td>0.004167</td>\n",
       "      <td>1.053000e+20</td>\n",
       "      <td>2.648286</td>\n",
       "    </tr>\n",
       "    <tr>\n",
       "      <th>2</th>\n",
       "      <td>2025-04-23</td>\n",
       "      <td>40.8353</td>\n",
       "      <td>28.3511</td>\n",
       "      <td>6.97</td>\n",
       "      <td>2.0</td>\n",
       "      <td>Marmara Denizi - [22.91 km] Büyükçekmece (İsta...</td>\n",
       "      <td>Kuzey Anadolu Fay Zonu</td>\n",
       "      <td>10.0</td>\n",
       "      <td>2.0</td>\n",
       "      <td>3.0</td>\n",
       "      <td>...</td>\n",
       "      <td>7.5</td>\n",
       "      <td>5.0</td>\n",
       "      <td>550.0</td>\n",
       "      <td>1999.0</td>\n",
       "      <td>7.4</td>\n",
       "      <td>26.0</td>\n",
       "      <td>0.195</td>\n",
       "      <td>0.004167</td>\n",
       "      <td>1.053000e+20</td>\n",
       "      <td>2.648286</td>\n",
       "    </tr>\n",
       "    <tr>\n",
       "      <th>3</th>\n",
       "      <td>2025-04-23</td>\n",
       "      <td>40.8567</td>\n",
       "      <td>28.3014</td>\n",
       "      <td>14.58</td>\n",
       "      <td>3.5</td>\n",
       "      <td>Marmara Denizi - [23.07 km] Silivri (İstanbul)</td>\n",
       "      <td>Kuzey Anadolu Fay Zonu</td>\n",
       "      <td>10.0</td>\n",
       "      <td>2.0</td>\n",
       "      <td>3.0</td>\n",
       "      <td>...</td>\n",
       "      <td>7.5</td>\n",
       "      <td>5.0</td>\n",
       "      <td>550.0</td>\n",
       "      <td>1999.0</td>\n",
       "      <td>7.4</td>\n",
       "      <td>26.0</td>\n",
       "      <td>0.195</td>\n",
       "      <td>0.004167</td>\n",
       "      <td>1.053000e+20</td>\n",
       "      <td>2.648286</td>\n",
       "    </tr>\n",
       "    <tr>\n",
       "      <th>4</th>\n",
       "      <td>2025-04-23</td>\n",
       "      <td>40.8467</td>\n",
       "      <td>28.4094</td>\n",
       "      <td>8.33</td>\n",
       "      <td>2.8</td>\n",
       "      <td>Marmara Denizi - [19.63 km] Büyükçekmece (İsta...</td>\n",
       "      <td>Kuzey Anadolu Fay Zonu</td>\n",
       "      <td>10.0</td>\n",
       "      <td>2.0</td>\n",
       "      <td>3.0</td>\n",
       "      <td>...</td>\n",
       "      <td>7.5</td>\n",
       "      <td>5.0</td>\n",
       "      <td>550.0</td>\n",
       "      <td>1999.0</td>\n",
       "      <td>7.4</td>\n",
       "      <td>26.0</td>\n",
       "      <td>0.195</td>\n",
       "      <td>0.004167</td>\n",
       "      <td>1.053000e+20</td>\n",
       "      <td>2.648286</td>\n",
       "    </tr>\n",
       "  </tbody>\n",
       "</table>\n",
       "<p>5 rows × 23 columns</p>\n",
       "</div>"
      ],
      "text/plain": [
       "         Date  Latitude  Longitude  Depth_km  Magnitude_ML  \\\n",
       "0  2025-04-23   40.8394    28.4000     15.05           2.5   \n",
       "1  2025-04-23   40.8442    28.3108      5.23           2.6   \n",
       "2  2025-04-23   40.8353    28.3511      6.97           2.0   \n",
       "3  2025-04-23   40.8567    28.3014     14.58           3.5   \n",
       "4  2025-04-23   40.8467    28.4094      8.33           2.8   \n",
       "\n",
       "                                            Location           Nearest_Fault  \\\n",
       "0  Marmara Denizi - [20.67 km] Büyükçekmece (İsta...  Kuzey Anadolu Fay Zonu   \n",
       "1  Marmara Denizi - [24.05 km] Büyükçekmece (İsta...  Kuzey Anadolu Fay Zonu   \n",
       "2  Marmara Denizi - [22.91 km] Büyükçekmece (İsta...  Kuzey Anadolu Fay Zonu   \n",
       "3     Marmara Denizi - [23.07 km] Silivri (İstanbul)  Kuzey Anadolu Fay Zonu   \n",
       "4  Marmara Denizi - [19.63 km] Büyükçekmece (İsta...  Kuzey Anadolu Fay Zonu   \n",
       "\n",
       "   Fault_Length_km  Fault_Width_m  Fault_Depth_m  ... Slip_Rate_mm_per_yr  \\\n",
       "0             10.0            2.0            3.0  ...                 7.5   \n",
       "1             10.0            2.0            3.0  ...                 7.5   \n",
       "2             10.0            2.0            3.0  ...                 7.5   \n",
       "3             10.0            2.0            3.0  ...                 7.5   \n",
       "4             10.0            2.0            3.0  ...                 7.5   \n",
       "\n",
       "   Max_Surface_Slip_m  Recurrence_Interval_yr  Last_Event_Year  Last_Event_Mw  \\\n",
       "0                 5.0                   550.0           1999.0            7.4   \n",
       "1                 5.0                   550.0           1999.0            7.4   \n",
       "2                 5.0                   550.0           1999.0            7.4   \n",
       "3                 5.0                   550.0           1999.0            7.4   \n",
       "4                 5.0                   550.0           1999.0            7.4   \n",
       "\n",
       "   Elapsed_Time_yr  Slip_Deficit_m  Normalized_Slip_m_per_km  \\\n",
       "0             26.0           0.195                  0.004167   \n",
       "1             26.0           0.195                  0.004167   \n",
       "2             26.0           0.195                  0.004167   \n",
       "3             26.0           0.195                  0.004167   \n",
       "4             26.0           0.195                  0.004167   \n",
       "\n",
       "   Moment_Potential_Nm  Mw_Potential  \n",
       "0         1.053000e+20      2.648286  \n",
       "1         1.053000e+20      2.648286  \n",
       "2         1.053000e+20      2.648286  \n",
       "3         1.053000e+20      2.648286  \n",
       "4         1.053000e+20      2.648286  \n",
       "\n",
       "[5 rows x 23 columns]"
      ]
     },
     "execution_count": 194,
     "metadata": {},
     "output_type": "execute_result"
    }
   ],
   "source": [
    "import dask.dataframe as dd\n",
    "\n",
    "# Dask ile CSV dosyasını yükleyelim\n",
    "df = dd.read_csv(r'C:\\Users\\USER\\Desktop\\Son Yarıyıl\\Python ile Veri Analizi\\marmara_faults_earthquakes_2000_2025.csv')\n",
    "\n",
    "df.head()"
   ]
  },
  {
   "cell_type": "markdown",
   "id": "1573a1cc-3c8a-41ae-9326-8b869e146ed9",
   "metadata": {},
   "source": [
    "##### 70-) datacleaner kütüphanesini kullanınız. "
   ]
  },
  {
   "cell_type": "code",
   "execution_count": 212,
   "id": "54dbbe63-c8bd-4e15-a370-4eb37b302fc2",
   "metadata": {},
   "outputs": [
    {
     "name": "stdout",
     "output_type": "stream",
     "text": [
      "Collecting datacleaner\n",
      "  Downloading datacleaner-0.1.5.tar.gz (6.5 kB)\n",
      "  Preparing metadata (setup.py): started\n",
      "  Preparing metadata (setup.py): finished with status 'done'\n",
      "Requirement already satisfied: pandas in c:\\users\\user\\anaconda3\\lib\\site-packages (from datacleaner) (2.2.2)\n",
      "Requirement already satisfied: scikit-learn in c:\\users\\user\\anaconda3\\lib\\site-packages (from datacleaner) (1.5.1)\n",
      "Collecting update_checker (from datacleaner)\n",
      "  Downloading update_checker-0.18.0-py3-none-any.whl.metadata (2.3 kB)\n",
      "Requirement already satisfied: numpy>=1.26.0 in c:\\users\\user\\anaconda3\\lib\\site-packages (from pandas->datacleaner) (1.26.4)\n",
      "Requirement already satisfied: python-dateutil>=2.8.2 in c:\\users\\user\\anaconda3\\lib\\site-packages (from pandas->datacleaner) (2.9.0.post0)\n",
      "Requirement already satisfied: pytz>=2020.1 in c:\\users\\user\\anaconda3\\lib\\site-packages (from pandas->datacleaner) (2024.1)\n",
      "Requirement already satisfied: tzdata>=2022.7 in c:\\users\\user\\anaconda3\\lib\\site-packages (from pandas->datacleaner) (2023.3)\n",
      "Requirement already satisfied: scipy>=1.6.0 in c:\\users\\user\\anaconda3\\lib\\site-packages (from scikit-learn->datacleaner) (1.13.1)\n",
      "Requirement already satisfied: joblib>=1.2.0 in c:\\users\\user\\anaconda3\\lib\\site-packages (from scikit-learn->datacleaner) (1.4.2)\n",
      "Requirement already satisfied: threadpoolctl>=3.1.0 in c:\\users\\user\\anaconda3\\lib\\site-packages (from scikit-learn->datacleaner) (3.5.0)\n",
      "Requirement already satisfied: requests>=2.3.0 in c:\\users\\user\\anaconda3\\lib\\site-packages (from update_checker->datacleaner) (2.32.3)\n",
      "Requirement already satisfied: six>=1.5 in c:\\users\\user\\anaconda3\\lib\\site-packages (from python-dateutil>=2.8.2->pandas->datacleaner) (1.16.0)\n",
      "Requirement already satisfied: charset-normalizer<4,>=2 in c:\\users\\user\\anaconda3\\lib\\site-packages (from requests>=2.3.0->update_checker->datacleaner) (3.3.2)\n",
      "Requirement already satisfied: idna<4,>=2.5 in c:\\users\\user\\anaconda3\\lib\\site-packages (from requests>=2.3.0->update_checker->datacleaner) (3.7)\n",
      "Requirement already satisfied: urllib3<3,>=1.21.1 in c:\\users\\user\\anaconda3\\lib\\site-packages (from requests>=2.3.0->update_checker->datacleaner) (2.2.3)\n",
      "Requirement already satisfied: certifi>=2017.4.17 in c:\\users\\user\\anaconda3\\lib\\site-packages (from requests>=2.3.0->update_checker->datacleaner) (2025.1.31)\n",
      "Downloading update_checker-0.18.0-py3-none-any.whl (7.0 kB)\n",
      "Building wheels for collected packages: datacleaner\n",
      "  Building wheel for datacleaner (setup.py): started\n",
      "  Building wheel for datacleaner (setup.py): finished with status 'done'\n",
      "  Created wheel for datacleaner: filename=datacleaner-0.1.5-py3-none-any.whl size=7420 sha256=f17c194cd8a7acbfb99f1c27347172b0cbc9ebc6025fab166e1d4a860c6dabc2\n",
      "  Stored in directory: c:\\users\\user\\appdata\\local\\pip\\cache\\wheels\\24\\00\\d1\\e25f165c81e89905f3b8d50d27cc7d6de54b0679757710d7eb\n",
      "Successfully built datacleaner\n",
      "Installing collected packages: update_checker, datacleaner\n",
      "Successfully installed datacleaner-0.1.5 update_checker-0.18.0\n",
      "Note: you may need to restart the kernel to use updated packages.\n"
     ]
    }
   ],
   "source": [
    "pip install datacleaner"
   ]
  },
  {
   "cell_type": "code",
   "execution_count": 218,
   "id": "5e9ac80c-0b4d-48fc-94d3-a7e2598a3c3d",
   "metadata": {},
   "outputs": [
    {
     "name": "stdout",
     "output_type": "stream",
     "text": [
      "   Date  Latitude  Longitude  Depth_km  Magnitude_ML  Location  Nearest_Fault  \\\n",
      "0  5988   40.8394    28.4000     15.05           2.5      4453              3   \n",
      "1  5988   40.8442    28.3108      5.23           2.6      4748              3   \n",
      "2  5988   40.8353    28.3511      6.97           2.0      4655              3   \n",
      "3  5988   40.8567    28.3014     14.58           3.5      4673              3   \n",
      "4  5988   40.8467    28.4094      8.33           2.8      4330              3   \n",
      "\n",
      "   Fault_Length_km  Fault_Width_m  Fault_Depth_m  ...  Slip_Rate_mm_per_yr  \\\n",
      "0             10.0            2.0            3.0  ...                  7.5   \n",
      "1             10.0            2.0            3.0  ...                  7.5   \n",
      "2             10.0            2.0            3.0  ...                  7.5   \n",
      "3             10.0            2.0            3.0  ...                  7.5   \n",
      "4             10.0            2.0            3.0  ...                  7.5   \n",
      "\n",
      "   Max_Surface_Slip_m  Recurrence_Interval_yr  Last_Event_Year  Last_Event_Mw  \\\n",
      "0                 5.0                   550.0           1999.0            7.4   \n",
      "1                 5.0                   550.0           1999.0            7.4   \n",
      "2                 5.0                   550.0           1999.0            7.4   \n",
      "3                 5.0                   550.0           1999.0            7.4   \n",
      "4                 5.0                   550.0           1999.0            7.4   \n",
      "\n",
      "   Elapsed_Time_yr  Slip_Deficit_m  Normalized_Slip_m_per_km  \\\n",
      "0             26.0           0.195                  0.004167   \n",
      "1             26.0           0.195                  0.004167   \n",
      "2             26.0           0.195                  0.004167   \n",
      "3             26.0           0.195                  0.004167   \n",
      "4             26.0           0.195                  0.004167   \n",
      "\n",
      "   Moment_Potential_Nm  Mw_Potential  \n",
      "0         1.053000e+20      2.648286  \n",
      "1         1.053000e+20      2.648286  \n",
      "2         1.053000e+20      2.648286  \n",
      "3         1.053000e+20      2.648286  \n",
      "4         1.053000e+20      2.648286  \n",
      "\n",
      "[5 rows x 23 columns]\n"
     ]
    },
    {
     "name": "stderr",
     "output_type": "stream",
     "text": [
      "C:\\Users\\USER\\anaconda3\\Lib\\site-packages\\datacleaner\\datacleaner.py:77: FutureWarning: A value is trying to be set on a copy of a DataFrame or Series through chained assignment using an inplace method.\n",
      "The behavior will change in pandas 3.0. This inplace method will never work because the intermediate object on which we are setting values always behaves as a copy.\n",
      "\n",
      "For example, when doing 'df[col].method(value, inplace=True)', try using 'df.method({col: value}, inplace=True)' or df[col] = df[col].method(value) instead, to perform the operation inplace on the original object.\n",
      "\n",
      "\n",
      "  input_dataframe[column].fillna(input_dataframe[column].median(), inplace=True)\n",
      "C:\\Users\\USER\\anaconda3\\Lib\\site-packages\\datacleaner\\datacleaner.py:77: FutureWarning: A value is trying to be set on a copy of a DataFrame or Series through chained assignment using an inplace method.\n",
      "The behavior will change in pandas 3.0. This inplace method will never work because the intermediate object on which we are setting values always behaves as a copy.\n",
      "\n",
      "For example, when doing 'df[col].method(value, inplace=True)', try using 'df.method({col: value}, inplace=True)' or df[col] = df[col].method(value) instead, to perform the operation inplace on the original object.\n",
      "\n",
      "\n",
      "  input_dataframe[column].fillna(input_dataframe[column].median(), inplace=True)\n",
      "C:\\Users\\USER\\anaconda3\\Lib\\site-packages\\datacleaner\\datacleaner.py:77: FutureWarning: A value is trying to be set on a copy of a DataFrame or Series through chained assignment using an inplace method.\n",
      "The behavior will change in pandas 3.0. This inplace method will never work because the intermediate object on which we are setting values always behaves as a copy.\n",
      "\n",
      "For example, when doing 'df[col].method(value, inplace=True)', try using 'df.method({col: value}, inplace=True)' or df[col] = df[col].method(value) instead, to perform the operation inplace on the original object.\n",
      "\n",
      "\n",
      "  input_dataframe[column].fillna(input_dataframe[column].median(), inplace=True)\n"
     ]
    }
   ],
   "source": [
    "import pandas as pd\n",
    "from datacleaner import autoclean  # clean değil, doğru fonksiyon adı: autoclean\n",
    "\n",
    "# CSV dosyasını oku\n",
    "df = pd.read_csv(r'C:\\Users\\USER\\Desktop\\Son Yarıyıl\\Python ile Veri Analizi\\marmara_faults_earthquakes_2000_2025.csv')\n",
    "\n",
    "# Otomatik veri temizleme\n",
    "cleaned_df = autoclean(df)\n",
    "\n",
    "# Temizlenmiş veriyi görüntüle\n",
    "print(cleaned_df.head())"
   ]
  },
  {
   "cell_type": "markdown",
   "id": "a627cce4-8ed1-4219-b180-8b633d6ef781",
   "metadata": {},
   "source": [
    "##### 71-) Data wrangling(data munging) işlemi yapınız. "
   ]
  },
  {
   "cell_type": "code",
   "execution_count": 220,
   "id": "d4b319ab-a82f-42c5-92ff-bc6dace83594",
   "metadata": {},
   "outputs": [
    {
     "name": "stdout",
     "output_type": "stream",
     "text": [
      "                           Date       Coordinates  Magnitude_ML  \\\n",
      "0 1970-01-01 00:00:00.000005988     40.8394, 28.4           2.5   \n",
      "1 1970-01-01 00:00:00.000005988  40.8442, 28.3108           2.6   \n",
      "2 1970-01-01 00:00:00.000005988  40.8353, 28.3511           2.0   \n",
      "3 1970-01-01 00:00:00.000005988  40.8567, 28.3014           3.5   \n",
      "4 1970-01-01 00:00:00.000005988  40.8467, 28.4094           2.8   \n",
      "\n",
      "  Magnitude_Category  \n",
      "0                Low  \n",
      "1                Low  \n",
      "2                Low  \n",
      "3           Moderate  \n",
      "4                Low  \n"
     ]
    }
   ],
   "source": [
    "import pandas as pd\n",
    "\n",
    "df['Date'] = pd.to_datetime(df['Date'], errors='coerce')\n",
    "\n",
    "df['Coordinates'] = df['Latitude'].astype(str) + ', ' + df['Longitude'].astype(str)\n",
    "\n",
    "df['Magnitude_Category'] = pd.cut(df['Magnitude_ML'],\n",
    "                                  bins=[0, 3, 5, 7, 10],\n",
    "                                  labels=['Low', 'Moderate', 'Strong', 'Major'])\n",
    "\n",
    "print(df[['Date', 'Coordinates', 'Magnitude_ML', 'Magnitude_Category']].head())\n"
   ]
  },
  {
   "cell_type": "markdown",
   "id": "3b4c35df-931a-4fac-bf18-4bd5ea1c2b26",
   "metadata": {},
   "source": [
    "##### 72-) Data cleaning işlemi yapınız. "
   ]
  },
  {
   "cell_type": "code",
   "execution_count": 222,
   "id": "a653fc85-6f40-4570-9504-76889ce54074",
   "metadata": {},
   "outputs": [
    {
     "name": "stdout",
     "output_type": "stream",
     "text": [
      "Date                        0\n",
      "Latitude                    0\n",
      "Longitude                   0\n",
      "Depth_km                    0\n",
      "Magnitude_ML                0\n",
      "Location                    0\n",
      "Nearest_Fault               0\n",
      "Fault_Length_km             0\n",
      "Fault_Width_m               0\n",
      "Fault_Depth_m               0\n",
      "Fault_Type                  0\n",
      "Length_km                   0\n",
      "Seismogenic_Depth_km        0\n",
      "Slip_Rate_mm_per_yr         0\n",
      "Max_Surface_Slip_m          0\n",
      "Recurrence_Interval_yr      0\n",
      "Last_Event_Year             0\n",
      "Last_Event_Mw               0\n",
      "Elapsed_Time_yr             0\n",
      "Slip_Deficit_m              0\n",
      "Normalized_Slip_m_per_km    0\n",
      "Moment_Potential_Nm         0\n",
      "Mw_Potential                0\n",
      "Coordinates                 0\n",
      "Magnitude_Category          0\n",
      "dtype: int64\n",
      "           Depth_km      Latitude     Longitude\n",
      "count  21605.000000  21605.000000  21605.000000\n",
      "mean       8.442685     40.044204     28.334438\n",
      "std        4.407401      0.446887      1.262688\n",
      "min        0.710000     39.500000     26.000000\n",
      "25%        6.940000     39.669500     27.417000\n",
      "50%        7.000000     39.863900     28.789700\n",
      "75%        8.830000     40.410000     29.423900\n",
      "max       83.070000     41.495100     30.500000\n"
     ]
    },
    {
     "name": "stderr",
     "output_type": "stream",
     "text": [
      "C:\\Users\\USER\\AppData\\Local\\Temp\\ipykernel_13884\\1624104080.py:3: FutureWarning: Series.fillna with 'method' is deprecated and will raise in a future version. Use obj.ffill() or obj.bfill() instead.\n",
      "  df['Date'] = df['Date'].fillna(method='ffill')\n"
     ]
    }
   ],
   "source": [
    "print(df.isnull().sum())\n",
    "\n",
    "df['Date'] = df['Date'].fillna(method='ffill')  \n",
    "df = df.dropna(subset=['Latitude', 'Longitude']) \n",
    "\n",
    "df = df[df['Depth_km'] >= 0]\n",
    "\n",
    "print(df[['Depth_km', 'Latitude', 'Longitude']].describe())\n"
   ]
  },
  {
   "cell_type": "markdown",
   "id": "426cc9ea-ebcb-4af4-8e82-726d425582e6",
   "metadata": {},
   "source": [
    "##### 73-) Data cleansing işlemi yapınız."
   ]
  },
  {
   "cell_type": "code",
   "execution_count": 224,
   "id": "29cfe689-3d76-4744-b20f-197da14d5c28",
   "metadata": {},
   "outputs": [
    {
     "name": "stdout",
     "output_type": "stream",
     "text": [
      "                           date  latitude  longitude  depth_km  magnitude_ml  \\\n",
      "0 1970-01-01 00:00:00.000005988   40.8394    28.4000     15.05           2.5   \n",
      "1 1970-01-01 00:00:00.000005988   40.8442    28.3108      5.23           2.6   \n",
      "2 1970-01-01 00:00:00.000005988   40.8353    28.3511      6.97           2.0   \n",
      "3 1970-01-01 00:00:00.000005988   40.8567    28.3014     14.58           3.5   \n",
      "4 1970-01-01 00:00:00.000005988   40.8467    28.4094      8.33           2.8   \n",
      "\n",
      "   location  nearest_fault  fault_length_km  fault_width_m  fault_depth_m  \\\n",
      "0      4453              3             10.0            2.0            3.0   \n",
      "1      4748              3             10.0            2.0            3.0   \n",
      "2      4655              3             10.0            2.0            3.0   \n",
      "3      4673              3             10.0            2.0            3.0   \n",
      "4      4330              3             10.0            2.0            3.0   \n",
      "\n",
      "   ...  recurrence_interval_yr  last_event_year  last_event_mw  \\\n",
      "0  ...                   550.0           1999.0            7.4   \n",
      "1  ...                   550.0           1999.0            7.4   \n",
      "2  ...                   550.0           1999.0            7.4   \n",
      "3  ...                   550.0           1999.0            7.4   \n",
      "4  ...                   550.0           1999.0            7.4   \n",
      "\n",
      "   elapsed_time_yr  slip_deficit_m  normalized_slip_m_per_km  \\\n",
      "0             26.0           0.195                  0.004167   \n",
      "1             26.0           0.195                  0.004167   \n",
      "2             26.0           0.195                  0.004167   \n",
      "3             26.0           0.195                  0.004167   \n",
      "4             26.0           0.195                  0.004167   \n",
      "\n",
      "   moment_potential_nm  mw_potential       coordinates  magnitude_category  \n",
      "0         1.053000e+20      2.648286     40.8394, 28.4                 Low  \n",
      "1         1.053000e+20      2.648286  40.8442, 28.3108                 Low  \n",
      "2         1.053000e+20      2.648286  40.8353, 28.3511                 Low  \n",
      "3         1.053000e+20      2.648286  40.8567, 28.3014            Moderate  \n",
      "4         1.053000e+20      2.648286  40.8467, 28.4094                 Low  \n",
      "\n",
      "[5 rows x 25 columns]\n"
     ]
    }
   ],
   "source": [
    "df.columns = [col.strip().replace(' ', '_').lower() for col in df.columns]\n",
    "\n",
    "df = df.drop_duplicates()\n",
    "\n",
    "df['fault_length_km'] = df['fault_length_km'].replace(0, np.nan)\n",
    "df['fault_length_km'] = df['fault_length_km'].fillna(df['fault_length_km'].mean())\n",
    "\n",
    "print(df.head())"
   ]
  },
  {
   "cell_type": "code",
   "execution_count": null,
   "id": "b832857c-9493-4694-994e-a11992ed871b",
   "metadata": {},
   "outputs": [],
   "source": []
  }
 ],
 "metadata": {
  "kernelspec": {
   "display_name": "Python [conda env:base] *",
   "language": "python",
   "name": "conda-base-py"
  },
  "language_info": {
   "codemirror_mode": {
    "name": "ipython",
    "version": 3
   },
   "file_extension": ".py",
   "mimetype": "text/x-python",
   "name": "python",
   "nbconvert_exporter": "python",
   "pygments_lexer": "ipython3",
   "version": "3.12.7"
  }
 },
 "nbformat": 4,
 "nbformat_minor": 5
}
